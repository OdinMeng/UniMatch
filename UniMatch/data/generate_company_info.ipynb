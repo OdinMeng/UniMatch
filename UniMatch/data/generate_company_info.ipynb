{
 "cells": [
  {
   "cell_type": "markdown",
   "metadata": {},
   "source": [
    "## Populate Vector DB for company information"
   ]
  },
  {
   "cell_type": "code",
   "execution_count": 1,
   "metadata": {},
   "outputs": [],
   "source": [
    "from UniMatch.chatbot.rag.extract_data import *\n",
    "from UniMatch.chatbot.rag.manage_pinecone import *\n",
    "from UniMatch.chatbot.rag.query_pinecone import *\n",
    "from UniMatch.data.loader import get_pdfs_folder, get_pdfs"
   ]
  },
  {
   "cell_type": "code",
   "execution_count": 2,
   "metadata": {},
   "outputs": [],
   "source": [
    "docs = get_text_from_pdfs(get_pdfs_folder())"
   ]
  },
  {
   "cell_type": "code",
   "execution_count": 3,
   "metadata": {},
   "outputs": [
    {
     "data": {
      "text/plain": [
       "0"
      ]
     },
     "execution_count": 3,
     "metadata": {},
     "output_type": "execute_result"
    }
   ],
   "source": [
    "clear_db('unimatch')"
   ]
  },
  {
   "cell_type": "code",
   "execution_count": 4,
   "metadata": {},
   "outputs": [
    {
     "data": {
      "text/plain": [
       "[[Document(metadata={'source': 'c:\\\\Users\\\\ACER\\\\Desktop\\\\UniMatch\\\\UniMatch\\\\data\\\\pdf\\\\chatbot_info.pdf', 'file_path': 'c:\\\\Users\\\\ACER\\\\Desktop\\\\UniMatch\\\\UniMatch\\\\data\\\\pdf\\\\chatbot_info.pdf', 'page': 0, 'total_pages': 3, 'format': 'PDF 1.7', 'title': '', 'author': '', 'subject': '', 'keywords': '', 'creator': 'Mozilla Firefox 133.0', 'producer': 'cairo 1.18.0 (https://cairographics.org)', 'creationDate': 'D:20241201131133Z', 'modDate': '', 'trapped': ''}, page_content='Chatbot User Manual\\nWelcome to UniMatch!\\nWe’re thrilled to introduce you to UniMatch, your intelligent companion for\\nnavigating the complexities of university applications, scholarships, and academic\\nprograms. Designed with a deep understanding of student needs, this chatbot will\\nprovide personalized recommendations and information tailored to your\\npreferences. Let’s walk you through how you can make the most out of this tool!\\nGetting Started\\nUsing the chatbot is simple and intuitive. Begin by accessing it through the website.\\nIf you’re new, we recommend creating an account to save your preferences and\\nensure the chatbot’s responses grow more accurate and customized over time.\\nExisting users can simply log in and continue their journey.\\nOnce you’re logged in, you’ll find a streamlined interface. The central chat window is\\nwhere you’ll type your questions or commands. If at any point you feel unsure, you\\ncan ask help with the chatbot.\\nPersonalizing the Chatbot\\nThe chatbot thrives on understanding you better. By sharing your preferences, you\\nenable it to tailor its recommendations to your needs. For instance, you can inform\\nthe chatbot about the subjects or industries that excite you. Simply type something\\nlike, “I’m interested in studying artificial intelligence,” and your preference will be\\nnoted. If your priorities shift over time, you can update this information just as\\neasily, saying, “Switch my focus to robotics,” or remove a preference altogether by\\nstating, “Forget about my interest in online courses.”\\nThis dynamic interaction ensures that your recommendations stay relevant as your\\naspirations evolve.\\nMoreover, you can also “weigh” your importances, by saying that some of them are\\nmore important than others. One way to do it is to assign them a number.\\nDon’t worry if you are concerned about your data! At any time, we guarantee that you\\ncan delete them by asking the bot ‘Delete all my preferences’, or just using the\\ninterface to delete the account. Data honesty and protection is our priority, as our\\nfocus is serving the customers.\\nHow Matches Work\\n'),\n",
       "  Document(metadata={'source': 'c:\\\\Users\\\\ACER\\\\Desktop\\\\UniMatch\\\\UniMatch\\\\data\\\\pdf\\\\chatbot_info.pdf', 'file_path': 'c:\\\\Users\\\\ACER\\\\Desktop\\\\UniMatch\\\\UniMatch\\\\data\\\\pdf\\\\chatbot_info.pdf', 'page': 1, 'total_pages': 3, 'format': 'PDF 1.7', 'title': '', 'author': '', 'subject': '', 'keywords': '', 'creator': 'Mozilla Firefox 133.0', 'producer': 'cairo 1.18.0 (https://cairographics.org)', 'creationDate': 'D:20241201131133Z', 'modDate': '', 'trapped': ''}, page_content='As soon as you are ready to get some university recommendations tailored to your\\npreferences, just say something like, “Can you make some university matches?”; the\\nchatbot will analyze your preferences—such as your fields of interest, budget,\\nlocation, and desired degree level—and compare them with its extensive database to\\nsuggest the best matches.\\nAfter receiving these suggestions, you can access them again by saying, “What were\\nmy saved matches programs?”\\nYou can also refine your recommendations dynamically by adding follow-up criteria,\\nsuch as, “Filter these matches to only include universities with tuition under\\n$20,000” or “Can you recommend some degrees involving AI?”; with this interactive\\nand adaptive matching process, the chatbot ensures you have a curated list of\\nopportunities perfectly aligned with your academic goals.\\nUploading External Documents\\nThe chatbot goes beyond its internal database to process external information. For\\ninstance, if you’ve come across a PDF outlining a university’s programs, upload it to\\nthe chatbot and say, “Analyze this document”. Then, the chatbot will analyze your\\ndocument and is able to answer your question, while taking into account your\\npreferences.\\nSimilarly, you can share a website link and ask the chatbot to extract relevant details,\\ntailoring to your preferences where possible. This feature is particularly helpful when\\ncomparing multiple options or verifying information.\\nHowever, let it be duly noted that as of now you are only able to upload one\\ndocument or one website at a time; this is due to our technical limitations, as we do\\nnot have sufficient budget to store an infinite amount of information.\\nTalking with the Chatbot\\nWhile the chatbot is focused on helping you with your academic journey, it also offers\\nsome capabilities in conversation. For example, you can ask about our company: you\\ncan inquire about its background, such as, “Who created this chatbot?” or delve into\\nthe values and mission of the company behind it. This transparency ensures you\\nknow exactly what to expect from your interaction.\\nThough not every interaction needs to be task-oriented. If you’re curious about\\ngeneral topics or simply want a friendly chat, the chatbot is happy to engage. Ask fun\\nquestions like, “What’s an interesting fact about AI?” or practical ones like, “Why\\nshould I study abroad?” This conversational capability makes it feel less like a tool\\nand more like a companion.\\nHowever, do not expect perfect answers! Remember that this chatbot is still tailored\\ntoward academic themes.\\n'),\n",
       "  Document(metadata={'source': 'c:\\\\Users\\\\ACER\\\\Desktop\\\\UniMatch\\\\UniMatch\\\\data\\\\pdf\\\\chatbot_info.pdf', 'file_path': 'c:\\\\Users\\\\ACER\\\\Desktop\\\\UniMatch\\\\UniMatch\\\\data\\\\pdf\\\\chatbot_info.pdf', 'page': 2, 'total_pages': 3, 'format': 'PDF 1.7', 'title': '', 'author': '', 'subject': '', 'keywords': '', 'creator': 'Mozilla Firefox 133.0', 'producer': 'cairo 1.18.0 (https://cairographics.org)', 'creationDate': 'D:20241201131133Z', 'modDate': '', 'trapped': ''}, page_content='Conclusion\\nUniMatch is more than just a tool—it’s your partner in navigating the complex world\\nof academia. Whether you’re exploring courses, seeking financial aid, or simply\\nchatting for fun, it’s here to make your journey easier and more informed. Dive in,\\nexplore, and unlock the potential of personalized guidance. Have fun!\\n')],\n",
       " [Document(metadata={'source': 'c:\\\\Users\\\\ACER\\\\Desktop\\\\UniMatch\\\\UniMatch\\\\data\\\\pdf\\\\support_info.pdf', 'file_path': 'c:\\\\Users\\\\ACER\\\\Desktop\\\\UniMatch\\\\UniMatch\\\\data\\\\pdf\\\\support_info.pdf', 'page': 0, 'total_pages': 2, 'format': 'PDF 1.7', 'title': '', 'author': '', 'subject': '', 'keywords': '', 'creator': 'Mozilla Firefox 133.0', 'producer': 'cairo 1.18.0 (https://cairographics.org)', 'creationDate': 'D:20241201131041Z', 'modDate': '', 'trapped': ''}, page_content=\"Support & Contact Info PDF\\nUniMatch: Support & Contact Information\\nAt UniMatch, customer satisfaction is our main goal. We provide user resources,\\ntechnical support, and a strong support system to guarantee you have the greatest\\nexperience. You can find all the information you require to utilize our support\\nservices below:\\n1. Customer Support: Our customer service team is available to assist you with\\nany questions or concerns. We offer multiple channels to make it easier for you to get\\nin touch:\\n-\\nPhone Support: +351 210 893 723 ; Available every day, from 8AM to 10PM\\nGMT.\\n-\\nEmail Support: support@unimatch.com - We’ll respond to your inquiries\\nwithin 24 hours.\\n-\\nSocial Media Support: @unimatch on Facebook, Instagram, and X. Follow our\\nofficial social media accounts to keep up with any update.\\n-\\nThe Chabot: In some cases, the chatbot itself might be enough to provide you\\ntechnical support!\\n2. Frequently Asked Questions (FAQs):\\nOur FAQs are designed to provide instant answers to common questions. Topics\\ninclude:\\n-\\nAccounts\\n-\\nPersonal data & preferences\\n-\\nPrivacy concerns\\n-\\nUniversity/Course queries\\n-\\nMatching results breakdown\\n-\\nVisit our FAQ page for more questions than the ones included in this file.\\nOur support team is always ready to assist you with any questions or issues you may\\nhave. Contact us at any moment, and we'll make sure that you will enjoy working\\nwith us!\\nQ. Is it necessary to have an account?\\n\"),\n",
       "  Document(metadata={'source': 'c:\\\\Users\\\\ACER\\\\Desktop\\\\UniMatch\\\\UniMatch\\\\data\\\\pdf\\\\support_info.pdf', 'file_path': 'c:\\\\Users\\\\ACER\\\\Desktop\\\\UniMatch\\\\UniMatch\\\\data\\\\pdf\\\\support_info.pdf', 'page': 1, 'total_pages': 2, 'format': 'PDF 1.7', 'title': '', 'author': '', 'subject': '', 'keywords': '', 'creator': 'Mozilla Firefox 133.0', 'producer': 'cairo 1.18.0 (https://cairographics.org)', 'creationDate': 'D:20241201131041Z', 'modDate': '', 'trapped': ''}, page_content='-\\nNo, you can interact with the chatbot as a “guest” so you can try out its\\npotentialities; however, it won’t be possible to add any form of\\npersonalization.\\nQ. Do I have to pay anything?\\n-\\nNo, UniMatch is a completely free service! In the future we might plan to add\\nexpansions which require a form of payment, but as of now it’s completely\\nfree.\\nQ. How do I fill out my preferences about the university?\\n-\\nAll you have to do is talk about it to the chatbot, so say something like “I\\nwould like a university with [X] characteristics”, and the chatbot will\\nautomatically fill out your preferences!\\nQ. Can I use the chatbot without sharing any private information?\\n-\\nTechnically it is possible to receive the chatbot’s services without sharing any\\nsort of personal data, it is still the best to share a few pointers for the chatbot;\\nin this way, we can guarantee a completely personalized interaction with the\\nchatbot.\\nQ. Can I delete my account and data permanently?\\n-\\nYes! UniMatch is completely GDPR-compliant, as we guarantee total\\ntransparency in personal information handling. When you want to delete your\\naccount with your data, you can either ask the chatbot to do it or do it via the\\nuser interface.\\nQ. Does the chatbot support any other languages than English?\\n-\\nWhile the chatbot is able to handle conversations in other languages, it is still\\nthe best to maintain the interactions in English, to avoid potential errors.\\nHowever, it is totally safe to upload external documents in foreign languages,\\nas the chatbot is specifically designed to translate the documents for you.\\n')],\n",
       " [Document(metadata={'source': 'c:\\\\Users\\\\ACER\\\\Desktop\\\\UniMatch\\\\UniMatch\\\\data\\\\pdf\\\\unimatch_info.pdf', 'file_path': 'c:\\\\Users\\\\ACER\\\\Desktop\\\\UniMatch\\\\UniMatch\\\\data\\\\pdf\\\\unimatch_info.pdf', 'page': 0, 'total_pages': 2, 'format': 'PDF 1.7', 'title': '', 'author': '', 'subject': '', 'keywords': '', 'creator': 'Mozilla Firefox 133.0', 'producer': 'cairo 1.18.0 (https://cairographics.org)', 'creationDate': 'D:20241201133006Z', 'modDate': '', 'trapped': ''}, page_content='Company PDF\\nAbout UniMatch\\nUniMatch is a company created with the main goal of helping graduated students\\nfind suitable universities and/or areas of study, assisting their transition to higher\\neducation. It intends to achieve this goal by making the best use of LLMs and\\ngenerative AI technologies to provide the users with a new level of personalization\\nand to find information which would be hard to access.\\nThe platform provides information about a wide range of university courses and their\\nsubjects, and any requirements for applying. It also aids students discover\\ninternational mobility opportunities, and applicable scholarships for any area of\\nstudy. UniMatch is designed for a wide range of users, including high school\\ngraduates looking for undergraduate programs, undergraduates seeking Master’s\\ndegrees, and those interested in pursuing PhDs. By making the process simpler and\\nmore personalized, UniMatch ensures students can make better decisions for their\\neducation and future careers.\\nHow was UniMatch born?\\nUniMatch is a startup born as a university project for the Capstone Project course (at\\nNOVA IMS, Lisbon), driven by the desire to address a common challenge faced by\\nstudents.\\nThe idea came from the creators seeing many of their peers struggle to choose a\\nuniversity, often feeling lost and unsure. UniMatch was created to make this process\\neasier by providing personalized advice to help students pick the right university and\\nprogram for their interests and goals.\\nFuture Perspectives\\nUniMatch is a small startup focused on showcasing how generative AI can solve\\nindustry challenges, such as helping students make informed decisions about their\\neducation or streamlining administrative processes in universities.\\nCurrently, the internal database contains only basic information—such as the name,\\nlocation, and main website—on about 0.21% of universities worldwide, and only 20%\\nof these have detailed data on courses, prerequisites, scholarships, and other relevant\\ndetails. As a result, UniMatch is still in the early stages of development.\\nHowever, we love to believe that the potential is there: UniMatch could grow into a\\nmainstream tool for students by providing personalized university recommendations\\nbased on their unique preferences, academic background, and career goals, offering\\n'),\n",
       "  Document(metadata={'source': 'c:\\\\Users\\\\ACER\\\\Desktop\\\\UniMatch\\\\UniMatch\\\\data\\\\pdf\\\\unimatch_info.pdf', 'file_path': 'c:\\\\Users\\\\ACER\\\\Desktop\\\\UniMatch\\\\UniMatch\\\\data\\\\pdf\\\\unimatch_info.pdf', 'page': 1, 'total_pages': 2, 'format': 'PDF 1.7', 'title': '', 'author': '', 'subject': '', 'keywords': '', 'creator': 'Mozilla Firefox 133.0', 'producer': 'cairo 1.18.0 (https://cairographics.org)', 'creationDate': 'D:20241201133006Z', 'modDate': '', 'trapped': ''}, page_content='detailed insights to help them make well-informed decisions about their future. In\\nthe future, we might expand our database to cover all universities in the European\\nUnion and add new features like multimedia support.\\nAbout the Team\\nUniMatch has been created by five highly motivated students of Data Science at\\nNOVA IMS: let us present ourselves.\\n-\\nDino Meng is an Italian exchange student from the University of Trieste,\\nwho is pursuing a bachelor’s degree in “Artificial Intelligence & Data\\nAnalytics”, currently in the second year. His main interests include pure\\nmathematics, machine learning, and coding. Moreover, Dino is also an\\nenthusiast in generative AI, as he foresees a lot of potential for such\\ntechnologies.\\n-\\nLourenço Passeiro is a third-year student at NOVA IMS who is pursuing a\\ndegree in Data Science, passionate about using machine learning to drive\\ninnovation and solve real-world problems, with aspirations to create impactful\\nmachine learning models to improve decision-making and daily lives. He has\\nexperience with supervised and unsupervised learning techniques, including\\nregression, classification, clustering, and deep learning.\\n-\\nMiguel Marques is a third-year student at NOVA IMS who is pursuing a\\ndegree in Data Science. He is an enthusiast in data science and databases, with\\na strong interest in extracting insights from complex datasets. Miguel has\\nextensive experience with database management systems, including SQL, and\\nenjoys designing efficient schemas and optimizing queries to handle large\\nvolumes of data.\\n-\\nPeter Lekszycki is a third-year student at NOVA IMS who is pursuing a\\ndegree in Data Science. He is passionate about using data to drive innovation\\nand solve real-world problems, with a strong interest in entrepreneurship and\\naspirations to create a data-centric startup that leverages AI to improve\\ndecision-making and daily lives.\\n-\\nTomás Gonçalves is a third-year student at NOVA IMS who is pursuing a\\ndegree in Data Science, with a focus on data analytics and generating business\\ninsights to drive informed decision-making. They have experience with data\\ncleaning, exploratory data analysis, and visualization techniques, using tools\\nlike Python, SQL, and PowerBI.\\n')]]"
      ]
     },
     "execution_count": 4,
     "metadata": {},
     "output_type": "execute_result"
    }
   ],
   "source": [
    "docs"
   ]
  },
  {
   "cell_type": "code",
   "execution_count": 5,
   "metadata": {},
   "outputs": [
    {
     "data": {
      "text/plain": [
       "0"
      ]
     },
     "execution_count": 5,
     "metadata": {},
     "output_type": "execute_result"
    }
   ],
   "source": [
    "store_documents('unimatch', docs)"
   ]
  },
  {
   "cell_type": "markdown",
   "metadata": {},
   "source": [
    "## Testing"
   ]
  },
  {
   "cell_type": "code",
   "execution_count": 6,
   "metadata": {},
   "outputs": [
    {
     "data": {
      "text/plain": [
       "'my saved matches programs?”\\nYou can also refine your recommendations dynamically by adding follow-up criteria,\\nsuch as, “Filter these matches to only include universities with tuition under\\n$20,000” or “Can you recommend some degrees involving AI?”; with this interactive\\nand adaptive matching process, the chatbot ensures you have a curated list of\\nopportunities perfectly aligned with your academic goals.\\nUploading External Documents'"
      ]
     },
     "execution_count": 6,
     "metadata": {},
     "output_type": "execute_result"
    }
   ],
   "source": [
    "get_context_from_pineconedb('unimatch', 'How do I make matches')"
   ]
  },
  {
   "cell_type": "code",
   "execution_count": 7,
   "metadata": {},
   "outputs": [
    {
     "data": {
      "text/plain": [
       "'-\\nNo, you can interact with the chatbot as a “guest” so you can try out its\\npotentialities; however, it won’t be possible to add any form of\\npersonalization.\\nQ. Do I have to pay anything?\\n-\\nNo, UniMatch is a completely free service! In the future we might plan to add\\nexpansions which require a form of payment, but as of now it’s completely\\nfree.\\nQ. How do I fill out my preferences about the university?\\n-\\nAll you have to do is talk about it to the chatbot, so say something like “I'"
      ]
     },
     "execution_count": 7,
     "metadata": {},
     "output_type": "execute_result"
    }
   ],
   "source": [
    "get_context_from_pineconedb('unimatch', 'How much does it cost')"
   ]
  },
  {
   "cell_type": "code",
   "execution_count": 9,
   "metadata": {},
   "outputs": [
    {
     "data": {
      "text/plain": [
       "'education and future careers.\\nHow was UniMatch born?\\nUniMatch is a startup born as a university project for the Capstone Project course (at\\nNOVA IMS, Lisbon), driven by the desire to address a common challenge faced by\\nstudents.\\nThe idea came from the creators seeing many of their peers struggle to choose a\\nuniversity, often feeling lost and unsure. UniMatch was created to make this process\\neasier by providing personalized advice to help students pick the right university and'"
      ]
     },
     "execution_count": 9,
     "metadata": {},
     "output_type": "execute_result"
    }
   ],
   "source": [
    "get_context_from_pineconedb('unimatch', 'Who are the creators of UniMatch?')"
   ]
  },
  {
   "cell_type": "code",
   "execution_count": null,
   "metadata": {},
   "outputs": [],
   "source": []
  }
 ],
 "metadata": {
  "kernelspec": {
   "display_name": "base",
   "language": "python",
   "name": "python3"
  },
  "language_info": {
   "codemirror_mode": {
    "name": "ipython",
    "version": 3
   },
   "file_extension": ".py",
   "mimetype": "text/x-python",
   "name": "python",
   "nbconvert_exporter": "python",
   "pygments_lexer": "ipython3",
   "version": "3.12.7"
  }
 },
 "nbformat": 4,
 "nbformat_minor": 2
}
