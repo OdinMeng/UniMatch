{
 "cells": [
  {
   "cell_type": "code",
   "execution_count": 12,
   "metadata": {},
   "outputs": [],
   "source": [
    "import sqlite3"
   ]
  },
  {
   "cell_type": "code",
   "execution_count": 13,
   "metadata": {},
   "outputs": [],
   "source": [
    "con = sqlite3.connect('unimatch.db')"
   ]
  },
  {
   "cell_type": "code",
   "execution_count": 14,
   "metadata": {},
   "outputs": [],
   "source": [
    "curse = con.cursor()"
   ]
  },
  {
   "cell_type": "code",
   "execution_count": 16,
   "metadata": {},
   "outputs": [],
   "source": [
    "stuff = curse.execute('''            SELECT U.IDUNIVERSITY, C.IDCOURSE, U.UNIVERSITYNAME || ' -> ' || COALESCE(CS.TXT, C.COURSENAME) \n",
    "            FROM COURSES C, UNIVERSITIES U, COURSES_SEARCH CS \n",
    "            WHERE C.AREA=1 AND C.IDUNIVERSITY = U.IDUNIVERSITY AND C.IDCOURSE = CS.IDCOURSE; ''').fetchall()"
   ]
  },
  {
   "cell_type": "code",
   "execution_count": 18,
   "metadata": {},
   "outputs": [
    {
     "data": {
      "text/plain": [
       "\"(48, 1, 'Dubna International University for Nature, Society and Man -> Physics of atomic nuclei and elementary particles')\""
      ]
     },
     "metadata": {},
     "output_type": "display_data"
    },
    {
     "data": {
      "text/plain": [
       "\"(43, 2, 'Technical University of Budapest -> Pre-engineering Programme BME’s two-term Pre-engineering Programme provides you with the skills and knowledge you need to pursue your studies Preparatory Course Technology and Science English')\""
      ]
     },
     "metadata": {},
     "output_type": "display_data"
    },
    {
     "data": {
      "text/plain": [
       "'(43, 3, \"Technical University of Budapest -> BSc in Mechanical Engineering Mechanical engineering is one of the broadest and most versatile engineering professions, reflected by our curriculum, which provides a solid intellectual foundation in this field.  Bachelor\\'s Technology and Science English\")'"
      ]
     },
     "metadata": {},
     "output_type": "display_data"
    },
    {
     "data": {
      "text/plain": [
       "'(43, 7, \"Technical University of Budapest -> Construction Information Technology Engineer MSc Become an engineer who masters the information and communication technologies necessary for the design and implementation of facilities. Master\\'s Technology and Science English\")'"
      ]
     },
     "metadata": {},
     "output_type": "display_data"
    },
    {
     "data": {
      "text/plain": [
       "'(43, 8, \"Technical University of Budapest -> Infrastructural Engineer MSc We train you to carry out civil engineering related development, research, and project management, and offer expertise on planning complex infrastructural facilities. Master\\'s Technology and Science English\")'"
      ]
     },
     "metadata": {},
     "output_type": "display_data"
    },
    {
     "data": {
      "text/plain": [
       "'(43, 9, \"Technical University of Budapest -> Logistics Engineer MSc Logistics engineer students receive a balanced combination of courses on logistics engineering & informatics as well as supply chain management. Master\\'s Technology and Science English\")'"
      ]
     },
     "metadata": {},
     "output_type": "display_data"
    },
    {
     "data": {
      "text/plain": [
       "'(43, 10, \"Technical University of Budapest -> Structural Engineer MSc You will learn how to carry out structural engineering related development, research, and management tasks,  and acquire expertise on planning complex facilities. Master\\'s Technology and Science English\")'"
      ]
     },
     "metadata": {},
     "output_type": "display_data"
    },
    {
     "data": {
      "text/plain": [
       "\"(43, 11, 'Technical University of Budapest -> PhD in Architecture Engineering Studies in the Pál Csonka Doctoral School cover scientific problems related to architecture, construction, structural mechanics, geometry and applied mechanics. PhD Technology and Science English')\""
      ]
     },
     "metadata": {},
     "output_type": "display_data"
    },
    {
     "data": {
      "text/plain": [
       "'(43, 12, \"Technical University of Budapest -> PhD in Electrical Engineering Research and innovation in the field of electrical engineering: Shaping tomorrow\\'s electrical engineers PhD Technology and Science English\")'"
      ]
     },
     "metadata": {},
     "output_type": "display_data"
    },
    {
     "data": {
      "text/plain": [
       "\"(43, 13, 'Technical University of Budapest -> PhD in Physics Enter the world of discoveries and inventions, and build an exciting carrier by becoming a highly qualified researcher in physics! PhD Technology and Science English')\""
      ]
     },
     "metadata": {},
     "output_type": "display_data"
    },
    {
     "data": {
      "text/plain": [
       "'(45, 15, \"Viterbo State University -> Agriculture and Environmental Sciences The MSc Course gives to the graduates depth and specialized knowledge and skills relating to both cropsand livestock production. These are aimed at the design and management of innovations in qualitative and quantitative agricultural production, through a systemic approach, by combining knowledge and biological needs with farms and landscape resources, technical means and environmental sustainability.The common basic teachings address the topics of research methodology in agriculture, innovations and management of agricultural and livestock systems,\\\\nsustainable strategies in crops protection, obtaining quality plant products, agricultural policies, management of agricultural enterprises and investment analysis, agricultural mechanization, rural landscape planning and job safety in agriculture in their innovative aspects. Bachelor\\'s Degree Technology and Science Italian\")'"
      ]
     },
     "metadata": {},
     "output_type": "display_data"
    },
    {
     "data": {
      "text/plain": [
       "'(45, 16, \"Viterbo State University -> Landscape, Environmental Planning and Design The Landscape, planning and design Degree Course issues from an Academic synergy between Tuscia University (former Faculty of Agriculture) and the Faculty of Architecture of Sapienza University of Rome.The Course seeks to develop the discipline and the knowledge necessary to address the important environmental and design issues faced by society.Meeting the evergrowing demand for highly qualified professionals , both at national and European level, being\\\\xa0 a priority goal, the Curriculum\\\\xa0 will provide the students with\\\\xa0\\\\xa0 relevant cultural competence and\\\\xa0 skills in the analysis, design, management and\\\\xa0 promotion\\\\xa0 of the territory both in the rural and\\\\xa0 peri-urban/urban areas.Qualified graduates will\\\\xa0 be able to deal, with\\\\xa0 an innovating, interdisciplinary\\\\xa0 approach,\\\\xa0 with\\\\xa0\\\\xa0 large-scale environmental ,urban and\\\\xa0 socio-economic\\\\xa0 issues.Also, in the light of\\\\xa0 the ongoing and future\\\\xa0 and foreseeable\\\\xa0 environmental transformations, the course seeks to develop the competence\\\\xa0 and\\\\xa0\\\\xa0\\\\xa0 operational skills in infrastructural,\\\\xa0 environmental and\\\\xa0 landscape planning in particular, as well as in\\\\xa0 agroforestry.This Joint University Degree\\\\xa0 has its main premises at the Faculty of Architecture of “La\\\\xa0 Sapienza” University (Piazza di Fontanella di Borghese, Rome).The administrative offices\\\\xa0 of this Joint University Degree\\\\xa0 are hosted by\\\\xa0 Università della Tuscia\\\\xa0 which is in charge of all\\\\xa0 enrolment procedures. The Degree has no numerus clausus\\\\xa0 and no enrolment restrictions are envisaged but the candidates are expected to undergo an entry test. Bachelor\\'s Degree Technology and Science Italian\")'"
      ]
     },
     "metadata": {},
     "output_type": "display_data"
    },
    {
     "data": {
      "text/plain": [
       "'(45, 17, \"Viterbo State University -> Technologies for Green Buildings The professional orientation Bachelor’s Degree program in Techniques for Bio-construction, in the L-P01 – Professional Orientation Degree Class in Technical Professions for Building and Territory, aims to train a versatile graduate technician in the field of construction and civil and rural infrastructure, with particular attention to bio-construction and sustainable building design.The program includes the provision of basic and characterizing activities in the areas of topography and geomatics, value estimation, drawing and representation, architectural composition, science and technology of constructions, legal-administrative management. These activities meet the requirements set by Ministerial Decree 446/220 of the Ministry of University and Research (MUR) for the preparation of graduated surveyors and graduated industrial construction experts. Bachelor\\'s Degree Technology and Science Italian\")'"
      ]
     },
     "metadata": {},
     "output_type": "display_data"
    },
    {
     "data": {
      "text/plain": [
       "'(45, 20, \"Viterbo State University -> Experimental Biology and Bioinfomatics The Bachelor’s degree aims to train graduates with a solid basic knowledge of biological disciplines (biology of microorganisms, plant, and animal organisms, including humans), at the cellular, molecular, functional, and eco-evolutionary level.The training course is aimed at the acquisition of theoretical and experimental knowledge that allows an organic and integrated vision of living beings and the interactions between organisms and the environment.The course aims to provide the graduate with in-depth knowledge to analyse the diversity of life forms and their interactions, starting from the level of populations and species, up to that of biocoenoses and ecosystems. This knowledge will be integrated with others, concerning: environmental biomonitoring techniques, the causes of disturbance in biodiversity, strategies for the conservation and management of biodiversity also through the use of specific biological indicators, the structure and composition of terrestrial and marine environments. The degree course includes training activities, lectures, laboratory, and field exercises and contemplates the performance of external activities. Master\\'s Degree Technology and Science Italian\")'"
      ]
     },
     "metadata": {},
     "output_type": "display_data"
    },
    {
     "data": {
      "text/plain": [
       "'(45, 21, \"Viterbo State University -> Digital Management of Agriculture and Mountain Areas  The Master’s Degree course “Digital Management of Agriculture and Mountain Areas” (GEDAM) is aimed attraining agronomist or forestry professionals, with particular specific skills in the management of digitaldata, sensors applied to agriculture and forests, precision agriculture techniques, the management ofinformationsystems applied to the management of the mountain territory and agriculture. The graduate will be experienced in the introduction and management of technological innovations in agriculture and inthe mountain areas. The course is part of the LM69 (Agricultural Sciences and Technologies) and LM73 (Forestry and Environmental Sciences and Technologies) interclasses. The interclass MD allows it to differentiate itself from many national training offers as it does not focus only on the strictly agricultural or forestry field, but the vision present in the two MD classes is integrated providing the degree in GEDAM with a distinct character of uniqueness.The Master’s Degree course aims to train technicians with skills in two major areas of intervention in the National Recovery and Resilience Plan (PNRR): Green Transition and Digital Transformation. Graduates in GEDAM will be able to use digital tools for efficient agricultural production and proper management of the territory with particular reference to the mountain areas.The proposed professional figure will be able to deal with the management of the territory more effectively\\\\nby adopting the most innovative technologies. Moreover, the professional figure, thanks to the strong innovative character and the strong skills in two of the six pillars of the PNRR, makes the graduate in GEDAM particularly in demand in the world of work, thanks also to his skills which are currently difficult to find. The functions that GEDAM graduates can perform will range from research and development in companies in the agricultural, agro-food, livestock and forestry sectors, to collaboration with companies producing technologies applied to agriculture and forests, to territorial planning and control bodies.The setting of the MD and the topics covered lend themselves to the development of an international path: in this regard, a collaboration with the Agricultural University of Tirana (Albania) is in progress, with which a specific agreement will be formalized, for the start of a master’s degree (dual degree) in collaboration with the forest science faculty of the same university.Unlike other degree and master courses on precision agriculture, which are very oriented towards large farms, GEDAM addresses techniques and methodologies that are also applicable to small and medium- sized enterprises (SMEs) and local realities, such as those characterizing the mountain environment.The course offers teachings such as: information systems, fundamentals of digital engineering applied to agriculture, digital techniques in agriculture, drones and detection systems, innovation in the management of phytosanitary problems, and digital technologies applied to genetics. The course is currently divided into two curricula: the first concerning “Digital Agriculture”, the second concerning the “Digital management of the mountain territory”. In the “Digital Agriculture” curriculum there will be teachings regarding digital cartography of the territory and soils, digital management of water resources and digital applications in animal husbandry, machines and systems for precision agriculture. The curriculum “Management of the mountain territory” will instead have teachings oriented to the digital management of water resources and forest heritage, tourism, environmental monitoring and energy supplies.The knowledge acquired in both curricula will also be developed through practical laboratory and field exercises, interdisciplinary exercises carried out off-site, seminars and internships at companies of the\\\\xa0 sector. Students will have the opportunity to experience abroad, thanks to agreements with international universities already in place for DAFNE’s master’s degree courses.The title of master’s degree acquired through the course of study will allow you to participate in the state exam for qualification to the profession of agronomist and forestry doctor and to participate in PhDschools Master\\'s Degree Technology and Science Italian\")'"
      ]
     },
     "metadata": {},
     "output_type": "display_data"
    },
    {
     "data": {
      "text/plain": [
       "'(45, 22, \"Viterbo State University -> Food Science and Human Nutrition This Master’s Degree course aims to train highly qualified and specialized professional figures in the human nutrition field, by endowing the student with the adequate basic knowledge and the methodological skills necessary to evaluate the nutritional status of healthy or pathological subjects and to know in detail the chemical, biochemical, nutritional and nutrigenetic functions of the molecules present in food.\\\\nThe course prepares for the profession of nutritional biologist, therefore able to determine dietary nutritional paths for healthy and pathological subjects and for specific communities (school canteens, hospitals, sports canteens). In addition, the graduate will be able to carry out professions such as food educator, supervisor and effector of quality and food safety controls, collaborator in international programs for food availability in depressed areas, and researcher in the clinical-nutritional and food fields. Master\\'s Degree Technology and Science Italian\")'"
      ]
     },
     "metadata": {},
     "output_type": "display_data"
    },
    {
     "data": {
      "text/plain": [
       "\"(50, 25, 'University of Trieste -> PHYSICS')\""
      ]
     },
     "metadata": {},
     "output_type": "display_data"
    },
    {
     "data": {
      "text/plain": [
       "'(50, 26, \"University of Trieste -> ARTIFICIAL INTELLIGENCE AND DATA ANALYTICS The Bachelor\\'s degree program in Artificial Intelligence and Data Analytics provides students with a solid foundation, allowing them to understand, consciously use, and apply methodologies and techniques related to two contemporary cornerstones of information technology: Artificial Intelligence and Data Analytics.After a formative phase in the fundamental disciplines necessary for understanding these two areas (mathematics, statistics, and computer science), the course focuses on:Machine learning techniques based on data and formal methods typical of complex systems, with applications in various contexts.Traditional Artificial Intelligence methodologies based on logic and automatic reasoning.Methods and techniques for data management and analysis specific to the field of data science.In the professional field, graduates in Artificial Intelligence and Data Analytics can take on roles such as AI system managers and developers, data analysts, and data managers. Knowledge in artificial intelligence and data analytics can be further deepened and specialized in application domains through one of the two activated Master\\'s degrees (Data Science and Artificial Intelligence or Scientific Data Intensive Computing).For information on the application and the required documents, please visit the dedicated section.For more details on requirements, preparation verification, and admission procedures, visit the course\\'s website. Bachelor Degree Programme Technology and Science Italian\")'"
      ]
     },
     "metadata": {},
     "output_type": "display_data"
    },
    {
     "data": {
      "text/plain": [
       "'(50, 27, \"University of Trieste -> BIOMEDICAL LABORATORY TECHNIQUES The program qualifies graduates for the profession of Biomedical Laboratory Technician and trains healthcare professionals capable of autonomously carrying out the technical procedures required to apply diagnostic methods on biological materials or on people. Graduates perform laboratory analysis and research activities related to biomedical and biotechnological analyses, in particular biochemistry, microbiology and virology, pharmacotoxicology and galenic pharmacology, immunology and immunometry.The educational objective of the degree program is to provide students with suitable knowledge of biological and pathophysiological phenomena and with practical and clinical training, including the acquisition of behavioral skills, gained in the specific work context under the supervision and guidance of tutors.\\\\xa0For information on the application and the required documents, please visit the dedicated section.For more details on requirements, preparation verification, and admission procedures, visit the course\\'s website. Bachelor Degree Programme Technology and Science Italian\")'"
      ]
     },
     "metadata": {},
     "output_type": "display_data"
    },
    {
     "data": {
      "text/plain": [
       "\"(50, 29, 'University of Trieste -> COMPUTER ENGINEERING')\""
      ]
     },
     "metadata": {},
     "output_type": "display_data"
    },
    {
     "data": {
      "text/plain": [
       "\"(50, 31, 'University of Trieste -> NEUROSCIENCE')\""
      ]
     },
     "metadata": {},
     "output_type": "display_data"
    },
    {
     "data": {
      "text/plain": [
       "\"(50, 33, 'University of Trieste -> DATA SCIENCE AND ARTIFICIAL INTELLIGENCE')\""
      ]
     },
     "metadata": {},
     "output_type": "display_data"
    }
   ],
   "source": [
    "for thing in stuff:\n",
    "    display(str(thing))"
   ]
  },
  {
   "cell_type": "code",
   "execution_count": 10,
   "metadata": {},
   "outputs": [],
   "source": [
    "curse.close()\n",
    "con.close()"
   ]
  },
  {
   "cell_type": "code",
   "execution_count": 39,
   "metadata": {},
   "outputs": [],
   "source": [
    "from pydantic import BaseModel"
   ]
  },
  {
   "cell_type": "code",
   "execution_count": 40,
   "metadata": {},
   "outputs": [],
   "source": [
    "class MatchRankings(BaseModel):\n",
    "    IDUniversity: int\n",
    "    IDCourse: int\n",
    "    rating: int\n"
   ]
  },
  {
   "cell_type": "code",
   "execution_count": 41,
   "metadata": {},
   "outputs": [],
   "source": [
    "rankings = []"
   ]
  },
  {
   "cell_type": "code",
   "execution_count": 42,
   "metadata": {},
   "outputs": [],
   "source": [
    "rankings.append(MatchRankings(IDUniversity=10, IDCourse=2, rating=10))"
   ]
  },
  {
   "cell_type": "code",
   "execution_count": 43,
   "metadata": {},
   "outputs": [],
   "source": [
    "rankings.append(MatchRankings(IDUniversity=5, IDCourse=7, rating=50))"
   ]
  },
  {
   "cell_type": "code",
   "execution_count": 44,
   "metadata": {},
   "outputs": [],
   "source": [
    "rankings.append(MatchRankings(IDUniversity=2, IDCourse=3, rating=80))"
   ]
  },
  {
   "cell_type": "code",
   "execution_count": 45,
   "metadata": {},
   "outputs": [],
   "source": [
    "rankings.sort(key=lambda x: x.rating)"
   ]
  },
  {
   "cell_type": "code",
   "execution_count": 46,
   "metadata": {},
   "outputs": [
    {
     "data": {
      "text/plain": [
       "[MatchRankings(IDUniversity=10, IDCourse=2, rating=10),\n",
       " MatchRankings(IDUniversity=5, IDCourse=7, rating=50),\n",
       " MatchRankings(IDUniversity=2, IDCourse=3, rating=80)]"
      ]
     },
     "execution_count": 46,
     "metadata": {},
     "output_type": "execute_result"
    }
   ],
   "source": [
    "rankings"
   ]
  },
  {
   "cell_type": "code",
   "execution_count": 55,
   "metadata": {},
   "outputs": [],
   "source": [
    "best_candidates = rankings[::-1][0:2]\n"
   ]
  },
  {
   "cell_type": "code",
   "execution_count": 56,
   "metadata": {},
   "outputs": [
    {
     "data": {
      "text/plain": [
       "[MatchRankings(IDUniversity=2, IDCourse=3, rating=80),\n",
       " MatchRankings(IDUniversity=5, IDCourse=7, rating=50)]"
      ]
     },
     "execution_count": 56,
     "metadata": {},
     "output_type": "execute_result"
    }
   ],
   "source": [
    "best_candidates"
   ]
  },
  {
   "cell_type": "code",
   "execution_count": null,
   "metadata": {},
   "outputs": [],
   "source": []
  }
 ],
 "metadata": {
  "kernelspec": {
   "display_name": "base",
   "language": "python",
   "name": "python3"
  },
  "language_info": {
   "codemirror_mode": {
    "name": "ipython",
    "version": 3
   },
   "file_extension": ".py",
   "mimetype": "text/x-python",
   "name": "python",
   "nbconvert_exporter": "python",
   "pygments_lexer": "ipython3",
   "version": "3.12.7"
  }
 },
 "nbformat": 4,
 "nbformat_minor": 2
}
