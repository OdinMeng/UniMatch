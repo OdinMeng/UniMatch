{
 "cells": [
  {
   "cell_type": "code",
   "execution_count": 3,
   "metadata": {},
   "outputs": [
    {
     "name": "stdout",
     "output_type": "stream",
     "text": [
      "Database cleared\n"
     ]
    }
   ],
   "source": [
    "# Clear database if necessary\n",
    "import os\n",
    "\n",
    "try:\n",
    "    os.remove('./unimatch.db')\n",
    "except FileNotFoundError:\n",
    "    pass\n",
    "except Exception as e:\n",
    "    print('Error:', e)\n",
    "else:\n",
    "    print('Database cleared')\n"
   ]
  },
  {
   "cell_type": "code",
   "execution_count": 4,
   "metadata": {},
   "outputs": [],
   "source": [
    "import sqlite3\n",
    "\n",
    "# Create database\n",
    "with open('generate.sql', 'r') as f:\n",
    "  creator = f.read()\n",
    "\n",
    "conn = sqlite3.connect('unimatch.db')\n",
    "curse = conn.cursor()\n",
    "try:\n",
    "  curse.executescript(creator)\n",
    "except Exception as e:\n",
    "  print(e.with_traceback(None)) \n",
    "\n",
    "conn.commit()\n",
    "curse.close()\n",
    "conn.close()\n"
   ]
  },
  {
   "cell_type": "code",
   "execution_count": 5,
   "metadata": {},
   "outputs": [],
   "source": [
    "import pandas as pd\n",
    "import sqlite3\n",
    "\n",
    "# Establish connection to database\n",
    "conn = sqlite3.connect('unimatch.db')\n",
    "\n",
    "# Load dataset \n",
    "df = pd.read_excel('dataset.xlsx', sheet_name=None)\n",
    "\n",
    "for key in df.keys():\n",
    "    df[key].to_sql(key, conn, index=False, if_exists='append')\n",
    "\n",
    "conn.close()\n",
    "    "
   ]
  },
  {
   "cell_type": "code",
   "execution_count": 6,
   "metadata": {},
   "outputs": [],
   "source": [
    "import sqlite3\n",
    "conn = sqlite3.connect('unimatch.db')\n",
    "\n",
    "# Create Matches table as empty\n",
    "curse = conn.cursor()\n",
    "\n",
    "curse.execute('DROP TABLE IF EXISTS MATCHES')\n",
    "\n",
    "SQL_query = '''\n",
    "CREATE TABLE Matches (\n",
    "    IDUser INTEGER,\n",
    "    IDUniversity INTEGER,\n",
    "    IDCourse INTEGER,\n",
    "    FOREIGN KEY (IDUser) REFERENCES Users(IDUser),\n",
    "    FOREIGN KEY (IDUniversity) REFERENCES Universities(IDUniversity),\n",
    "    FOREIGN KEY (IDCourse) REFERENCES Courses(IDCourse)\n",
    ");\n",
    "'''\n",
    "curse.execute(SQL_query)\n",
    "conn.commit()\n",
    "\n",
    "curse.close()\n",
    "conn.close()"
   ]
  },
  {
   "cell_type": "code",
   "execution_count": 7,
   "metadata": {},
   "outputs": [],
   "source": [
    "# Populate fts5 databases for full-text-search capabilities\n",
    "\n",
    "conn = sqlite3.connect('unimatch.db')\n",
    "\n",
    "# Create Matches table as empty\n",
    "curse = conn.cursor()\n",
    "\n",
    "with open('populate_searches.sql', 'r') as f:\n",
    "    curse.executescript(f.read())\n",
    "\n",
    "conn.commit()\n",
    "\n",
    "curse.close()\n",
    "conn.close()"
   ]
  },
  {
   "cell_type": "code",
   "execution_count": null,
   "metadata": {},
   "outputs": [],
   "source": []
  },
  {
   "cell_type": "code",
   "execution_count": null,
   "metadata": {},
   "outputs": [],
   "source": []
  }
 ],
 "metadata": {
  "kernelspec": {
   "display_name": "base",
   "language": "python",
   "name": "python3"
  },
  "language_info": {
   "codemirror_mode": {
    "name": "ipython",
    "version": 3
   },
   "file_extension": ".py",
   "mimetype": "text/x-python",
   "name": "python",
   "nbconvert_exporter": "python",
   "pygments_lexer": "ipython3",
   "version": "3.12.7"
  }
 },
 "nbformat": 4,
 "nbformat_minor": 2
}
