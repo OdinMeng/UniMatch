{
 "cells": [
  {
   "cell_type": "code",
   "execution_count": null,
   "metadata": {},
   "outputs": [],
   "source": [
    "class UniInfo:\n",
    "    \"\"\"\n",
    "    Represents information about a university or course, including its opportunities.\n",
    "    \"\"\"\n",
    "    def __init__(self, name, location, courses, subjects, scholarship, areas):\n",
    "        self.name = name  # Name of the university\n",
    "        self.location = location  # Location of the university\n",
    "        self.courses = courses  # List of courses offered\n",
    "        self.subjects = subjects # List of subjects\n",
    "        self.scholarship = scholarship  # List of scholarships\n",
    "        self.areas = areas # List of areas\n",
    "\n",
    "\n",
    "    def __str__(self):\n",
    "        course_list = \", \".join(self.courses)\n",
    "        subjects_list = \", \".join(self.subjects)\n",
    "        scholarships_list = \", \".join(self.scholarship)\n",
    "        areas_list = \", \".join(self.areas)\n",
    "        return (\n",
    "            f\"University Name: {self.name}\\n\"\n",
    "            f\"Location: {self.location}\\n\"\n",
    "            f\"Courses Offered: {course_list}\\n\"\n",
    "            f\"Subjects Offered: {subjects_list}\"\n",
    "            f\"Scholarships: {scholarships_list}\"\n",
    "            f\"Areas: {areas_list}\"\n",
    "        )\n"
   ]
  },
  {
   "cell_type": "code",
   "execution_count": null,
   "metadata": {},
   "outputs": [],
   "source": [
    "class Matches:\n",
    "    \"\"\"\n",
    "    Represents a list of university/course matches.\n",
    "    \"\"\"\n",
    "    def __init__(self, matches):\n",
    "        self.matches = matches  # List of UniInfo objects\n",
    "\n",
    "    def __str__(self):\n",
    "        if not self.matches:\n",
    "            return \"No matches found.\"\n",
    "        return \"\\n\\n\".join([str(match) for match in self.matches])\n"
   ]
  },
  {
   "cell_type": "code",
   "execution_count": null,
   "metadata": {},
   "outputs": [],
   "source": [
    "class UserInfo:\n",
    "    \"\"\"\n",
    "    Represents information about the user and their preferences.\n",
    "    \"\"\"\n",
    "    def __init__(self, name, age, interests, preferred_location, preferred_courses, preferred_subjects, preferred_areas):\n",
    "        self.name = name  # User's name\n",
    "        self.age = age  # User's age\n",
    "        self.interests = interests  # User's interests\n",
    "        self.preferred_location = preferred_location  # Preferred university location\n",
    "        self.preferred_courses = preferred_courses  # Preferred courses\n",
    "        self.preferred_subjects = preferred_subjects # Prefered subjects\n",
    "        self.preferred_areas = preferred_areas # Preferred areas \n",
    "\n",
    "    def __str__(self):\n",
    "        interest_list = \", \".join(self.interests)\n",
    "        course_list = \", \".join(self.preferred_courses)\n",
    "        subjects_list = \", \".join(self.preferred_subjects)\n",
    "        areas_list = \", \".join(self.preferred_areas)\n",
    "        return (\n",
    "            f\"User Name: {self.name}\\n\"\n",
    "            f\"Age: {self.age}\\n\"\n",
    "            f\"Interests: {interest_list}\\n\"\n",
    "            f\"Preferred Location: {self.preferred_location}\\n\"\n",
    "            f\"Preferred Courses: {course_list}\"\n",
    "            f\"Preferred Subjects: {subjects_list}\"\n",
    "            f\"Preferred Areas: {areas_list}\"\n",
    "        )"
   ]
  }
 ],
 "metadata": {
  "kernelspec": {
   "display_name": "Python 3",
   "language": "python",
   "name": "python3"
  },
  "language_info": {
   "codemirror_mode": {
    "name": "ipython",
    "version": 3
   },
   "file_extension": ".py",
   "mimetype": "text/x-python",
   "name": "python",
   "nbconvert_exporter": "python",
   "pygments_lexer": "ipython3",
   "version": "3.11.8"
  }
 },
 "nbformat": 4,
 "nbformat_minor": 2
}
