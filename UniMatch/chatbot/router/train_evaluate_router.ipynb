{
 "cells": [
  {
   "cell_type": "code",
   "execution_count": 75,
   "metadata": {},
   "outputs": [],
   "source": [
    "from semantic_router import Route\n",
    "from semantic_router.encoders import OpenAIEncoder, HuggingFaceEncoder\n",
    "from semantic_router import RouteLayer\n",
    "import pandas as pd"
   ]
  },
  {
   "cell_type": "markdown",
   "metadata": {},
   "source": []
  },
  {
   "cell_type": "code",
   "execution_count": 76,
   "metadata": {},
   "outputs": [],
   "source": [
    "# Load the dataframes json files\n",
    "df_synthetic = pd.read_json(\"synthetic_intetions.json\")\n",
    "\n",
    "X_syn = df_synthetic[['Id','Message']]\n",
    "y_syn = df_synthetic['Intention'].to_list()"
   ]
  },
  {
   "cell_type": "code",
   "execution_count": 77,
   "metadata": {},
   "outputs": [],
   "source": [
    "# Load the dataframes json files\n",
    "df_new = pd.read_json(\"new_intentions.json\")\n",
    "\n",
    "X_new = df_new[['Id','Message']]\n",
    "y_new = df_new['Intention'].to_list()"
   ]
  },
  {
   "cell_type": "code",
   "execution_count": 78,
   "metadata": {},
   "outputs": [],
   "source": [
    "from sklearn.model_selection import train_test_split\n",
    "\n",
    "# Split the dataset with stratification\n",
    "X_train, X_test, y_train, y_test = train_test_split(\n",
    "    X_syn, y_syn, test_size=0.1, random_state=0, stratify=y_syn\n",
    ")"
   ]
  },
  {
   "cell_type": "code",
   "execution_count": 79,
   "metadata": {},
   "outputs": [],
   "source": [
    "# Concatenate the train and new dataframes\n",
    "X_final = pd.concat([X_train, X_new], ignore_index=True)\n",
    "\n",
    "# Concatenate the train and new labels\n",
    "y_final = y_train + y_new"
   ]
  },
  {
   "cell_type": "code",
   "execution_count": 80,
   "metadata": {},
   "outputs": [],
   "source": [
    "# Replace \"None\" with None\n",
    "y_final = [None if i == \"None\" else i for i in y_final]\n",
    "y_test = [None if i == \"None\" else i for i in y_test]"
   ]
  },
  {
   "cell_type": "code",
   "execution_count": 81,
   "metadata": {},
   "outputs": [
    {
     "data": {
      "text/plain": [
       "['manage_personal_info',\n",
       " 'leverage_rag',\n",
       " 'manage_personal_info',\n",
       " 'None',\n",
       " 'search_scholarships_and_internationals',\n",
       " 'search_scholarships_and_internationals',\n",
       " 'matchmaking',\n",
       " 'matchmaking',\n",
       " 'search_scholarships_and_internationals',\n",
       " 'manage_personal_info',\n",
       " 'company_info',\n",
       " 'manage_personal_info',\n",
       " 'search_scholarships_and_internationals',\n",
       " 'company_info',\n",
       " 'query_matches',\n",
       " 'query_matches',\n",
       " 'leverage_rag',\n",
       " 'company_info',\n",
       " 'leverage_rag',\n",
       " 'matchmaking',\n",
       " 'manage_personal_info',\n",
       " 'manage_personal_info',\n",
       " 'manage_personal_info',\n",
       " 'search_scholarships_and_internationals',\n",
       " 'company_info',\n",
       " 'company_info',\n",
       " 'manage_personal_info',\n",
       " 'leverage_rag',\n",
       " 'manage_personal_info',\n",
       " 'None',\n",
       " 'manage_personal_info',\n",
       " 'search_universities',\n",
       " 'leverage_rag',\n",
       " 'leverage_rag',\n",
       " 'company_info',\n",
       " 'None',\n",
       " 'manage_personal_info',\n",
       " 'search_scholarships_and_internationals',\n",
       " 'search_scholarships_and_internationals',\n",
       " 'company_info',\n",
       " 'search_universities',\n",
       " 'manage_personal_info',\n",
       " 'matchmaking',\n",
       " 'company_info',\n",
       " 'None',\n",
       " 'leverage_rag',\n",
       " 'manage_personal_info',\n",
       " 'company_info',\n",
       " 'query_matches',\n",
       " 'matchmaking',\n",
       " 'matchmaking',\n",
       " 'None',\n",
       " 'company_info',\n",
       " 'search_universities',\n",
       " 'company_info',\n",
       " 'company_info',\n",
       " 'query_matches',\n",
       " 'None',\n",
       " 'search_scholarships_and_internationals',\n",
       " 'None',\n",
       " 'search_universities',\n",
       " 'company_info',\n",
       " 'leverage_rag',\n",
       " 'leverage_rag',\n",
       " 'query_matches',\n",
       " 'leverage_rag',\n",
       " 'search_universities',\n",
       " 'matchmaking',\n",
       " 'search_universities',\n",
       " 'query_matches',\n",
       " 'leverage_rag',\n",
       " 'manage_personal_info',\n",
       " 'None',\n",
       " 'search_universities',\n",
       " 'matchmaking',\n",
       " 'search_universities',\n",
       " 'query_matches',\n",
       " 'search_scholarships_and_internationals',\n",
       " 'search_scholarships_and_internationals',\n",
       " 'company_info',\n",
       " 'query_matches',\n",
       " 'company_info',\n",
       " 'company_info',\n",
       " 'search_scholarships_and_internationals',\n",
       " 'manage_personal_info',\n",
       " 'search_universities',\n",
       " 'search_universities',\n",
       " 'search_universities',\n",
       " 'search_scholarships_and_internationals',\n",
       " 'None',\n",
       " 'matchmaking',\n",
       " 'query_matches',\n",
       " 'manage_personal_info',\n",
       " 'search_scholarships_and_internationals',\n",
       " 'query_matches',\n",
       " 'company_info',\n",
       " 'matchmaking',\n",
       " 'matchmaking',\n",
       " 'company_info',\n",
       " 'search_universities',\n",
       " 'company_info',\n",
       " 'query_matches',\n",
       " 'query_matches',\n",
       " 'search_universities',\n",
       " 'None',\n",
       " 'query_matches',\n",
       " 'company_info',\n",
       " 'search_universities',\n",
       " 'search_scholarships_and_internationals',\n",
       " 'query_matches',\n",
       " 'leverage_rag',\n",
       " 'search_scholarships_and_internationals',\n",
       " 'None',\n",
       " 'None',\n",
       " 'query_matches',\n",
       " 'matchmaking',\n",
       " 'search_scholarships_and_internationals',\n",
       " 'matchmaking',\n",
       " 'query_matches',\n",
       " 'search_universities',\n",
       " 'search_universities',\n",
       " 'search_scholarships_and_internationals',\n",
       " 'company_info',\n",
       " 'query_matches',\n",
       " 'search_universities',\n",
       " 'query_matches',\n",
       " 'query_matches',\n",
       " 'leverage_rag',\n",
       " 'leverage_rag',\n",
       " 'matchmaking',\n",
       " 'query_matches',\n",
       " 'company_info',\n",
       " 'search_scholarships_and_internationals',\n",
       " 'company_info',\n",
       " 'company_info',\n",
       " 'matchmaking',\n",
       " 'search_scholarships_and_internationals',\n",
       " 'leverage_rag',\n",
       " 'company_info',\n",
       " 'manage_personal_info',\n",
       " 'company_info',\n",
       " 'query_matches',\n",
       " 'search_universities',\n",
       " 'search_scholarships_and_internationals',\n",
       " 'matchmaking',\n",
       " 'manage_personal_info',\n",
       " 'leverage_rag',\n",
       " 'company_info',\n",
       " 'leverage_rag',\n",
       " 'company_info',\n",
       " 'search_scholarships_and_internationals',\n",
       " 'leverage_rag',\n",
       " 'leverage_rag',\n",
       " 'query_matches',\n",
       " 'query_matches',\n",
       " 'search_scholarships_and_internationals',\n",
       " 'manage_personal_info',\n",
       " 'query_matches',\n",
       " 'leverage_rag',\n",
       " 'query_matches',\n",
       " 'manage_personal_info',\n",
       " 'search_scholarships_and_internationals',\n",
       " 'manage_personal_info',\n",
       " 'matchmaking',\n",
       " 'search_scholarships_and_internationals',\n",
       " 'search_universities',\n",
       " 'leverage_rag',\n",
       " 'manage_personal_info',\n",
       " 'query_matches',\n",
       " 'manage_personal_info',\n",
       " 'company_info',\n",
       " 'search_scholarships_and_internationals',\n",
       " 'search_universities',\n",
       " 'company_info',\n",
       " 'matchmaking',\n",
       " 'manage_personal_info',\n",
       " 'query_matches',\n",
       " 'None',\n",
       " 'search_universities',\n",
       " 'query_matches',\n",
       " 'query_matches',\n",
       " 'search_universities',\n",
       " 'search_scholarships_and_internationals',\n",
       " 'company_info',\n",
       " 'query_matches',\n",
       " 'manage_personal_info',\n",
       " 'company_info',\n",
       " 'matchmaking',\n",
       " 'company_info',\n",
       " 'search_scholarships_and_internationals',\n",
       " 'company_info',\n",
       " 'leverage_rag',\n",
       " 'matchmaking',\n",
       " 'search_scholarships_and_internationals',\n",
       " 'search_scholarships_and_internationals',\n",
       " 'manage_personal_info',\n",
       " 'search_scholarships_and_internationals',\n",
       " 'manage_personal_info',\n",
       " 'manage_personal_info',\n",
       " 'query_matches',\n",
       " 'leverage_rag',\n",
       " 'manage_personal_info',\n",
       " 'manage_personal_info',\n",
       " 'query_matches',\n",
       " 'None',\n",
       " 'company_info',\n",
       " 'manage_personal_info',\n",
       " 'company_info',\n",
       " 'leverage_rag',\n",
       " 'manage_personal_info',\n",
       " 'search_scholarships_and_internationals',\n",
       " 'leverage_rag',\n",
       " 'matchmaking',\n",
       " 'query_matches',\n",
       " 'search_scholarships_and_internationals',\n",
       " 'leverage_rag',\n",
       " 'query_matches',\n",
       " 'search_scholarships_and_internationals',\n",
       " 'leverage_rag',\n",
       " 'search_scholarships_and_internationals',\n",
       " 'query_matches',\n",
       " 'leverage_rag',\n",
       " 'query_matches',\n",
       " 'search_scholarships_and_internationals',\n",
       " 'search_scholarships_and_internationals',\n",
       " 'company_info',\n",
       " 'search_universities',\n",
       " 'search_universities',\n",
       " 'company_info',\n",
       " 'search_universities',\n",
       " 'matchmaking',\n",
       " 'search_scholarships_and_internationals',\n",
       " 'manage_personal_info',\n",
       " 'matchmaking',\n",
       " 'search_universities',\n",
       " 'search_scholarships_and_internationals',\n",
       " 'company_info',\n",
       " 'leverage_rag',\n",
       " 'search_universities',\n",
       " 'matchmaking',\n",
       " 'search_universities',\n",
       " 'leverage_rag',\n",
       " 'matchmaking',\n",
       " 'manage_personal_info',\n",
       " 'search_scholarships_and_internationals',\n",
       " 'search_universities',\n",
       " 'search_universities',\n",
       " 'search_scholarships_and_internationals',\n",
       " 'query_matches',\n",
       " 'matchmaking',\n",
       " 'company_info',\n",
       " 'leverage_rag',\n",
       " 'search_scholarships_and_internationals',\n",
       " 'search_universities',\n",
       " 'None',\n",
       " 'manage_personal_info',\n",
       " 'search_universities',\n",
       " 'search_scholarships_and_internationals',\n",
       " 'manage_personal_info',\n",
       " 'search_universities',\n",
       " 'matchmaking',\n",
       " 'leverage_rag',\n",
       " 'search_universities',\n",
       " 'matchmaking',\n",
       " 'query_matches',\n",
       " 'leverage_rag',\n",
       " 'query_matches',\n",
       " 'matchmaking',\n",
       " 'leverage_rag',\n",
       " 'manage_personal_info',\n",
       " 'manage_personal_info',\n",
       " 'None',\n",
       " 'query_matches',\n",
       " 'search_scholarships_and_internationals',\n",
       " 'None',\n",
       " 'search_scholarships_and_internationals',\n",
       " 'search_universities',\n",
       " 'leverage_rag',\n",
       " 'company_info',\n",
       " 'matchmaking',\n",
       " 'company_info',\n",
       " 'leverage_rag',\n",
       " 'matchmaking',\n",
       " 'None',\n",
       " 'search_universities',\n",
       " 'matchmaking',\n",
       " 'company_info',\n",
       " 'search_scholarships_and_internationals',\n",
       " 'matchmaking',\n",
       " 'None',\n",
       " 'matchmaking',\n",
       " 'manage_personal_info',\n",
       " 'matchmaking',\n",
       " 'matchmaking',\n",
       " 'leverage_rag',\n",
       " 'manage_personal_info',\n",
       " 'query_matches',\n",
       " 'manage_personal_info',\n",
       " 'matchmaking',\n",
       " 'leverage_rag',\n",
       " 'company_info',\n",
       " 'matchmaking',\n",
       " 'search_scholarships_and_internationals',\n",
       " 'leverage_rag',\n",
       " 'leverage_rag',\n",
       " 'search_universities',\n",
       " 'company_info',\n",
       " 'leverage_rag',\n",
       " 'company_info',\n",
       " 'matchmaking',\n",
       " 'None',\n",
       " 'company_info',\n",
       " 'manage_personal_info',\n",
       " 'manage_personal_info',\n",
       " 'None',\n",
       " 'leverage_rag',\n",
       " 'manage_personal_info',\n",
       " 'query_matches',\n",
       " 'matchmaking',\n",
       " 'leverage_rag',\n",
       " 'leverage_rag',\n",
       " 'leverage_rag',\n",
       " 'matchmaking',\n",
       " 'matchmaking',\n",
       " 'search_universities',\n",
       " 'query_matches',\n",
       " 'company_info',\n",
       " 'leverage_rag',\n",
       " 'leverage_rag',\n",
       " 'manage_personal_info',\n",
       " 'matchmaking',\n",
       " 'matchmaking',\n",
       " 'query_matches',\n",
       " 'matchmaking',\n",
       " 'company_info',\n",
       " 'search_universities',\n",
       " 'search_scholarships_and_internationals',\n",
       " 'manage_personal_info',\n",
       " 'search_universities',\n",
       " 'None',\n",
       " 'manage_personal_info',\n",
       " 'search_scholarships_and_internationals',\n",
       " 'search_universities',\n",
       " 'matchmaking',\n",
       " 'company_info',\n",
       " 'search_scholarships_and_internationals',\n",
       " 'manage_personal_info',\n",
       " 'search_scholarships_and_internationals',\n",
       " 'query_matches',\n",
       " 'manage_personal_info',\n",
       " 'matchmaking',\n",
       " 'matchmaking',\n",
       " 'search_universities',\n",
       " 'query_matches',\n",
       " 'search_universities',\n",
       " 'search_universities',\n",
       " 'leverage_rag',\n",
       " 'leverage_rag',\n",
       " 'query_matches',\n",
       " 'company_info',\n",
       " 'company_info',\n",
       " 'search_universities',\n",
       " 'search_universities',\n",
       " 'query_matches',\n",
       " 'manage_personal_info',\n",
       " 'leverage_rag',\n",
       " 'search_scholarships_and_internationals',\n",
       " 'search_scholarships_and_internationals',\n",
       " 'None',\n",
       " 'company_info',\n",
       " 'search_scholarships_and_internationals',\n",
       " 'manage_personal_info',\n",
       " 'query_matches',\n",
       " 'search_universities',\n",
       " 'manage_personal_info',\n",
       " 'matchmaking',\n",
       " 'search_universities',\n",
       " 'search_universities']"
      ]
     },
     "execution_count": 81,
     "metadata": {},
     "output_type": "execute_result"
    }
   ],
   "source": [
    "y_train"
   ]
  },
  {
   "cell_type": "code",
   "execution_count": 82,
   "metadata": {},
   "outputs": [],
   "source": [
    "user_intentions = [\"manage_personal_info\", \"search_scholarships_and_internationals\",\"search_universities\" , \"matchmaking\", \"query_matches\", \"leverage_rag\", \"company_info\", None]"
   ]
  },
  {
   "cell_type": "code",
   "execution_count": 83,
   "metadata": {},
   "outputs": [
    {
     "data": {
      "text/plain": [
       "{'manage_personal_info': ['Please modify my education level to high school.',\n",
       "  'Please add a preference for urban universities.',\n",
       "  'What is my registered age?',\n",
       "  'Please update my password to Passw0rd!',\n",
       "  'I want to change my username to TechGuru123.',\n",
       "  'Update my password to NewPassword123!'],\n",
       " 'search_scholarships_and_internationals': ['Are there scholarships for studying technology abroad?',\n",
       "  'Can you list scholarships available for STEM students?',\n",
       "  'What scholarships are available for international students?',\n",
       "  'Can you find universities with scholarships in Australia?',\n",
       "  'What international scholarships are available for undergraduate students?',\n",
       "  'Can you provide details on the Erasmus+ scholarship?'],\n",
       " 'search_universities': ['Search for universities that teach environmental studies.',\n",
       "  'What universities have courses in event management?',\n",
       "  'Are there universities with programs in social work?',\n",
       "  'What are the top universities for studying sociology?',\n",
       "  'Search for universities that teach digital marketing.',\n",
       "  'What universities have courses in cybersecurity?'],\n",
       " 'matchmaking': ['Can you help me find matches for universities in the Caribbean?',\n",
       "  'Please find matches for universities that offer scholarships for arts.',\n",
       "  'Can you match me with universities that have a strong alumni network?',\n",
       "  'I need matches for universities with a focus on research.',\n",
       "  'Can you find university matches for computer science?'],\n",
       " 'query_matches': ['Show me my previous matches.',\n",
       "  'Can you pull up my match details?',\n",
       "  'Can I view my match history?',\n",
       "  'List my earlier matches.',\n",
       "  'I want to see my match history.'],\n",
       " 'leverage_rag': ['I gave the link. Can you identify the target demographic?',\n",
       "  'I uploaded a document. Can you tell me about the author?',\n",
       "  'I gave the link. Can you summarize the introduction section?',\n",
       "  \"You have access to the website link's contents. What is the main argument?\",\n",
       "  'I gave the link. What are the main findings?'],\n",
       " 'company_info': ['How does UniMatch help students and universities?',\n",
       "  'What is the purpose of UniMatch?',\n",
       "  'What kind of services does UniMatch provide?',\n",
       "  'How does UniMatch engage with educational institutions?',\n",
       "  'What makes UniMatch unique in its field?',\n",
       "  \"What are the key milestones in UniMatch's journey?\"],\n",
       " None: ['Do you believe in luck or fate?',\n",
       "  \"What's your favorite movie of all time?\",\n",
       "  \"I just started reading a new book; it's fascinating!\"]}"
      ]
     },
     "execution_count": 83,
     "metadata": {},
     "output_type": "execute_result"
    }
   ],
   "source": [
    "MESSAGES_INFO = {\n",
    "}\n",
    "\n",
    "for intention in user_intentions:\n",
    "    MESSAGES_INFO[intention] = []\n",
    "\n",
    "for message, label in zip(X_test[\"Message\"], y_test):\n",
    "    for intention in user_intentions:\n",
    "        if label == intention:\n",
    "            MESSAGES_INFO[intention].append(message)\n",
    "            continue\n",
    "\n",
    "MESSAGES_INFO"
   ]
  },
  {
   "cell_type": "code",
   "execution_count": 84,
   "metadata": {},
   "outputs": [],
   "source": [
    "manage_personal_info = Route(\n",
    "    name=\"manage_personal_info\",\n",
    "    description=\"The user wants to manage his personal information, such as username, age, password, et cetera...\",\n",
    "    utterances=MESSAGES_INFO['manage_personal_info'],\n",
    ")\n",
    "\n",
    "company_info = Route(\n",
    "    name=\"company_info\",\n",
    "    description=\"The user wants to know information about the company called 'UniMatch'.\",\n",
    "    utterances=MESSAGES_INFO['company_info'],\n",
    ")\n",
    "\n",
    "leverage_rag = Route(\n",
    "    name=\"leverage_rag\",\n",
    "    description=\"The user intends wants the chatbot to extract information from an external source (PDF or website).\",\n",
    "    utterances=MESSAGES_INFO['leverage_rag'],\n",
    ")\n",
    "\n",
    "matchmaking = Route(\n",
    "    name=\"matchmaking\",\n",
    "    description=\"The user wants to make matches for his university, specifying some preferences.\",\n",
    "    utterances=MESSAGES_INFO['matchmaking'],\n",
    ")\n",
    "\n",
    "query_matches = Route(\n",
    "    name=\"query_matches\",\n",
    "    description=\"The user wishes to access and see the previously-made matches.\",\n",
    "    utterances=MESSAGES_INFO['query_matches'],\n",
    ")\n",
    "\n",
    "search_scholarships_and_internationals = Route(\n",
    "    name=\"search_scholarships_and_internationals\",\n",
    "    description=\"The user wishes to search for scholarships or international opportunities.\",\n",
    "    utterances=MESSAGES_INFO['search_scholarships_and_internationals'],\n",
    ")\n",
    "\n",
    "search_universities = Route(\n",
    "    name=\"search_universities\",\n",
    "    description=\"The user wishes to search for universities or courses.\",\n",
    "    utterances=MESSAGES_INFO['search_universities'],\n",
    ")\n",
    "routes = [manage_personal_info, company_info, leverage_rag, matchmaking, query_matches, search_scholarships_and_internationals, search_universities]\n",
    "\n"
   ]
  },
  {
   "cell_type": "markdown",
   "metadata": {},
   "source": [
    "# Baseline Routers"
   ]
  },
  {
   "cell_type": "code",
   "execution_count": 85,
   "metadata": {},
   "outputs": [
    {
     "data": {
      "application/vnd.jupyter.widget-view+json": {
       "model_id": "c35916efe1934a0ea9cb8b132c6ab734",
       "version_major": 2,
       "version_minor": 0
      },
      "text/plain": [
       "Generating embeddings:   0%|          | 0/1 [00:00<?, ?it/s]"
      ]
     },
     "metadata": {},
     "output_type": "display_data"
    },
    {
     "name": "stdout",
     "output_type": "stream",
     "text": [
      "Accuracy: 95.24%\n"
     ]
    },
    {
     "data": {
      "application/vnd.jupyter.widget-view+json": {
       "model_id": "989987be622544489f7209599082b31d",
       "version_major": 2,
       "version_minor": 0
      },
      "text/plain": [
       "Generating embeddings:   0%|          | 0/1 [00:00<?, ?it/s]"
      ]
     },
     "metadata": {},
     "output_type": "display_data"
    },
    {
     "data": {
      "application/vnd.jupyter.widget-view+json": {
       "model_id": "8fca412bfee74417a228ebffb8612160",
       "version_major": 2,
       "version_minor": 0
      },
      "text/plain": [
       "Training:   0%|          | 0/500 [00:00<?, ?it/s]"
      ]
     },
     "metadata": {},
     "output_type": "display_data"
    },
    {
     "data": {
      "application/vnd.jupyter.widget-view+json": {
       "model_id": "7bdd5b4f0f654af3bb89a7e41f23345a",
       "version_major": 2,
       "version_minor": 0
      },
      "text/plain": [
       "Generating embeddings:   0%|          | 0/1 [00:00<?, ?it/s]"
      ]
     },
     "metadata": {},
     "output_type": "display_data"
    },
    {
     "name": "stdout",
     "output_type": "stream",
     "text": [
      "Accuracy (Post-fit): 92.86%\n"
     ]
    }
   ],
   "source": [
    "# Standard HF-Encoded RL\n",
    "encoderHF = HuggingFaceEncoder()\n",
    "hf_rl = RouteLayer(encoder=encoderHF, routes=routes) #aggregation = \"mean\", \"max\" or \"sum\". #top_k = 5\n",
    "\n",
    "accuracy = hf_rl.evaluate(X=X_test[\"Message\"].to_list(), y=y_test)\n",
    "print(f\"Accuracy: {accuracy*100:.2f}%\")\n",
    "\n",
    "# Call the fit method on HFEncoder\n",
    "hf_rl.fit(X=X_final[\"Message\"].to_list(), y=y_final, max_iter=500)\n",
    "accuracy = hf_rl.evaluate(X=X_test[\"Message\"].to_list(), y=y_test)\n",
    "print(f\"Accuracy (Post-fit): {accuracy*100:.2f}%\")\n"
   ]
  },
  {
   "cell_type": "code",
   "execution_count": 86,
   "metadata": {},
   "outputs": [
    {
     "data": {
      "application/vnd.jupyter.widget-view+json": {
       "model_id": "1bc8d418f2684ce194887dff14b015ad",
       "version_major": 2,
       "version_minor": 0
      },
      "text/plain": [
       "Generating embeddings:   0%|          | 0/1 [00:00<?, ?it/s]"
      ]
     },
     "metadata": {},
     "output_type": "display_data"
    },
    {
     "name": "stdout",
     "output_type": "stream",
     "text": [
      "Accuracy: 95.24%\n"
     ]
    },
    {
     "data": {
      "application/vnd.jupyter.widget-view+json": {
       "model_id": "e6c1f2e58e2348b6898e597edb0c3e86",
       "version_major": 2,
       "version_minor": 0
      },
      "text/plain": [
       "Generating embeddings:   0%|          | 0/1 [00:00<?, ?it/s]"
      ]
     },
     "metadata": {},
     "output_type": "display_data"
    },
    {
     "data": {
      "application/vnd.jupyter.widget-view+json": {
       "model_id": "48ac14402aac4e0da7aa06e38f4dbf57",
       "version_major": 2,
       "version_minor": 0
      },
      "text/plain": [
       "Training:   0%|          | 0/500 [00:00<?, ?it/s]"
      ]
     },
     "metadata": {},
     "output_type": "display_data"
    },
    {
     "data": {
      "application/vnd.jupyter.widget-view+json": {
       "model_id": "569f64b452464c1e8f5a296545295fc8",
       "version_major": 2,
       "version_minor": 0
      },
      "text/plain": [
       "Generating embeddings:   0%|          | 0/1 [00:00<?, ?it/s]"
      ]
     },
     "metadata": {},
     "output_type": "display_data"
    },
    {
     "name": "stdout",
     "output_type": "stream",
     "text": [
      "Accuracy (Post-fit): 95.24%\n"
     ]
    }
   ],
   "source": [
    "# Standard OA-Encoded RL\n",
    "encoderOA = OpenAIEncoder()\n",
    "oa_rl = RouteLayer(encoder=encoderOA, routes=routes) #aggregation = \"mean\", \"max\" or \"sum\" #top_k = 5\n",
    "\n",
    "accuracy = oa_rl.evaluate(X=X_test[\"Message\"].to_list(), y=y_test)\n",
    "print(f\"Accuracy: {accuracy*100:.2f}%\")\n",
    "\n",
    "# OpenAIEncoder Fit\n",
    "oa_rl.fit(X=X_final[\"Message\"].to_list(), y=y_final, max_iter=500)\n",
    "accuracy = oa_rl.evaluate(X=X_test[\"Message\"].to_list(), y=y_test)\n",
    "print(f\"Accuracy (Post-fit): {accuracy*100:.2f}%\")"
   ]
  },
  {
   "cell_type": "code",
   "execution_count": 23,
   "metadata": {},
   "outputs": [],
   "source": [
    "# Result: both are the same, choose OA"
   ]
  },
  {
   "cell_type": "markdown",
   "metadata": {},
   "source": [
    "# Tuning Selected Router\n",
    "\n",
    "## Aggregate"
   ]
  },
  {
   "cell_type": "code",
   "execution_count": 88,
   "metadata": {},
   "outputs": [],
   "source": [
    "oa_rl_mean = RouteLayer(encoder=encoderOA, routes=routes, aggregation='mean') #aggregation = \"mean\", \"max\" or \"sum\" #top_k = 5\n",
    "oa_rl_max = RouteLayer(encoder=encoderOA, routes=routes, aggregation='max') #aggregation = \"mean\", \"max\" or \"sum\" #top_k = 5\n",
    "oa_rl_sum = RouteLayer(encoder=encoderOA, routes=routes, aggregation='sum') #aggregation = \"mean\", \"max\" or \"sum\" #top_k = 5\n"
   ]
  },
  {
   "cell_type": "code",
   "execution_count": 89,
   "metadata": {},
   "outputs": [
    {
     "data": {
      "application/vnd.jupyter.widget-view+json": {
       "model_id": "5a27f829bbd343b0976eb4e3ee3f2186",
       "version_major": 2,
       "version_minor": 0
      },
      "text/plain": [
       "Generating embeddings:   0%|          | 0/1 [00:00<?, ?it/s]"
      ]
     },
     "metadata": {},
     "output_type": "display_data"
    },
    {
     "data": {
      "application/vnd.jupyter.widget-view+json": {
       "model_id": "30ed26ce7a7b47d2a8697c6fe3c823bb",
       "version_major": 2,
       "version_minor": 0
      },
      "text/plain": [
       "Training:   0%|          | 0/500 [00:00<?, ?it/s]"
      ]
     },
     "metadata": {},
     "output_type": "display_data"
    }
   ],
   "source": [
    "oa_rl_mean.fit(X=X_final[\"Message\"].to_list(), y=y_final, max_iter=500)\n"
   ]
  },
  {
   "cell_type": "code",
   "execution_count": 90,
   "metadata": {},
   "outputs": [
    {
     "data": {
      "application/vnd.jupyter.widget-view+json": {
       "model_id": "666b0f4537bd4a939149f55d37e0e163",
       "version_major": 2,
       "version_minor": 0
      },
      "text/plain": [
       "Generating embeddings:   0%|          | 0/1 [00:00<?, ?it/s]"
      ]
     },
     "metadata": {},
     "output_type": "display_data"
    },
    {
     "data": {
      "application/vnd.jupyter.widget-view+json": {
       "model_id": "e00d075ce5e74127b63003a3a8a1b790",
       "version_major": 2,
       "version_minor": 0
      },
      "text/plain": [
       "Training:   0%|          | 0/500 [00:00<?, ?it/s]"
      ]
     },
     "metadata": {},
     "output_type": "display_data"
    }
   ],
   "source": [
    "oa_rl_max.fit(X=X_final[\"Message\"].to_list(), y=y_final, max_iter=500)"
   ]
  },
  {
   "cell_type": "code",
   "execution_count": 91,
   "metadata": {},
   "outputs": [
    {
     "data": {
      "application/vnd.jupyter.widget-view+json": {
       "model_id": "a7df9d20e5dd4408b6ee8860d7ce9315",
       "version_major": 2,
       "version_minor": 0
      },
      "text/plain": [
       "Generating embeddings:   0%|          | 0/1 [00:00<?, ?it/s]"
      ]
     },
     "metadata": {},
     "output_type": "display_data"
    },
    {
     "data": {
      "application/vnd.jupyter.widget-view+json": {
       "model_id": "20374290f4de48478ab3ca45be8c4fc6",
       "version_major": 2,
       "version_minor": 0
      },
      "text/plain": [
       "Training:   0%|          | 0/500 [00:00<?, ?it/s]"
      ]
     },
     "metadata": {},
     "output_type": "display_data"
    }
   ],
   "source": [
    "oa_rl_sum.fit(X=X_final[\"Message\"].to_list(), y=y_final, max_iter=500)"
   ]
  },
  {
   "cell_type": "code",
   "execution_count": 92,
   "metadata": {},
   "outputs": [
    {
     "data": {
      "application/vnd.jupyter.widget-view+json": {
       "model_id": "1d0bddac162a494d8d661399ceb124c9",
       "version_major": 2,
       "version_minor": 0
      },
      "text/plain": [
       "Generating embeddings:   0%|          | 0/1 [00:00<?, ?it/s]"
      ]
     },
     "metadata": {},
     "output_type": "display_data"
    },
    {
     "data": {
      "application/vnd.jupyter.widget-view+json": {
       "model_id": "f5bcd739c66942f18d3c69415a61739e",
       "version_major": 2,
       "version_minor": 0
      },
      "text/plain": [
       "Generating embeddings:   0%|          | 0/1 [00:00<?, ?it/s]"
      ]
     },
     "metadata": {},
     "output_type": "display_data"
    },
    {
     "data": {
      "application/vnd.jupyter.widget-view+json": {
       "model_id": "d2e843f687a84f4da45840a200fa3421",
       "version_major": 2,
       "version_minor": 0
      },
      "text/plain": [
       "Generating embeddings:   0%|          | 0/1 [00:00<?, ?it/s]"
      ]
     },
     "metadata": {},
     "output_type": "display_data"
    },
    {
     "name": "stdout",
     "output_type": "stream",
     "text": [
      "Accuracy mean: 97.62%\n",
      "Accuracy max: 97.62%\n",
      "Accuracy sum: 95.24%\n"
     ]
    }
   ],
   "source": [
    "accuracy_mean = oa_rl_mean.evaluate(X=X_test[\"Message\"].to_list(), y=y_test)\n",
    "accuracy_max = oa_rl_max.evaluate(X=X_test[\"Message\"].to_list(), y=y_test)\n",
    "accuracy_sum = oa_rl_sum.evaluate(X=X_test[\"Message\"].to_list(), y=y_test)\n",
    "\n",
    "print(f\"Accuracy mean: {accuracy_mean*100:.2f}%\")\n",
    "print(f\"Accuracy max: {accuracy_max*100:.2f}%\")\n",
    "print(f\"Accuracy sum: {accuracy_sum*100:.2f}%\")"
   ]
  },
  {
   "cell_type": "code",
   "execution_count": 98,
   "metadata": {},
   "outputs": [],
   "source": [
    "oa_rl_max_2 = RouteLayer(encoder=encoderOA, routes=routes, aggregation='max', top_k=1) #aggregation = \"mean\", \"max\" or \"sum\" #top_k = 5\n",
    "oa_rl_max_5 = RouteLayer(encoder=encoderOA, routes=routes, aggregation='max', top_k = 5) #aggregation = \"mean\", \"max\" or \"sum\" #top_k = 5\n",
    "oa_rl_max_10 = RouteLayer(encoder=encoderOA, routes=routes, aggregation='max', top_k = 50) #aggregation = \"mean\", \"max\" or \"sum\" #top_k = 5\n",
    "\n"
   ]
  },
  {
   "cell_type": "code",
   "execution_count": 97,
   "metadata": {},
   "outputs": [
    {
     "data": {
      "application/vnd.jupyter.widget-view+json": {
       "model_id": "64d7e069485c4ff2969fa8f9f9069d83",
       "version_major": 2,
       "version_minor": 0
      },
      "text/plain": [
       "Generating embeddings:   0%|          | 0/1 [00:00<?, ?it/s]"
      ]
     },
     "metadata": {},
     "output_type": "display_data"
    },
    {
     "data": {
      "application/vnd.jupyter.widget-view+json": {
       "model_id": "a5acb995d4564306b13d60213897cfdc",
       "version_major": 2,
       "version_minor": 0
      },
      "text/plain": [
       "Training:   0%|          | 0/500 [00:00<?, ?it/s]"
      ]
     },
     "metadata": {},
     "output_type": "display_data"
    }
   ],
   "source": [
    "oa_rl_max_2.fit(X=X_final[\"Message\"].to_list(), y=y_final, max_iter=500)\n"
   ]
  },
  {
   "cell_type": "code",
   "execution_count": 96,
   "metadata": {},
   "outputs": [
    {
     "data": {
      "application/vnd.jupyter.widget-view+json": {
       "model_id": "3c42b52900784156a035bd0481130e8d",
       "version_major": 2,
       "version_minor": 0
      },
      "text/plain": [
       "Generating embeddings:   0%|          | 0/1 [00:00<?, ?it/s]"
      ]
     },
     "metadata": {},
     "output_type": "display_data"
    },
    {
     "data": {
      "application/vnd.jupyter.widget-view+json": {
       "model_id": "a4d61f66b9c447bc90bb1e8487f09f64",
       "version_major": 2,
       "version_minor": 0
      },
      "text/plain": [
       "Training:   0%|          | 0/500 [00:00<?, ?it/s]"
      ]
     },
     "metadata": {},
     "output_type": "display_data"
    }
   ],
   "source": [
    "oa_rl_max_5.fit(X=X_final[\"Message\"].to_list(), y=y_final, max_iter=500)\n"
   ]
  },
  {
   "cell_type": "code",
   "execution_count": 99,
   "metadata": {},
   "outputs": [
    {
     "data": {
      "application/vnd.jupyter.widget-view+json": {
       "model_id": "6bb3a4c5aee245e9a58aa3a010791af9",
       "version_major": 2,
       "version_minor": 0
      },
      "text/plain": [
       "Generating embeddings:   0%|          | 0/1 [00:00<?, ?it/s]"
      ]
     },
     "metadata": {},
     "output_type": "display_data"
    },
    {
     "data": {
      "application/vnd.jupyter.widget-view+json": {
       "model_id": "167c51060da6421ea3840f4d3b61fe6d",
       "version_major": 2,
       "version_minor": 0
      },
      "text/plain": [
       "Training:   0%|          | 0/500 [00:00<?, ?it/s]"
      ]
     },
     "metadata": {},
     "output_type": "display_data"
    }
   ],
   "source": [
    "oa_rl_max_10.fit(X=X_final[\"Message\"].to_list(), y=y_final, max_iter=500)\n"
   ]
  },
  {
   "cell_type": "code",
   "execution_count": 100,
   "metadata": {},
   "outputs": [
    {
     "data": {
      "application/vnd.jupyter.widget-view+json": {
       "model_id": "8148f5400ee74cf0a63e4bcac0c3da5f",
       "version_major": 2,
       "version_minor": 0
      },
      "text/plain": [
       "Generating embeddings:   0%|          | 0/1 [00:00<?, ?it/s]"
      ]
     },
     "metadata": {},
     "output_type": "display_data"
    },
    {
     "data": {
      "application/vnd.jupyter.widget-view+json": {
       "model_id": "cf7498149daa47dda77c8cd98714da36",
       "version_major": 2,
       "version_minor": 0
      },
      "text/plain": [
       "Generating embeddings:   0%|          | 0/1 [00:00<?, ?it/s]"
      ]
     },
     "metadata": {},
     "output_type": "display_data"
    },
    {
     "data": {
      "application/vnd.jupyter.widget-view+json": {
       "model_id": "833b3b19a76f4b349c785e69ebc31754",
       "version_major": 2,
       "version_minor": 0
      },
      "text/plain": [
       "Generating embeddings:   0%|          | 0/1 [00:00<?, ?it/s]"
      ]
     },
     "metadata": {},
     "output_type": "display_data"
    },
    {
     "name": "stdout",
     "output_type": "stream",
     "text": [
      "Accuracy k=2: 97.62%\n",
      "Accuracy k=5: 97.62%\n",
      "Accuracy k=15: 97.62%\n"
     ]
    }
   ],
   "source": [
    "accuracy_2 = oa_rl_max_2.evaluate(X=X_test[\"Message\"].to_list(), y=y_test)\n",
    "accuracy_5 = oa_rl_max_5.evaluate(X=X_test[\"Message\"].to_list(), y=y_test)\n",
    "accuracy_10 = oa_rl_max_10.evaluate(X=X_test[\"Message\"].to_list(), y=y_test)\n",
    "\n",
    "print(f\"Accuracy k=2: {accuracy_2*100:.2f}%\")\n",
    "print(f\"Accuracy k=5: {accuracy_5*100:.2f}%\")\n",
    "print(f\"Accuracy k=15: {accuracy_10*100:.2f}%\")"
   ]
  },
  {
   "cell_type": "markdown",
   "metadata": {},
   "source": [
    "# Final RL\n"
   ]
  },
  {
   "cell_type": "code",
   "execution_count": 64,
   "metadata": {},
   "outputs": [],
   "source": [
    "final_rl = oa_rl_max_2\n"
   ]
  },
  {
   "cell_type": "markdown",
   "metadata": {},
   "source": [
    "# Print metrics"
   ]
  },
  {
   "cell_type": "code",
   "execution_count": 65,
   "metadata": {},
   "outputs": [],
   "source": [
    "def evaluate_router(rl):\n",
    "    REPORT_DATA = {\n",
    "}\n",
    "    for intention in user_intentions:\n",
    "        REPORT_DATA[intention] = [0, 0]\n",
    "\n",
    "    for (index, row), label in zip(X_test.iterrows(), y_test):\n",
    "        message = row[\"Message\"]\n",
    "        prediction = rl(message)\n",
    "\n",
    "        total, wrong = REPORT_DATA[label]\n",
    "        total += 1\n",
    "        \n",
    "        if prediction.name == label:\n",
    "            pass\n",
    "        else:\n",
    "            wrong += 1\n",
    "        REPORT_DATA[label] = [total, wrong]\n",
    "    \n",
    "    return REPORT_DATA\n"
   ]
  },
  {
   "cell_type": "code",
   "execution_count": 66,
   "metadata": {},
   "outputs": [],
   "source": [
    "pd.DataFrame(evaluate_router(final_rl)).T.to_excel('evaluation_results.xlsx')"
   ]
  },
  {
   "cell_type": "code",
   "execution_count": 67,
   "metadata": {},
   "outputs": [],
   "source": [
    "REPORT_DATA = {\n",
    "}"
   ]
  },
  {
   "cell_type": "code",
   "execution_count": 68,
   "metadata": {},
   "outputs": [],
   "source": [
    "for intention in user_intentions:\n",
    "    REPORT_DATA[intention] = [0, 0]\n"
   ]
  },
  {
   "cell_type": "code",
   "execution_count": 69,
   "metadata": {},
   "outputs": [],
   "source": [
    "for (index, row), label in zip(X_test.iterrows(), y_test):\n",
    "    message = row[\"Message\"]\n",
    "    prediction = final_rl(message)\n",
    "\n",
    "    total, wrong = REPORT_DATA[label]\n",
    "    total += 1\n",
    "    \n",
    "    if prediction.name == label:\n",
    "        pass\n",
    "    else:\n",
    "        wrong += 1\n",
    "    REPORT_DATA[label] = [total, wrong]\n"
   ]
  },
  {
   "cell_type": "code",
   "execution_count": 70,
   "metadata": {},
   "outputs": [
    {
     "data": {
      "text/plain": [
       "RouteChoice(name='manage_personal_info', function_call=None, similarity_score=None)"
      ]
     },
     "execution_count": 70,
     "metadata": {},
     "output_type": "execute_result"
    }
   ],
   "source": [
    "final_rl('I want to change my password')"
   ]
  },
  {
   "cell_type": "code",
   "execution_count": 71,
   "metadata": {},
   "outputs": [
    {
     "name": "stdout",
     "output_type": "stream",
     "text": [
      "name=None function_call=None similarity_score=None manage_personal_info\n",
      "name=None function_call=None similarity_score=None manage_personal_info\n",
      "name=None function_call=None similarity_score=None manage_personal_info\n",
      "name='search_scholarships_and_internationals' function_call=None similarity_score=None None\n",
      "name=None function_call=None similarity_score=None search_universities\n",
      "name='matchmaking' function_call=None similarity_score=None search_scholarships_and_internationals\n",
      "name='matchmaking' function_call=None similarity_score=None search_scholarships_and_internationals\n",
      "name='query_matches' function_call=None similarity_score=None manage_personal_info\n",
      "name='matchmaking' function_call=None similarity_score=None search_universities\n",
      "name='matchmaking' function_call=None similarity_score=None search_universities\n",
      "name='matchmaking' function_call=None similarity_score=None search_universities\n",
      "name='search_scholarships_and_internationals' function_call=None similarity_score=None matchmaking\n",
      "name='search_scholarships_and_internationals' function_call=None similarity_score=None search_universities\n",
      "name='matchmaking' function_call=None similarity_score=None search_universities\n",
      "name='search_universities' function_call=None similarity_score=None None\n",
      "name='search_universities' function_call=None similarity_score=None search_scholarships_and_internationals\n",
      "name=None function_call=None similarity_score=None search_universities\n",
      "name=None function_call=None similarity_score=None manage_personal_info\n",
      "name='search_universities' function_call=None similarity_score=None None\n",
      "name=None function_call=None similarity_score=None manage_personal_info\n",
      "name=None function_call=None similarity_score=None manage_personal_info\n",
      "name='matchmaking' function_call=None similarity_score=None search_universities\n",
      "name='search_scholarships_and_internationals' function_call=None similarity_score=None search_universities\n"
     ]
    }
   ],
   "source": [
    "for (index, row), label in zip(X_train.iterrows(), y_train):\n",
    "    message = row[\"Message\"]\n",
    "    prediction = final_rl(message)\n",
    "\n",
    "    if label == 'None':\n",
    "        label = None\n",
    "    \n",
    "    if prediction.name == label:\n",
    "        continue\n",
    "    else:\n",
    "        print(prediction, label)\n"
   ]
  },
  {
   "cell_type": "code",
   "execution_count": 73,
   "metadata": {},
   "outputs": [
    {
     "data": {
      "text/html": [
       "<div>\n",
       "<style scoped>\n",
       "    .dataframe tbody tr th:only-of-type {\n",
       "        vertical-align: middle;\n",
       "    }\n",
       "\n",
       "    .dataframe tbody tr th {\n",
       "        vertical-align: top;\n",
       "    }\n",
       "\n",
       "    .dataframe thead th {\n",
       "        text-align: right;\n",
       "    }\n",
       "</style>\n",
       "<table border=\"1\" class=\"dataframe\">\n",
       "  <thead>\n",
       "    <tr style=\"text-align: right;\">\n",
       "      <th></th>\n",
       "      <th>0</th>\n",
       "      <th>1</th>\n",
       "    </tr>\n",
       "  </thead>\n",
       "  <tbody>\n",
       "    <tr>\n",
       "      <th>manage_personal_info</th>\n",
       "      <td>6</td>\n",
       "      <td>0</td>\n",
       "    </tr>\n",
       "    <tr>\n",
       "      <th>search_scholarships_and_internationals</th>\n",
       "      <td>6</td>\n",
       "      <td>0</td>\n",
       "    </tr>\n",
       "    <tr>\n",
       "      <th>search_universities</th>\n",
       "      <td>6</td>\n",
       "      <td>0</td>\n",
       "    </tr>\n",
       "    <tr>\n",
       "      <th>matchmaking</th>\n",
       "      <td>5</td>\n",
       "      <td>0</td>\n",
       "    </tr>\n",
       "    <tr>\n",
       "      <th>query_matches</th>\n",
       "      <td>5</td>\n",
       "      <td>0</td>\n",
       "    </tr>\n",
       "    <tr>\n",
       "      <th>leverage_rag</th>\n",
       "      <td>5</td>\n",
       "      <td>0</td>\n",
       "    </tr>\n",
       "    <tr>\n",
       "      <th>company_info</th>\n",
       "      <td>6</td>\n",
       "      <td>0</td>\n",
       "    </tr>\n",
       "    <tr>\n",
       "      <th>None</th>\n",
       "      <td>3</td>\n",
       "      <td>0</td>\n",
       "    </tr>\n",
       "  </tbody>\n",
       "</table>\n",
       "</div>"
      ],
      "text/plain": [
       "                                        0  1\n",
       "manage_personal_info                    6  0\n",
       "search_scholarships_and_internationals  6  0\n",
       "search_universities                     6  0\n",
       "matchmaking                             5  0\n",
       "query_matches                           5  0\n",
       "leverage_rag                            5  0\n",
       "company_info                            6  0\n",
       "None                                    3  0"
      ]
     },
     "execution_count": 73,
     "metadata": {},
     "output_type": "execute_result"
    }
   ],
   "source": [
    "pd.DataFrame(REPORT_DATA).T"
   ]
  },
  {
   "cell_type": "markdown",
   "metadata": {},
   "source": [
    "# Deploy"
   ]
  },
  {
   "cell_type": "code",
   "execution_count": 74,
   "metadata": {},
   "outputs": [
    {
     "name": "stderr",
     "output_type": "stream",
     "text": [
      "\u001b[32m2024-12-26 15:11:52 INFO semantic_router.utils.logger Saving route config to layer.json\u001b[0m\n"
     ]
    }
   ],
   "source": [
    "final_rl.to_json(\"layer.json\") # This one avoids overfitting the most"
   ]
  },
  {
   "cell_type": "code",
   "execution_count": null,
   "metadata": {},
   "outputs": [],
   "source": []
  }
 ],
 "metadata": {
  "kernelspec": {
   "display_name": "base",
   "language": "python",
   "name": "python3"
  },
  "language_info": {
   "codemirror_mode": {
    "name": "ipython",
    "version": 3
   },
   "file_extension": ".py",
   "mimetype": "text/x-python",
   "name": "python",
   "nbconvert_exporter": "python",
   "pygments_lexer": "ipython3",
   "version": "3.12.7"
  }
 },
 "nbformat": 4,
 "nbformat_minor": 2
}
