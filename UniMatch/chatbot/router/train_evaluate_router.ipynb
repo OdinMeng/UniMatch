{
 "cells": [
  {
   "cell_type": "markdown",
   "metadata": {},
   "source": []
  },
  {
   "cell_type": "code",
   "execution_count": 44,
   "metadata": {},
   "outputs": [],
   "source": [
    "from semantic_router import Route\n",
    "from semantic_router.encoders import OpenAIEncoder, HuggingFaceEncoder\n",
    "from semantic_router import RouteLayer\n",
    "import pandas as pd"
   ]
  },
  {
   "cell_type": "markdown",
   "metadata": {},
   "source": []
  },
  {
   "cell_type": "code",
   "execution_count": 45,
   "metadata": {},
   "outputs": [],
   "source": [
    "# Load the dataframes json files\n",
    "df_synthetic = pd.read_json(\"synthetic_intetions.json\")\n",
    "\n",
    "X_syn = df_synthetic[['Id','Message']]\n",
    "y_syn = df_synthetic['Intention'].to_list()"
   ]
  },
  {
   "cell_type": "code",
   "execution_count": 46,
   "metadata": {},
   "outputs": [],
   "source": [
    "# Load the dataframes json files\n",
    "df_new = pd.read_json(\"new_intentions.json\")\n",
    "\n",
    "X_new = df_new[['Id','Message']]\n",
    "y_new = df_new['Intention'].to_list()"
   ]
  },
  {
   "cell_type": "code",
   "execution_count": 55,
   "metadata": {},
   "outputs": [],
   "source": [
    "from sklearn.model_selection import train_test_split\n",
    "\n",
    "# Split the dataset with stratification\n",
    "X_train, X_test, y_train, y_test = train_test_split(\n",
    "    X_syn, y_syn, test_size=0.3, random_state=0, stratify=y_syn\n",
    ")"
   ]
  },
  {
   "cell_type": "code",
   "execution_count": 56,
   "metadata": {},
   "outputs": [],
   "source": [
    "# Concatenate the train and new dataframes\n",
    "X_final = pd.concat([X_train, X_new], ignore_index=True)\n",
    "\n",
    "# Concatenate the train and new labels\n",
    "y_final = y_train + y_new"
   ]
  },
  {
   "cell_type": "code",
   "execution_count": 57,
   "metadata": {},
   "outputs": [],
   "source": [
    "# Replace \"None\" with None\n",
    "y_final = [None if i == \"None\" else i for i in y_final]\n",
    "y_test = [None if i == \"None\" else i for i in y_test]"
   ]
  },
  {
   "cell_type": "code",
   "execution_count": 58,
   "metadata": {},
   "outputs": [
    {
     "data": {
      "text/plain": [
       "['manage_personal_info',\n",
       " 'manage_personal_info',\n",
       " 'matchmaking',\n",
       " 'None',\n",
       " 'search_scholarships_and_internationals',\n",
       " 'query_matches',\n",
       " 'manage_personal_info',\n",
       " 'company_info',\n",
       " 'company_info',\n",
       " 'None',\n",
       " 'manage_personal_info',\n",
       " 'leverage_rag',\n",
       " 'manage_personal_info',\n",
       " 'manage_personal_info',\n",
       " 'leverage_rag',\n",
       " 'company_info',\n",
       " 'manage_personal_info',\n",
       " 'None',\n",
       " 'query_matches',\n",
       " 'manage_personal_info',\n",
       " 'manage_personal_info',\n",
       " 'company_info',\n",
       " 'manage_personal_info',\n",
       " 'search_universities',\n",
       " 'query_matches',\n",
       " 'manage_personal_info',\n",
       " 'search_universities',\n",
       " 'manage_personal_info',\n",
       " 'None',\n",
       " 'leverage_rag',\n",
       " 'matchmaking',\n",
       " 'manage_personal_info',\n",
       " 'manage_personal_info',\n",
       " 'search_scholarships_and_internationals',\n",
       " 'search_universities',\n",
       " 'None',\n",
       " 'leverage_rag',\n",
       " 'leverage_rag',\n",
       " 'matchmaking',\n",
       " 'None',\n",
       " 'company_info',\n",
       " 'None',\n",
       " 'manage_personal_info',\n",
       " 'company_info',\n",
       " 'manage_personal_info',\n",
       " 'query_matches',\n",
       " 'search_scholarships_and_internationals',\n",
       " 'search_universities',\n",
       " 'leverage_rag',\n",
       " 'company_info',\n",
       " 'search_universities',\n",
       " 'company_info',\n",
       " 'search_scholarships_and_internationals',\n",
       " 'company_info',\n",
       " 'matchmaking',\n",
       " 'search_scholarships_and_internationals',\n",
       " 'search_scholarships_and_internationals',\n",
       " 'query_matches',\n",
       " 'search_scholarships_and_internationals',\n",
       " 'company_info',\n",
       " 'search_scholarships_and_internationals',\n",
       " 'search_scholarships_and_internationals',\n",
       " 'matchmaking',\n",
       " 'company_info',\n",
       " 'query_matches',\n",
       " 'matchmaking',\n",
       " 'search_universities',\n",
       " 'company_info',\n",
       " 'search_scholarships_and_internationals',\n",
       " 'company_info',\n",
       " 'leverage_rag',\n",
       " 'matchmaking',\n",
       " 'leverage_rag',\n",
       " 'leverage_rag',\n",
       " 'leverage_rag',\n",
       " 'search_universities',\n",
       " 'matchmaking',\n",
       " 'search_scholarships_and_internationals',\n",
       " 'manage_personal_info',\n",
       " 'manage_personal_info',\n",
       " 'search_universities',\n",
       " 'company_info',\n",
       " 'matchmaking',\n",
       " 'company_info',\n",
       " 'manage_personal_info',\n",
       " 'company_info',\n",
       " 'manage_personal_info',\n",
       " 'manage_personal_info',\n",
       " 'None',\n",
       " 'leverage_rag',\n",
       " 'manage_personal_info',\n",
       " 'None',\n",
       " 'None',\n",
       " 'matchmaking',\n",
       " 'query_matches',\n",
       " 'matchmaking',\n",
       " 'manage_personal_info',\n",
       " 'search_scholarships_and_internationals',\n",
       " 'matchmaking',\n",
       " 'company_info',\n",
       " 'query_matches',\n",
       " 'company_info',\n",
       " 'search_scholarships_and_internationals',\n",
       " 'leverage_rag',\n",
       " 'manage_personal_info',\n",
       " 'search_scholarships_and_internationals',\n",
       " 'company_info',\n",
       " 'search_scholarships_and_internationals',\n",
       " 'search_scholarships_and_internationals',\n",
       " 'search_scholarships_and_internationals',\n",
       " 'company_info',\n",
       " 'search_scholarships_and_internationals',\n",
       " 'manage_personal_info',\n",
       " 'query_matches',\n",
       " 'matchmaking',\n",
       " 'search_scholarships_and_internationals',\n",
       " 'manage_personal_info',\n",
       " 'company_info',\n",
       " 'manage_personal_info',\n",
       " 'company_info',\n",
       " 'query_matches',\n",
       " 'search_universities',\n",
       " 'search_scholarships_and_internationals',\n",
       " 'company_info',\n",
       " 'matchmaking',\n",
       " 'matchmaking',\n",
       " 'leverage_rag',\n",
       " 'leverage_rag',\n",
       " 'manage_personal_info',\n",
       " 'company_info',\n",
       " 'search_universities',\n",
       " 'manage_personal_info',\n",
       " 'leverage_rag',\n",
       " 'matchmaking',\n",
       " 'search_universities',\n",
       " 'search_scholarships_and_internationals',\n",
       " 'manage_personal_info',\n",
       " 'manage_personal_info',\n",
       " 'manage_personal_info',\n",
       " 'query_matches',\n",
       " 'query_matches',\n",
       " 'search_universities',\n",
       " 'search_scholarships_and_internationals',\n",
       " 'query_matches',\n",
       " 'leverage_rag',\n",
       " 'company_info',\n",
       " 'leverage_rag',\n",
       " 'search_scholarships_and_internationals',\n",
       " 'query_matches',\n",
       " 'None',\n",
       " 'search_scholarships_and_internationals',\n",
       " 'search_scholarships_and_internationals',\n",
       " 'query_matches',\n",
       " 'search_universities',\n",
       " 'search_scholarships_and_internationals',\n",
       " 'company_info',\n",
       " 'query_matches',\n",
       " 'search_scholarships_and_internationals',\n",
       " 'query_matches',\n",
       " 'company_info',\n",
       " 'search_universities',\n",
       " 'leverage_rag',\n",
       " 'query_matches',\n",
       " 'search_scholarships_and_internationals',\n",
       " 'search_universities',\n",
       " 'manage_personal_info',\n",
       " 'search_universities',\n",
       " 'manage_personal_info',\n",
       " 'manage_personal_info',\n",
       " 'matchmaking',\n",
       " 'manage_personal_info',\n",
       " 'manage_personal_info',\n",
       " 'manage_personal_info',\n",
       " 'query_matches',\n",
       " 'company_info',\n",
       " 'company_info',\n",
       " 'manage_personal_info',\n",
       " 'company_info',\n",
       " 'leverage_rag',\n",
       " 'query_matches',\n",
       " 'search_universities',\n",
       " 'leverage_rag',\n",
       " 'search_universities',\n",
       " 'search_scholarships_and_internationals',\n",
       " 'manage_personal_info',\n",
       " 'search_scholarships_and_internationals',\n",
       " 'manage_personal_info',\n",
       " 'search_universities',\n",
       " 'search_scholarships_and_internationals',\n",
       " 'search_universities',\n",
       " 'matchmaking',\n",
       " 'search_scholarships_and_internationals',\n",
       " 'company_info',\n",
       " 'search_universities',\n",
       " 'manage_personal_info',\n",
       " 'leverage_rag',\n",
       " 'matchmaking',\n",
       " 'query_matches',\n",
       " 'manage_personal_info',\n",
       " 'search_scholarships_and_internationals',\n",
       " 'search_universities',\n",
       " 'company_info',\n",
       " 'leverage_rag',\n",
       " 'search_universities',\n",
       " 'matchmaking',\n",
       " 'search_scholarships_and_internationals',\n",
       " 'manage_personal_info',\n",
       " 'matchmaking',\n",
       " 'manage_personal_info',\n",
       " 'manage_personal_info',\n",
       " 'search_universities',\n",
       " 'search_universities',\n",
       " 'matchmaking',\n",
       " 'search_universities',\n",
       " 'leverage_rag',\n",
       " 'None',\n",
       " 'manage_personal_info',\n",
       " 'query_matches',\n",
       " 'search_scholarships_and_internationals',\n",
       " 'matchmaking',\n",
       " 'search_scholarships_and_internationals',\n",
       " 'query_matches',\n",
       " 'manage_personal_info',\n",
       " 'manage_personal_info',\n",
       " 'query_matches',\n",
       " 'leverage_rag',\n",
       " 'leverage_rag',\n",
       " 'manage_personal_info',\n",
       " 'leverage_rag',\n",
       " 'query_matches',\n",
       " 'leverage_rag',\n",
       " 'query_matches',\n",
       " 'search_universities',\n",
       " 'leverage_rag',\n",
       " 'search_universities',\n",
       " 'company_info',\n",
       " 'manage_personal_info',\n",
       " 'matchmaking',\n",
       " 'None',\n",
       " 'manage_personal_info',\n",
       " 'search_scholarships_and_internationals',\n",
       " 'None',\n",
       " 'search_universities',\n",
       " 'leverage_rag',\n",
       " 'manage_personal_info',\n",
       " 'matchmaking',\n",
       " 'manage_personal_info',\n",
       " 'search_universities',\n",
       " 'manage_personal_info',\n",
       " 'company_info',\n",
       " 'matchmaking',\n",
       " 'leverage_rag',\n",
       " 'query_matches',\n",
       " 'search_universities',\n",
       " 'query_matches',\n",
       " 'company_info',\n",
       " 'leverage_rag',\n",
       " 'query_matches',\n",
       " 'company_info',\n",
       " 'search_universities',\n",
       " 'query_matches',\n",
       " 'leverage_rag',\n",
       " 'search_scholarships_and_internationals',\n",
       " 'query_matches',\n",
       " 'None',\n",
       " 'matchmaking',\n",
       " 'manage_personal_info',\n",
       " 'matchmaking',\n",
       " 'matchmaking',\n",
       " 'leverage_rag',\n",
       " 'manage_personal_info',\n",
       " 'query_matches',\n",
       " 'matchmaking',\n",
       " 'matchmaking',\n",
       " 'manage_personal_info',\n",
       " 'company_info',\n",
       " 'query_matches',\n",
       " 'leverage_rag',\n",
       " 'manage_personal_info',\n",
       " 'search_universities',\n",
       " 'leverage_rag',\n",
       " 'leverage_rag',\n",
       " 'company_info',\n",
       " 'matchmaking',\n",
       " 'None',\n",
       " 'company_info',\n",
       " 'matchmaking',\n",
       " 'manage_personal_info',\n",
       " 'None',\n",
       " 'manage_personal_info',\n",
       " 'manage_personal_info',\n",
       " 'search_scholarships_and_internationals',\n",
       " 'query_matches',\n",
       " 'leverage_rag',\n",
       " 'manage_personal_info',\n",
       " 'manage_personal_info',\n",
       " 'query_matches',\n",
       " 'matchmaking',\n",
       " 'search_universities',\n",
       " 'search_scholarships_and_internationals',\n",
       " 'leverage_rag',\n",
       " 'leverage_rag',\n",
       " 'manage_personal_info',\n",
       " 'manage_personal_info',\n",
       " 'matchmaking',\n",
       " 'matchmaking',\n",
       " 'search_scholarships_and_internationals',\n",
       " 'query_matches',\n",
       " 'company_info',\n",
       " 'search_universities',\n",
       " 'matchmaking',\n",
       " 'query_matches',\n",
       " 'None',\n",
       " 'manage_personal_info',\n",
       " 'search_universities',\n",
       " 'matchmaking',\n",
       " 'company_info',\n",
       " 'search_universities',\n",
       " 'manage_personal_info',\n",
       " 'search_universities',\n",
       " 'query_matches',\n",
       " 'manage_personal_info']"
      ]
     },
     "execution_count": 58,
     "metadata": {},
     "output_type": "execute_result"
    }
   ],
   "source": [
    "y_train"
   ]
  },
  {
   "cell_type": "code",
   "execution_count": 59,
   "metadata": {},
   "outputs": [],
   "source": [
    "user_intentions = [\"manage_personal_info\", \"search_scholarships_and_internationals\",\"search_universities\" , \"matchmaking\", \"query_matches\", \"leverage_rag\", \"company_info\", None]"
   ]
  },
  {
   "cell_type": "code",
   "execution_count": 60,
   "metadata": {},
   "outputs": [
    {
     "data": {
      "text/plain": [
       "{'manage_personal_info': ['What is my current education level?',\n",
       "  'I want to change my username to Student2023.',\n",
       "  \"Please change my education level to bachelor's.\",\n",
       "  'Can you tell me my current country?',\n",
       "  'Change my country to Canada.',\n",
       "  'Can you set my preferred study environment to quiet?',\n",
       "  'What is my current education level?',\n",
       "  'Can you remind me of my password?',\n",
       "  \"I would like to update my education level to master's.\",\n",
       "  'Please modify my age to 30.',\n",
       "  'What is my current education level?',\n",
       "  'Please update my password to Passw0rd!',\n",
       "  'Please add a preference for urban universities.',\n",
       "  'I want to add a preference for studying abroad.',\n",
       "  'What is my current age?',\n",
       "  'Please modify my education level to high school.',\n",
       "  'Can you provide details about my education level?',\n",
       "  'What is my registered age?',\n",
       "  'Can you change my password to something more secure?',\n",
       "  'Can you tell me my education level?',\n",
       "  \"I'd like to modify my username to Student2023.\",\n",
       "  'Please modify my age to 25.',\n",
       "  'Can you update my country to Japan?',\n",
       "  'Change my country to Canada.',\n",
       "  'I want to change my username to TechGuru123.',\n",
       "  'Please modify my age to 25.',\n",
       "  'Can you provide details about my education level?',\n",
       "  'What country do I have listed?',\n",
       "  'Can you tell me my current username?'],\n",
       " 'search_scholarships_and_internationals': ['What are the requirements for the Erasmus+ program?',\n",
       "  'What international opportunities are available for high school students?',\n",
       "  \"Find me international scholarships for master's programs.\",\n",
       "  'What international scholarships are available for PhD candidates?',\n",
       "  'What international opportunities are available for undergraduates?',\n",
       "  'Are there any scholarships for students from developing countries?',\n",
       "  'Can you find me scholarships for studying in Germany?',\n",
       "  'Can you find universities with international scholarships in Spain?',\n",
       "  'What scholarships are available for international students in Australia?',\n",
       "  'Do you know of any scholarships for art students?',\n",
       "  'Do you have information on scholarships for international exchange programs?',\n",
       "  'Can you list scholarships available for STEM students?',\n",
       "  'Find universities that offer scholarships for international students.',\n",
       "  'Are there any scholarships for international students in Canada?',\n",
       "  'What are the top scholarships for international students?',\n",
       "  'What international opportunities are available for research students?',\n",
       "  'What scholarships are available for international students?',\n",
       "  'Are there scholarships for international students in the EU?'],\n",
       " 'search_universities': ['What are the top universities for studying sociology?',\n",
       "  'Are there universities with courses in graphic design?',\n",
       "  'List universities that offer degrees in public administration.',\n",
       "  'Find universities that offer scholarships for international students.',\n",
       "  'What universities offer degrees in information technology?',\n",
       "  'Can you find universities that specialize in anthropology?',\n",
       "  'Find universities that specialize in environmental science.',\n",
       "  'List universities that offer degrees in statistics.',\n",
       "  'Are there universities with courses in sports management?',\n",
       "  'Are there universities with programs in social work?',\n",
       "  'Show me universities that have strong business programs.',\n",
       "  'What universities offer degrees in hospitality management?',\n",
       "  'What universities offer programs in public health?',\n",
       "  'Find universities that offer courses in philosophy.',\n",
       "  'Search for universities that teach digital marketing.',\n",
       "  'Can you list universities that specialize in economics?',\n",
       "  'Can you recommend universities with good journalism programs?'],\n",
       " 'matchmaking': ['Can you match me with universities that have a diverse student body?',\n",
       "  'Can you help me find matches for universities in the Caribbean?',\n",
       "  'Can you match me with universities that have a good campus life?',\n",
       "  'Find me matches for universities that offer international relations.',\n",
       "  'Please find matches for universities with psychology programs.',\n",
       "  'I want to make matches for universities with computer engineering.',\n",
       "  'Can you help me find matches for universities in South America?',\n",
       "  'Find me matches for universities that offer dual degree programs.',\n",
       "  'I want to make matches for universities with art degrees.',\n",
       "  'I want to see matches for universities in Canada.',\n",
       "  'I want to make matches for universities with environmental studies.',\n",
       "  'I want to see matches for universities with marketing programs.',\n",
       "  'Please find matches for universities that offer scholarships for arts.',\n",
       "  'I want to see matches for universities with hospitality programs.',\n",
       "  'I want to see matches for universities with finance programs.',\n",
       "  'Find me matches for universities that offer financial aid.'],\n",
       " 'query_matches': ['Display my match records.',\n",
       "  'I want to see my matches again.',\n",
       "  'List my matches from before.',\n",
       "  'Show me my match summary.',\n",
       "  'Show me the matches I made.',\n",
       "  'Retrieve my match details.',\n",
       "  'Find my earlier match details.',\n",
       "  'Find the matches I previously accessed.',\n",
       "  'Show me my match details.',\n",
       "  'Show me the matches I saved.',\n",
       "  'Find the matches I saved.',\n",
       "  'What were the matches I found?',\n",
       "  'Retrieve my past matches.',\n",
       "  'Find my previous matches.',\n",
       "  'Access my match details.',\n",
       "  'I want to review my matches.'],\n",
       " 'leverage_rag': ['I have uploaded a PDF file. What are the main conclusions?',\n",
       "  \"You have access to the website link's contents. What is the main argument?\",\n",
       "  \"You have access to the website link's contents. What are the key findings?\",\n",
       "  'I have uploaded a PDF file. Can you highlight the key quotes?',\n",
       "  'I gave the link. Can you identify the target demographic?',\n",
       "  'I uploaded a document. Can you tell me about the author?',\n",
       "  'I gave the link. What are the main findings?',\n",
       "  'I gave the link. Can you summarize the introduction section?',\n",
       "  'I have uploaded a PDF file. Can you identify the key contributors?',\n",
       "  'I uploaded a document. Can you tell me about the case studies included?',\n",
       "  'You have the PDF file now. What is the conclusion drawn?',\n",
       "  \"You have access to the website link's contents. What are the critical reviews?\",\n",
       "  'I have uploaded a PDF file. What are the limitations mentioned?',\n",
       "  'You have the PDF file now. Can you explain the theoretical framework?',\n",
       "  'I have uploaded a PDF file. What are the conclusions drawn?',\n",
       "  'You have the PDF file now. Can you explain the significance of the study?'],\n",
       " 'company_info': ['What is the mission of UniMatch?',\n",
       "  'What is the purpose of UniMatch?',\n",
       "  'What future plans does UniMatch have?',\n",
       "  'How does UniMatch ensure user satisfaction?',\n",
       "  'How does UniMatch help students and universities?',\n",
       "  \"What are the key milestones in UniMatch's journey?\",\n",
       "  'What is the long-term vision for UniMatch?',\n",
       "  'What makes UniMatch unique in its field?',\n",
       "  'Can you tell me about the history of UniMatch?',\n",
       "  'What are the main challenges UniMatch addresses?',\n",
       "  'What is the role of the chatbot in UniMatch?',\n",
       "  'Can you describe the values of UniMatch?',\n",
       "  'How does UniMatch engage with educational institutions?',\n",
       "  'What kind of services does UniMatch provide?',\n",
       "  'What are the core principles of UniMatch?',\n",
       "  'What technology does UniMatch use?',\n",
       "  'What is the user experience like with UniMatch?',\n",
       "  'What is the feedback process for UniMatch?'],\n",
       " None: ['Do you prefer coffee or tea in the morning?',\n",
       "  \"What's your favorite movie of all time?\",\n",
       "  'What was the last thing that made you laugh?',\n",
       "  'I love trying out new recipes on weekends.',\n",
       "  \"What's your go-to comfort food?\",\n",
       "  'I find it interesting how different cultures celebrate holidays.',\n",
       "  'Do you believe in luck or fate?',\n",
       "  \"I just started reading a new book; it's fascinating!\"]}"
      ]
     },
     "execution_count": 60,
     "metadata": {},
     "output_type": "execute_result"
    }
   ],
   "source": [
    "MESSAGES_INFO = {\n",
    "}\n",
    "\n",
    "for intention in user_intentions:\n",
    "    MESSAGES_INFO[intention] = []\n",
    "\n",
    "for message, label in zip(X_test[\"Message\"], y_test):\n",
    "    for intention in user_intentions:\n",
    "        if label == intention:\n",
    "            MESSAGES_INFO[intention].append(message)\n",
    "            continue\n",
    "\n",
    "MESSAGES_INFO"
   ]
  },
  {
   "cell_type": "code",
   "execution_count": 61,
   "metadata": {},
   "outputs": [],
   "source": [
    "manage_personal_info = Route(\n",
    "    name=\"manage_personal_info\",\n",
    "    description=\"The user wants to manage and access his personal information, such as username, age, password, et cetera...; this includes the user asking what is he, what are his user preferences, or to modify his details.\",\n",
    "    utterances=MESSAGES_INFO['manage_personal_info'],\n",
    ")\n",
    "\n",
    "company_info = Route(\n",
    "    name=\"company_info\",\n",
    "    description=\"The user wants to know information about the company called 'UniMatch'.\",\n",
    "    utterances=MESSAGES_INFO['company_info'],\n",
    ")\n",
    "\n",
    "leverage_rag = Route(\n",
    "    name=\"leverage_rag\",\n",
    "    description=\"The user intends wants the chatbot to extract information from an external source (PDF or website).\",\n",
    "    utterances=MESSAGES_INFO['leverage_rag'],\n",
    ")\n",
    "\n",
    "matchmaking = Route(\n",
    "    name=\"matchmaking\",\n",
    "    description=\"The user wants to make matches for his university, specifying some preferences.\",\n",
    "    utterances=MESSAGES_INFO['matchmaking'],\n",
    ")\n",
    "\n",
    "query_matches = Route(\n",
    "    name=\"query_matches\",\n",
    "    description=\"The user wishes to access and see the previously-made matches.\",\n",
    "    utterances=MESSAGES_INFO['query_matches'],\n",
    ")\n",
    "\n",
    "search_scholarships_and_internationals = Route(\n",
    "    name=\"search_scholarships_and_internationals\",\n",
    "    description=\"The user wishes to search for scholarships or international opportunities.\",\n",
    "    utterances=MESSAGES_INFO['search_scholarships_and_internationals'],\n",
    ")\n",
    "\n",
    "search_universities = Route(\n",
    "    name=\"search_universities\",\n",
    "    description=\"The user wishes to search for universities or courses.\",\n",
    "    utterances=MESSAGES_INFO['search_universities'],\n",
    ")\n",
    "routes = [manage_personal_info, company_info, leverage_rag, matchmaking, query_matches, search_scholarships_and_internationals, search_universities]\n",
    "\n"
   ]
  },
  {
   "cell_type": "markdown",
   "metadata": {},
   "source": [
    "# Baseline Routers"
   ]
  },
  {
   "cell_type": "code",
   "execution_count": 62,
   "metadata": {},
   "outputs": [
    {
     "data": {
      "application/vnd.jupyter.widget-view+json": {
       "model_id": "0e98c2afdaa8460e9bfd524842306d21",
       "version_major": 2,
       "version_minor": 0
      },
      "text/plain": [
       "Generating embeddings:   0%|          | 0/1 [00:00<?, ?it/s]"
      ]
     },
     "metadata": {},
     "output_type": "display_data"
    },
    {
     "name": "stdout",
     "output_type": "stream",
     "text": [
      "Accuracy: 96.38%\n"
     ]
    },
    {
     "data": {
      "application/vnd.jupyter.widget-view+json": {
       "model_id": "54c8885b2fe74446913e29dbc4469cf3",
       "version_major": 2,
       "version_minor": 0
      },
      "text/plain": [
       "Generating embeddings:   0%|          | 0/1 [00:00<?, ?it/s]"
      ]
     },
     "metadata": {},
     "output_type": "display_data"
    },
    {
     "data": {
      "application/vnd.jupyter.widget-view+json": {
       "model_id": "5163b6008b7b40eea4340099afdc5a5b",
       "version_major": 2,
       "version_minor": 0
      },
      "text/plain": [
       "Training:   0%|          | 0/500 [00:00<?, ?it/s]"
      ]
     },
     "metadata": {},
     "output_type": "display_data"
    },
    {
     "data": {
      "application/vnd.jupyter.widget-view+json": {
       "model_id": "df3c2adee28a480699fbfb078da7ea4c",
       "version_major": 2,
       "version_minor": 0
      },
      "text/plain": [
       "Generating embeddings:   0%|          | 0/1 [00:00<?, ?it/s]"
      ]
     },
     "metadata": {},
     "output_type": "display_data"
    },
    {
     "name": "stdout",
     "output_type": "stream",
     "text": [
      "Accuracy (Post-fit): 94.93%\n"
     ]
    }
   ],
   "source": [
    "# Standard HF-Encoded RL\n",
    "encoderHF = HuggingFaceEncoder()\n",
    "hf_rl = RouteLayer(encoder=encoderHF, routes=routes) #aggregation = \"mean\", \"max\" or \"sum\". #top_k = 5\n",
    "\n",
    "accuracy = hf_rl.evaluate(X=X_test[\"Message\"].to_list(), y=y_test)\n",
    "print(f\"Accuracy: {accuracy*100:.2f}%\")\n",
    "\n",
    "# Call the fit method on HFEncoder\n",
    "hf_rl.fit(X=X_final[\"Message\"].to_list(), y=y_final, max_iter=500)\n",
    "accuracy = hf_rl.evaluate(X=X_test[\"Message\"].to_list(), y=y_test)\n",
    "print(f\"Accuracy (Post-fit): {accuracy*100:.2f}%\")\n"
   ]
  },
  {
   "cell_type": "code",
   "execution_count": 63,
   "metadata": {},
   "outputs": [
    {
     "data": {
      "application/vnd.jupyter.widget-view+json": {
       "model_id": "ee8abadae6204950bae78099a172858d",
       "version_major": 2,
       "version_minor": 0
      },
      "text/plain": [
       "Generating embeddings:   0%|          | 0/1 [00:00<?, ?it/s]"
      ]
     },
     "metadata": {},
     "output_type": "display_data"
    },
    {
     "name": "stdout",
     "output_type": "stream",
     "text": [
      "Accuracy: 98.55%\n"
     ]
    },
    {
     "data": {
      "application/vnd.jupyter.widget-view+json": {
       "model_id": "a66d315a6b364a2d9069647ececf4bab",
       "version_major": 2,
       "version_minor": 0
      },
      "text/plain": [
       "Generating embeddings:   0%|          | 0/1 [00:00<?, ?it/s]"
      ]
     },
     "metadata": {},
     "output_type": "display_data"
    },
    {
     "data": {
      "application/vnd.jupyter.widget-view+json": {
       "model_id": "56994f0bedf04f89b06d6e82248e44e3",
       "version_major": 2,
       "version_minor": 0
      },
      "text/plain": [
       "Training:   0%|          | 0/500 [00:00<?, ?it/s]"
      ]
     },
     "metadata": {},
     "output_type": "display_data"
    },
    {
     "data": {
      "application/vnd.jupyter.widget-view+json": {
       "model_id": "1c556a246aef4d8dad9d8f64a231488a",
       "version_major": 2,
       "version_minor": 0
      },
      "text/plain": [
       "Generating embeddings:   0%|          | 0/1 [00:00<?, ?it/s]"
      ]
     },
     "metadata": {},
     "output_type": "display_data"
    },
    {
     "name": "stdout",
     "output_type": "stream",
     "text": [
      "Accuracy (Post-fit): 98.55%\n"
     ]
    }
   ],
   "source": [
    "# Standard OA-Encoded RL\n",
    "encoderOA = OpenAIEncoder()\n",
    "oa_rl = RouteLayer(encoder=encoderOA, routes=routes) #aggregation = \"mean\", \"max\" or \"sum\" #top_k = 5\n",
    "\n",
    "accuracy = oa_rl.evaluate(X=X_test[\"Message\"].to_list(), y=y_test)\n",
    "print(f\"Accuracy: {accuracy*100:.2f}%\")\n",
    "\n",
    "# OpenAIEncoder Fit\n",
    "oa_rl.fit(X=X_final[\"Message\"].to_list(), y=y_final, max_iter=500)\n",
    "accuracy = oa_rl.evaluate(X=X_test[\"Message\"].to_list(), y=y_test)\n",
    "print(f\"Accuracy (Post-fit): {accuracy*100:.2f}%\")"
   ]
  },
  {
   "cell_type": "code",
   "execution_count": 64,
   "metadata": {},
   "outputs": [
    {
     "name": "stderr",
     "output_type": "stream",
     "text": [
      "\u001b[32m2024-12-27 17:39:53 INFO semantic_router.utils.logger Saving route config to layer.json\u001b[0m\n"
     ]
    }
   ],
   "source": [
    "oa_rl.to_json(\"layer.json\") # This one avoids overfitting the most"
   ]
  },
  {
   "cell_type": "code",
   "execution_count": 66,
   "metadata": {},
   "outputs": [
    {
     "name": "stdout",
     "output_type": "stream",
     "text": [
      "Please find matches for universities that offer scholarships for international students. name='search_scholarships_and_internationals' function_call=None similarity_score=None != matchmaking\n",
      "Have you ever traveled to a different country? name='manage_personal_info' function_call=None similarity_score=None != None\n",
      "What are the requirements for studying abroad at universities? name='search_scholarships_and_internationals' function_call=None similarity_score=None != search_universities\n"
     ]
    },
    {
     "ename": "KeyboardInterrupt",
     "evalue": "",
     "output_type": "error",
     "traceback": [
      "\u001b[1;31m---------------------------------------------------------------------------\u001b[0m",
      "\u001b[1;31mKeyboardInterrupt\u001b[0m                         Traceback (most recent call last)",
      "Cell \u001b[1;32mIn[66], line 3\u001b[0m\n\u001b[0;32m      1\u001b[0m \u001b[38;5;28;01mfor\u001b[39;00m (index, row), label \u001b[38;5;129;01min\u001b[39;00m \u001b[38;5;28mzip\u001b[39m(X_train\u001b[38;5;241m.\u001b[39miterrows(), y_train):\n\u001b[0;32m      2\u001b[0m     message \u001b[38;5;241m=\u001b[39m row[\u001b[38;5;124m\"\u001b[39m\u001b[38;5;124mMessage\u001b[39m\u001b[38;5;124m\"\u001b[39m]\n\u001b[1;32m----> 3\u001b[0m     prediction \u001b[38;5;241m=\u001b[39m oa_rl(message)\n\u001b[0;32m      5\u001b[0m     \u001b[38;5;28;01mif\u001b[39;00m label \u001b[38;5;241m==\u001b[39m \u001b[38;5;124m'\u001b[39m\u001b[38;5;124mNone\u001b[39m\u001b[38;5;124m'\u001b[39m:\n\u001b[0;32m      6\u001b[0m         label \u001b[38;5;241m=\u001b[39m \u001b[38;5;28;01mNone\u001b[39;00m\n",
      "File \u001b[1;32mc:\\Users\\ACER\\anaconda3\\Lib\\site-packages\\semantic_router\\layer.py:252\u001b[0m, in \u001b[0;36mRouteLayer.__call__\u001b[1;34m(self, text, vector, simulate_static, route_filter)\u001b[0m\n\u001b[0;32m    250\u001b[0m     \u001b[38;5;28;01mif\u001b[39;00m text \u001b[38;5;129;01mis\u001b[39;00m \u001b[38;5;28;01mNone\u001b[39;00m:\n\u001b[0;32m    251\u001b[0m         \u001b[38;5;28;01mraise\u001b[39;00m \u001b[38;5;167;01mValueError\u001b[39;00m(\u001b[38;5;124m\"\u001b[39m\u001b[38;5;124mEither text or vector must be provided\u001b[39m\u001b[38;5;124m\"\u001b[39m)\n\u001b[1;32m--> 252\u001b[0m     vector \u001b[38;5;241m=\u001b[39m \u001b[38;5;28mself\u001b[39m\u001b[38;5;241m.\u001b[39m_encode(text\u001b[38;5;241m=\u001b[39mtext)\n\u001b[0;32m    253\u001b[0m route, top_class_scores \u001b[38;5;241m=\u001b[39m \u001b[38;5;28mself\u001b[39m\u001b[38;5;241m.\u001b[39m_retrieve_top_route(vector, route_filter)\n\u001b[0;32m    254\u001b[0m passed \u001b[38;5;241m=\u001b[39m \u001b[38;5;28mself\u001b[39m\u001b[38;5;241m.\u001b[39m_check_threshold(top_class_scores, route)\n",
      "File \u001b[1;32mc:\\Users\\ACER\\anaconda3\\Lib\\site-packages\\semantic_router\\layer.py:621\u001b[0m, in \u001b[0;36mRouteLayer._encode\u001b[1;34m(self, text)\u001b[0m\n\u001b[0;32m    619\u001b[0m \u001b[38;5;250m\u001b[39m\u001b[38;5;124;03m\"\"\"Given some text, encode it.\"\"\"\u001b[39;00m\n\u001b[0;32m    620\u001b[0m \u001b[38;5;66;03m# create query vector\u001b[39;00m\n\u001b[1;32m--> 621\u001b[0m xq \u001b[38;5;241m=\u001b[39m np\u001b[38;5;241m.\u001b[39marray(\u001b[38;5;28mself\u001b[39m\u001b[38;5;241m.\u001b[39mencoder([text]))\n\u001b[0;32m    622\u001b[0m xq \u001b[38;5;241m=\u001b[39m np\u001b[38;5;241m.\u001b[39msqueeze(xq)  \u001b[38;5;66;03m# Reduce to 1d array.\u001b[39;00m\n\u001b[0;32m    623\u001b[0m \u001b[38;5;28;01mreturn\u001b[39;00m xq\n",
      "File \u001b[1;32mc:\\Users\\ACER\\anaconda3\\Lib\\site-packages\\semantic_router\\encoders\\openai.py:117\u001b[0m, in \u001b[0;36mOpenAIEncoder.__call__\u001b[1;34m(self, docs, truncate)\u001b[0m\n\u001b[0;32m    115\u001b[0m \u001b[38;5;28;01mfor\u001b[39;00m j \u001b[38;5;129;01min\u001b[39;00m \u001b[38;5;28mrange\u001b[39m(\u001b[38;5;28mself\u001b[39m\u001b[38;5;241m.\u001b[39mmax_retries \u001b[38;5;241m+\u001b[39m \u001b[38;5;241m1\u001b[39m):\n\u001b[0;32m    116\u001b[0m     \u001b[38;5;28;01mtry\u001b[39;00m:\n\u001b[1;32m--> 117\u001b[0m         embeds \u001b[38;5;241m=\u001b[39m \u001b[38;5;28mself\u001b[39m\u001b[38;5;241m.\u001b[39mclient\u001b[38;5;241m.\u001b[39membeddings\u001b[38;5;241m.\u001b[39mcreate(\n\u001b[0;32m    118\u001b[0m             \u001b[38;5;28minput\u001b[39m\u001b[38;5;241m=\u001b[39mdocs,\n\u001b[0;32m    119\u001b[0m             model\u001b[38;5;241m=\u001b[39m\u001b[38;5;28mself\u001b[39m\u001b[38;5;241m.\u001b[39mname,\n\u001b[0;32m    120\u001b[0m             dimensions\u001b[38;5;241m=\u001b[39m\u001b[38;5;28mself\u001b[39m\u001b[38;5;241m.\u001b[39mdimensions,\n\u001b[0;32m    121\u001b[0m         )\n\u001b[0;32m    122\u001b[0m         \u001b[38;5;28;01mif\u001b[39;00m embeds\u001b[38;5;241m.\u001b[39mdata:\n\u001b[0;32m    123\u001b[0m             \u001b[38;5;28;01mbreak\u001b[39;00m\n",
      "File \u001b[1;32mc:\\Users\\ACER\\anaconda3\\Lib\\site-packages\\openai\\resources\\embeddings.py:124\u001b[0m, in \u001b[0;36mEmbeddings.create\u001b[1;34m(self, input, model, dimensions, encoding_format, user, extra_headers, extra_query, extra_body, timeout)\u001b[0m\n\u001b[0;32m    118\u001b[0m         embedding\u001b[38;5;241m.\u001b[39membedding \u001b[38;5;241m=\u001b[39m np\u001b[38;5;241m.\u001b[39mfrombuffer(  \u001b[38;5;66;03m# type: ignore[no-untyped-call]\u001b[39;00m\n\u001b[0;32m    119\u001b[0m             base64\u001b[38;5;241m.\u001b[39mb64decode(data), dtype\u001b[38;5;241m=\u001b[39m\u001b[38;5;124m\"\u001b[39m\u001b[38;5;124mfloat32\u001b[39m\u001b[38;5;124m\"\u001b[39m\n\u001b[0;32m    120\u001b[0m         )\u001b[38;5;241m.\u001b[39mtolist()\n\u001b[0;32m    122\u001b[0m     \u001b[38;5;28;01mreturn\u001b[39;00m obj\n\u001b[1;32m--> 124\u001b[0m \u001b[38;5;28;01mreturn\u001b[39;00m \u001b[38;5;28mself\u001b[39m\u001b[38;5;241m.\u001b[39m_post(\n\u001b[0;32m    125\u001b[0m     \u001b[38;5;124m\"\u001b[39m\u001b[38;5;124m/embeddings\u001b[39m\u001b[38;5;124m\"\u001b[39m,\n\u001b[0;32m    126\u001b[0m     body\u001b[38;5;241m=\u001b[39mmaybe_transform(params, embedding_create_params\u001b[38;5;241m.\u001b[39mEmbeddingCreateParams),\n\u001b[0;32m    127\u001b[0m     options\u001b[38;5;241m=\u001b[39mmake_request_options(\n\u001b[0;32m    128\u001b[0m         extra_headers\u001b[38;5;241m=\u001b[39mextra_headers,\n\u001b[0;32m    129\u001b[0m         extra_query\u001b[38;5;241m=\u001b[39mextra_query,\n\u001b[0;32m    130\u001b[0m         extra_body\u001b[38;5;241m=\u001b[39mextra_body,\n\u001b[0;32m    131\u001b[0m         timeout\u001b[38;5;241m=\u001b[39mtimeout,\n\u001b[0;32m    132\u001b[0m         post_parser\u001b[38;5;241m=\u001b[39mparser,\n\u001b[0;32m    133\u001b[0m     ),\n\u001b[0;32m    134\u001b[0m     cast_to\u001b[38;5;241m=\u001b[39mCreateEmbeddingResponse,\n\u001b[0;32m    135\u001b[0m )\n",
      "File \u001b[1;32mc:\\Users\\ACER\\anaconda3\\Lib\\site-packages\\openai\\_base_client.py:1278\u001b[0m, in \u001b[0;36mSyncAPIClient.post\u001b[1;34m(self, path, cast_to, body, options, files, stream, stream_cls)\u001b[0m\n\u001b[0;32m   1264\u001b[0m \u001b[38;5;28;01mdef\u001b[39;00m \u001b[38;5;21mpost\u001b[39m(\n\u001b[0;32m   1265\u001b[0m     \u001b[38;5;28mself\u001b[39m,\n\u001b[0;32m   1266\u001b[0m     path: \u001b[38;5;28mstr\u001b[39m,\n\u001b[1;32m   (...)\u001b[0m\n\u001b[0;32m   1273\u001b[0m     stream_cls: \u001b[38;5;28mtype\u001b[39m[_StreamT] \u001b[38;5;241m|\u001b[39m \u001b[38;5;28;01mNone\u001b[39;00m \u001b[38;5;241m=\u001b[39m \u001b[38;5;28;01mNone\u001b[39;00m,\n\u001b[0;32m   1274\u001b[0m ) \u001b[38;5;241m-\u001b[39m\u001b[38;5;241m>\u001b[39m ResponseT \u001b[38;5;241m|\u001b[39m _StreamT:\n\u001b[0;32m   1275\u001b[0m     opts \u001b[38;5;241m=\u001b[39m FinalRequestOptions\u001b[38;5;241m.\u001b[39mconstruct(\n\u001b[0;32m   1276\u001b[0m         method\u001b[38;5;241m=\u001b[39m\u001b[38;5;124m\"\u001b[39m\u001b[38;5;124mpost\u001b[39m\u001b[38;5;124m\"\u001b[39m, url\u001b[38;5;241m=\u001b[39mpath, json_data\u001b[38;5;241m=\u001b[39mbody, files\u001b[38;5;241m=\u001b[39mto_httpx_files(files), \u001b[38;5;241m*\u001b[39m\u001b[38;5;241m*\u001b[39moptions\n\u001b[0;32m   1277\u001b[0m     )\n\u001b[1;32m-> 1278\u001b[0m     \u001b[38;5;28;01mreturn\u001b[39;00m cast(ResponseT, \u001b[38;5;28mself\u001b[39m\u001b[38;5;241m.\u001b[39mrequest(cast_to, opts, stream\u001b[38;5;241m=\u001b[39mstream, stream_cls\u001b[38;5;241m=\u001b[39mstream_cls))\n",
      "File \u001b[1;32mc:\\Users\\ACER\\anaconda3\\Lib\\site-packages\\openai\\_base_client.py:955\u001b[0m, in \u001b[0;36mSyncAPIClient.request\u001b[1;34m(self, cast_to, options, remaining_retries, stream, stream_cls)\u001b[0m\n\u001b[0;32m    952\u001b[0m \u001b[38;5;28;01melse\u001b[39;00m:\n\u001b[0;32m    953\u001b[0m     retries_taken \u001b[38;5;241m=\u001b[39m \u001b[38;5;241m0\u001b[39m\n\u001b[1;32m--> 955\u001b[0m \u001b[38;5;28;01mreturn\u001b[39;00m \u001b[38;5;28mself\u001b[39m\u001b[38;5;241m.\u001b[39m_request(\n\u001b[0;32m    956\u001b[0m     cast_to\u001b[38;5;241m=\u001b[39mcast_to,\n\u001b[0;32m    957\u001b[0m     options\u001b[38;5;241m=\u001b[39moptions,\n\u001b[0;32m    958\u001b[0m     stream\u001b[38;5;241m=\u001b[39mstream,\n\u001b[0;32m    959\u001b[0m     stream_cls\u001b[38;5;241m=\u001b[39mstream_cls,\n\u001b[0;32m    960\u001b[0m     retries_taken\u001b[38;5;241m=\u001b[39mretries_taken,\n\u001b[0;32m    961\u001b[0m )\n",
      "File \u001b[1;32mc:\\Users\\ACER\\anaconda3\\Lib\\site-packages\\openai\\_base_client.py:991\u001b[0m, in \u001b[0;36mSyncAPIClient._request\u001b[1;34m(self, cast_to, options, retries_taken, stream, stream_cls)\u001b[0m\n\u001b[0;32m    988\u001b[0m log\u001b[38;5;241m.\u001b[39mdebug(\u001b[38;5;124m\"\u001b[39m\u001b[38;5;124mSending HTTP Request: \u001b[39m\u001b[38;5;132;01m%s\u001b[39;00m\u001b[38;5;124m \u001b[39m\u001b[38;5;132;01m%s\u001b[39;00m\u001b[38;5;124m\"\u001b[39m, request\u001b[38;5;241m.\u001b[39mmethod, request\u001b[38;5;241m.\u001b[39murl)\n\u001b[0;32m    990\u001b[0m \u001b[38;5;28;01mtry\u001b[39;00m:\n\u001b[1;32m--> 991\u001b[0m     response \u001b[38;5;241m=\u001b[39m \u001b[38;5;28mself\u001b[39m\u001b[38;5;241m.\u001b[39m_client\u001b[38;5;241m.\u001b[39msend(\n\u001b[0;32m    992\u001b[0m         request,\n\u001b[0;32m    993\u001b[0m         stream\u001b[38;5;241m=\u001b[39mstream \u001b[38;5;129;01mor\u001b[39;00m \u001b[38;5;28mself\u001b[39m\u001b[38;5;241m.\u001b[39m_should_stream_response_body(request\u001b[38;5;241m=\u001b[39mrequest),\n\u001b[0;32m    994\u001b[0m         \u001b[38;5;241m*\u001b[39m\u001b[38;5;241m*\u001b[39mkwargs,\n\u001b[0;32m    995\u001b[0m     )\n\u001b[0;32m    996\u001b[0m \u001b[38;5;28;01mexcept\u001b[39;00m httpx\u001b[38;5;241m.\u001b[39mTimeoutException \u001b[38;5;28;01mas\u001b[39;00m err:\n\u001b[0;32m    997\u001b[0m     log\u001b[38;5;241m.\u001b[39mdebug(\u001b[38;5;124m\"\u001b[39m\u001b[38;5;124mEncountered httpx.TimeoutException\u001b[39m\u001b[38;5;124m\"\u001b[39m, exc_info\u001b[38;5;241m=\u001b[39m\u001b[38;5;28;01mTrue\u001b[39;00m)\n",
      "File \u001b[1;32mc:\\Users\\ACER\\anaconda3\\Lib\\site-packages\\httpx\\_client.py:914\u001b[0m, in \u001b[0;36mClient.send\u001b[1;34m(self, request, stream, auth, follow_redirects)\u001b[0m\n\u001b[0;32m    906\u001b[0m follow_redirects \u001b[38;5;241m=\u001b[39m (\n\u001b[0;32m    907\u001b[0m     \u001b[38;5;28mself\u001b[39m\u001b[38;5;241m.\u001b[39mfollow_redirects\n\u001b[0;32m    908\u001b[0m     \u001b[38;5;28;01mif\u001b[39;00m \u001b[38;5;28misinstance\u001b[39m(follow_redirects, UseClientDefault)\n\u001b[0;32m    909\u001b[0m     \u001b[38;5;28;01melse\u001b[39;00m follow_redirects\n\u001b[0;32m    910\u001b[0m )\n\u001b[0;32m    912\u001b[0m auth \u001b[38;5;241m=\u001b[39m \u001b[38;5;28mself\u001b[39m\u001b[38;5;241m.\u001b[39m_build_request_auth(request, auth)\n\u001b[1;32m--> 914\u001b[0m response \u001b[38;5;241m=\u001b[39m \u001b[38;5;28mself\u001b[39m\u001b[38;5;241m.\u001b[39m_send_handling_auth(\n\u001b[0;32m    915\u001b[0m     request,\n\u001b[0;32m    916\u001b[0m     auth\u001b[38;5;241m=\u001b[39mauth,\n\u001b[0;32m    917\u001b[0m     follow_redirects\u001b[38;5;241m=\u001b[39mfollow_redirects,\n\u001b[0;32m    918\u001b[0m     history\u001b[38;5;241m=\u001b[39m[],\n\u001b[0;32m    919\u001b[0m )\n\u001b[0;32m    920\u001b[0m \u001b[38;5;28;01mtry\u001b[39;00m:\n\u001b[0;32m    921\u001b[0m     \u001b[38;5;28;01mif\u001b[39;00m \u001b[38;5;129;01mnot\u001b[39;00m stream:\n",
      "File \u001b[1;32mc:\\Users\\ACER\\anaconda3\\Lib\\site-packages\\httpx\\_client.py:942\u001b[0m, in \u001b[0;36mClient._send_handling_auth\u001b[1;34m(self, request, auth, follow_redirects, history)\u001b[0m\n\u001b[0;32m    939\u001b[0m request \u001b[38;5;241m=\u001b[39m \u001b[38;5;28mnext\u001b[39m(auth_flow)\n\u001b[0;32m    941\u001b[0m \u001b[38;5;28;01mwhile\u001b[39;00m \u001b[38;5;28;01mTrue\u001b[39;00m:\n\u001b[1;32m--> 942\u001b[0m     response \u001b[38;5;241m=\u001b[39m \u001b[38;5;28mself\u001b[39m\u001b[38;5;241m.\u001b[39m_send_handling_redirects(\n\u001b[0;32m    943\u001b[0m         request,\n\u001b[0;32m    944\u001b[0m         follow_redirects\u001b[38;5;241m=\u001b[39mfollow_redirects,\n\u001b[0;32m    945\u001b[0m         history\u001b[38;5;241m=\u001b[39mhistory,\n\u001b[0;32m    946\u001b[0m     )\n\u001b[0;32m    947\u001b[0m     \u001b[38;5;28;01mtry\u001b[39;00m:\n\u001b[0;32m    948\u001b[0m         \u001b[38;5;28;01mtry\u001b[39;00m:\n",
      "File \u001b[1;32mc:\\Users\\ACER\\anaconda3\\Lib\\site-packages\\httpx\\_client.py:979\u001b[0m, in \u001b[0;36mClient._send_handling_redirects\u001b[1;34m(self, request, follow_redirects, history)\u001b[0m\n\u001b[0;32m    976\u001b[0m \u001b[38;5;28;01mfor\u001b[39;00m hook \u001b[38;5;129;01min\u001b[39;00m \u001b[38;5;28mself\u001b[39m\u001b[38;5;241m.\u001b[39m_event_hooks[\u001b[38;5;124m\"\u001b[39m\u001b[38;5;124mrequest\u001b[39m\u001b[38;5;124m\"\u001b[39m]:\n\u001b[0;32m    977\u001b[0m     hook(request)\n\u001b[1;32m--> 979\u001b[0m response \u001b[38;5;241m=\u001b[39m \u001b[38;5;28mself\u001b[39m\u001b[38;5;241m.\u001b[39m_send_single_request(request)\n\u001b[0;32m    980\u001b[0m \u001b[38;5;28;01mtry\u001b[39;00m:\n\u001b[0;32m    981\u001b[0m     \u001b[38;5;28;01mfor\u001b[39;00m hook \u001b[38;5;129;01min\u001b[39;00m \u001b[38;5;28mself\u001b[39m\u001b[38;5;241m.\u001b[39m_event_hooks[\u001b[38;5;124m\"\u001b[39m\u001b[38;5;124mresponse\u001b[39m\u001b[38;5;124m\"\u001b[39m]:\n",
      "File \u001b[1;32mc:\\Users\\ACER\\anaconda3\\Lib\\site-packages\\httpx\\_client.py:1015\u001b[0m, in \u001b[0;36mClient._send_single_request\u001b[1;34m(self, request)\u001b[0m\n\u001b[0;32m   1010\u001b[0m     \u001b[38;5;28;01mraise\u001b[39;00m \u001b[38;5;167;01mRuntimeError\u001b[39;00m(\n\u001b[0;32m   1011\u001b[0m         \u001b[38;5;124m\"\u001b[39m\u001b[38;5;124mAttempted to send an async request with a sync Client instance.\u001b[39m\u001b[38;5;124m\"\u001b[39m\n\u001b[0;32m   1012\u001b[0m     )\n\u001b[0;32m   1014\u001b[0m \u001b[38;5;28;01mwith\u001b[39;00m request_context(request\u001b[38;5;241m=\u001b[39mrequest):\n\u001b[1;32m-> 1015\u001b[0m     response \u001b[38;5;241m=\u001b[39m transport\u001b[38;5;241m.\u001b[39mhandle_request(request)\n\u001b[0;32m   1017\u001b[0m \u001b[38;5;28;01massert\u001b[39;00m \u001b[38;5;28misinstance\u001b[39m(response\u001b[38;5;241m.\u001b[39mstream, SyncByteStream)\n\u001b[0;32m   1019\u001b[0m response\u001b[38;5;241m.\u001b[39mrequest \u001b[38;5;241m=\u001b[39m request\n",
      "File \u001b[1;32mc:\\Users\\ACER\\anaconda3\\Lib\\site-packages\\httpx\\_transports\\default.py:233\u001b[0m, in \u001b[0;36mHTTPTransport.handle_request\u001b[1;34m(self, request)\u001b[0m\n\u001b[0;32m    220\u001b[0m req \u001b[38;5;241m=\u001b[39m httpcore\u001b[38;5;241m.\u001b[39mRequest(\n\u001b[0;32m    221\u001b[0m     method\u001b[38;5;241m=\u001b[39mrequest\u001b[38;5;241m.\u001b[39mmethod,\n\u001b[0;32m    222\u001b[0m     url\u001b[38;5;241m=\u001b[39mhttpcore\u001b[38;5;241m.\u001b[39mURL(\n\u001b[1;32m   (...)\u001b[0m\n\u001b[0;32m    230\u001b[0m     extensions\u001b[38;5;241m=\u001b[39mrequest\u001b[38;5;241m.\u001b[39mextensions,\n\u001b[0;32m    231\u001b[0m )\n\u001b[0;32m    232\u001b[0m \u001b[38;5;28;01mwith\u001b[39;00m map_httpcore_exceptions():\n\u001b[1;32m--> 233\u001b[0m     resp \u001b[38;5;241m=\u001b[39m \u001b[38;5;28mself\u001b[39m\u001b[38;5;241m.\u001b[39m_pool\u001b[38;5;241m.\u001b[39mhandle_request(req)\n\u001b[0;32m    235\u001b[0m \u001b[38;5;28;01massert\u001b[39;00m \u001b[38;5;28misinstance\u001b[39m(resp\u001b[38;5;241m.\u001b[39mstream, typing\u001b[38;5;241m.\u001b[39mIterable)\n\u001b[0;32m    237\u001b[0m \u001b[38;5;28;01mreturn\u001b[39;00m Response(\n\u001b[0;32m    238\u001b[0m     status_code\u001b[38;5;241m=\u001b[39mresp\u001b[38;5;241m.\u001b[39mstatus,\n\u001b[0;32m    239\u001b[0m     headers\u001b[38;5;241m=\u001b[39mresp\u001b[38;5;241m.\u001b[39mheaders,\n\u001b[0;32m    240\u001b[0m     stream\u001b[38;5;241m=\u001b[39mResponseStream(resp\u001b[38;5;241m.\u001b[39mstream),\n\u001b[0;32m    241\u001b[0m     extensions\u001b[38;5;241m=\u001b[39mresp\u001b[38;5;241m.\u001b[39mextensions,\n\u001b[0;32m    242\u001b[0m )\n",
      "File \u001b[1;32mc:\\Users\\ACER\\anaconda3\\Lib\\site-packages\\httpcore\\_sync\\connection_pool.py:268\u001b[0m, in \u001b[0;36mConnectionPool.handle_request\u001b[1;34m(self, request)\u001b[0m\n\u001b[0;32m    266\u001b[0m     \u001b[38;5;28;01mwith\u001b[39;00m ShieldCancellation():\n\u001b[0;32m    267\u001b[0m         \u001b[38;5;28mself\u001b[39m\u001b[38;5;241m.\u001b[39mresponse_closed(status)\n\u001b[1;32m--> 268\u001b[0m     \u001b[38;5;28;01mraise\u001b[39;00m exc\n\u001b[0;32m    269\u001b[0m \u001b[38;5;28;01melse\u001b[39;00m:\n\u001b[0;32m    270\u001b[0m     \u001b[38;5;28;01mbreak\u001b[39;00m\n",
      "File \u001b[1;32mc:\\Users\\ACER\\anaconda3\\Lib\\site-packages\\httpcore\\_sync\\connection_pool.py:251\u001b[0m, in \u001b[0;36mConnectionPool.handle_request\u001b[1;34m(self, request)\u001b[0m\n\u001b[0;32m    248\u001b[0m         \u001b[38;5;28;01mraise\u001b[39;00m exc\n\u001b[0;32m    250\u001b[0m \u001b[38;5;28;01mtry\u001b[39;00m:\n\u001b[1;32m--> 251\u001b[0m     response \u001b[38;5;241m=\u001b[39m connection\u001b[38;5;241m.\u001b[39mhandle_request(request)\n\u001b[0;32m    252\u001b[0m \u001b[38;5;28;01mexcept\u001b[39;00m ConnectionNotAvailable:\n\u001b[0;32m    253\u001b[0m     \u001b[38;5;66;03m# The ConnectionNotAvailable exception is a special case, that\u001b[39;00m\n\u001b[0;32m    254\u001b[0m     \u001b[38;5;66;03m# indicates we need to retry the request on a new connection.\u001b[39;00m\n\u001b[1;32m   (...)\u001b[0m\n\u001b[0;32m    258\u001b[0m     \u001b[38;5;66;03m# might end up as an HTTP/2 connection, but which actually ends\u001b[39;00m\n\u001b[0;32m    259\u001b[0m     \u001b[38;5;66;03m# up as HTTP/1.1.\u001b[39;00m\n\u001b[0;32m    260\u001b[0m     \u001b[38;5;28;01mwith\u001b[39;00m \u001b[38;5;28mself\u001b[39m\u001b[38;5;241m.\u001b[39m_pool_lock:\n\u001b[0;32m    261\u001b[0m         \u001b[38;5;66;03m# Maintain our position in the request queue, but reset the\u001b[39;00m\n\u001b[0;32m    262\u001b[0m         \u001b[38;5;66;03m# status so that the request becomes queued again.\u001b[39;00m\n",
      "File \u001b[1;32mc:\\Users\\ACER\\anaconda3\\Lib\\site-packages\\httpcore\\_sync\\connection.py:103\u001b[0m, in \u001b[0;36mHTTPConnection.handle_request\u001b[1;34m(self, request)\u001b[0m\n\u001b[0;32m    100\u001b[0m     \u001b[38;5;28;01melif\u001b[39;00m \u001b[38;5;129;01mnot\u001b[39;00m \u001b[38;5;28mself\u001b[39m\u001b[38;5;241m.\u001b[39m_connection\u001b[38;5;241m.\u001b[39mis_available():\n\u001b[0;32m    101\u001b[0m         \u001b[38;5;28;01mraise\u001b[39;00m ConnectionNotAvailable()\n\u001b[1;32m--> 103\u001b[0m \u001b[38;5;28;01mreturn\u001b[39;00m \u001b[38;5;28mself\u001b[39m\u001b[38;5;241m.\u001b[39m_connection\u001b[38;5;241m.\u001b[39mhandle_request(request)\n",
      "File \u001b[1;32mc:\\Users\\ACER\\anaconda3\\Lib\\site-packages\\httpcore\\_sync\\http11.py:133\u001b[0m, in \u001b[0;36mHTTP11Connection.handle_request\u001b[1;34m(self, request)\u001b[0m\n\u001b[0;32m    131\u001b[0m     \u001b[38;5;28;01mwith\u001b[39;00m Trace(\u001b[38;5;124m\"\u001b[39m\u001b[38;5;124mresponse_closed\u001b[39m\u001b[38;5;124m\"\u001b[39m, logger, request) \u001b[38;5;28;01mas\u001b[39;00m trace:\n\u001b[0;32m    132\u001b[0m         \u001b[38;5;28mself\u001b[39m\u001b[38;5;241m.\u001b[39m_response_closed()\n\u001b[1;32m--> 133\u001b[0m \u001b[38;5;28;01mraise\u001b[39;00m exc\n",
      "File \u001b[1;32mc:\\Users\\ACER\\anaconda3\\Lib\\site-packages\\httpcore\\_sync\\http11.py:111\u001b[0m, in \u001b[0;36mHTTP11Connection.handle_request\u001b[1;34m(self, request)\u001b[0m\n\u001b[0;32m    101\u001b[0m     \u001b[38;5;28;01mpass\u001b[39;00m\n\u001b[0;32m    103\u001b[0m \u001b[38;5;28;01mwith\u001b[39;00m Trace(\n\u001b[0;32m    104\u001b[0m     \u001b[38;5;124m\"\u001b[39m\u001b[38;5;124mreceive_response_headers\u001b[39m\u001b[38;5;124m\"\u001b[39m, logger, request, kwargs\n\u001b[0;32m    105\u001b[0m ) \u001b[38;5;28;01mas\u001b[39;00m trace:\n\u001b[0;32m    106\u001b[0m     (\n\u001b[0;32m    107\u001b[0m         http_version,\n\u001b[0;32m    108\u001b[0m         status,\n\u001b[0;32m    109\u001b[0m         reason_phrase,\n\u001b[0;32m    110\u001b[0m         headers,\n\u001b[1;32m--> 111\u001b[0m     ) \u001b[38;5;241m=\u001b[39m \u001b[38;5;28mself\u001b[39m\u001b[38;5;241m.\u001b[39m_receive_response_headers(\u001b[38;5;241m*\u001b[39m\u001b[38;5;241m*\u001b[39mkwargs)\n\u001b[0;32m    112\u001b[0m     trace\u001b[38;5;241m.\u001b[39mreturn_value \u001b[38;5;241m=\u001b[39m (\n\u001b[0;32m    113\u001b[0m         http_version,\n\u001b[0;32m    114\u001b[0m         status,\n\u001b[0;32m    115\u001b[0m         reason_phrase,\n\u001b[0;32m    116\u001b[0m         headers,\n\u001b[0;32m    117\u001b[0m     )\n\u001b[0;32m    119\u001b[0m \u001b[38;5;28;01mreturn\u001b[39;00m Response(\n\u001b[0;32m    120\u001b[0m     status\u001b[38;5;241m=\u001b[39mstatus,\n\u001b[0;32m    121\u001b[0m     headers\u001b[38;5;241m=\u001b[39mheaders,\n\u001b[1;32m   (...)\u001b[0m\n\u001b[0;32m    127\u001b[0m     },\n\u001b[0;32m    128\u001b[0m )\n",
      "File \u001b[1;32mc:\\Users\\ACER\\anaconda3\\Lib\\site-packages\\httpcore\\_sync\\http11.py:176\u001b[0m, in \u001b[0;36mHTTP11Connection._receive_response_headers\u001b[1;34m(self, request)\u001b[0m\n\u001b[0;32m    173\u001b[0m timeout \u001b[38;5;241m=\u001b[39m timeouts\u001b[38;5;241m.\u001b[39mget(\u001b[38;5;124m\"\u001b[39m\u001b[38;5;124mread\u001b[39m\u001b[38;5;124m\"\u001b[39m, \u001b[38;5;28;01mNone\u001b[39;00m)\n\u001b[0;32m    175\u001b[0m \u001b[38;5;28;01mwhile\u001b[39;00m \u001b[38;5;28;01mTrue\u001b[39;00m:\n\u001b[1;32m--> 176\u001b[0m     event \u001b[38;5;241m=\u001b[39m \u001b[38;5;28mself\u001b[39m\u001b[38;5;241m.\u001b[39m_receive_event(timeout\u001b[38;5;241m=\u001b[39mtimeout)\n\u001b[0;32m    177\u001b[0m     \u001b[38;5;28;01mif\u001b[39;00m \u001b[38;5;28misinstance\u001b[39m(event, h11\u001b[38;5;241m.\u001b[39mResponse):\n\u001b[0;32m    178\u001b[0m         \u001b[38;5;28;01mbreak\u001b[39;00m\n",
      "File \u001b[1;32mc:\\Users\\ACER\\anaconda3\\Lib\\site-packages\\httpcore\\_sync\\http11.py:212\u001b[0m, in \u001b[0;36mHTTP11Connection._receive_event\u001b[1;34m(self, timeout)\u001b[0m\n\u001b[0;32m    209\u001b[0m     event \u001b[38;5;241m=\u001b[39m \u001b[38;5;28mself\u001b[39m\u001b[38;5;241m.\u001b[39m_h11_state\u001b[38;5;241m.\u001b[39mnext_event()\n\u001b[0;32m    211\u001b[0m \u001b[38;5;28;01mif\u001b[39;00m event \u001b[38;5;129;01mis\u001b[39;00m h11\u001b[38;5;241m.\u001b[39mNEED_DATA:\n\u001b[1;32m--> 212\u001b[0m     data \u001b[38;5;241m=\u001b[39m \u001b[38;5;28mself\u001b[39m\u001b[38;5;241m.\u001b[39m_network_stream\u001b[38;5;241m.\u001b[39mread(\n\u001b[0;32m    213\u001b[0m         \u001b[38;5;28mself\u001b[39m\u001b[38;5;241m.\u001b[39mREAD_NUM_BYTES, timeout\u001b[38;5;241m=\u001b[39mtimeout\n\u001b[0;32m    214\u001b[0m     )\n\u001b[0;32m    216\u001b[0m     \u001b[38;5;66;03m# If we feed this case through h11 we'll raise an exception like:\u001b[39;00m\n\u001b[0;32m    217\u001b[0m     \u001b[38;5;66;03m#\u001b[39;00m\n\u001b[0;32m    218\u001b[0m     \u001b[38;5;66;03m#     httpcore.RemoteProtocolError: can't handle event type\u001b[39;00m\n\u001b[1;32m   (...)\u001b[0m\n\u001b[0;32m    222\u001b[0m     \u001b[38;5;66;03m# perspective. Instead we handle this case distinctly and treat\u001b[39;00m\n\u001b[0;32m    223\u001b[0m     \u001b[38;5;66;03m# it as a ConnectError.\u001b[39;00m\n\u001b[0;32m    224\u001b[0m     \u001b[38;5;28;01mif\u001b[39;00m data \u001b[38;5;241m==\u001b[39m \u001b[38;5;124mb\u001b[39m\u001b[38;5;124m\"\u001b[39m\u001b[38;5;124m\"\u001b[39m \u001b[38;5;129;01mand\u001b[39;00m \u001b[38;5;28mself\u001b[39m\u001b[38;5;241m.\u001b[39m_h11_state\u001b[38;5;241m.\u001b[39mtheir_state \u001b[38;5;241m==\u001b[39m h11\u001b[38;5;241m.\u001b[39mSEND_RESPONSE:\n",
      "File \u001b[1;32mc:\\Users\\ACER\\anaconda3\\Lib\\site-packages\\httpcore\\_backends\\sync.py:126\u001b[0m, in \u001b[0;36mSyncStream.read\u001b[1;34m(self, max_bytes, timeout)\u001b[0m\n\u001b[0;32m    124\u001b[0m \u001b[38;5;28;01mwith\u001b[39;00m map_exceptions(exc_map):\n\u001b[0;32m    125\u001b[0m     \u001b[38;5;28mself\u001b[39m\u001b[38;5;241m.\u001b[39m_sock\u001b[38;5;241m.\u001b[39msettimeout(timeout)\n\u001b[1;32m--> 126\u001b[0m     \u001b[38;5;28;01mreturn\u001b[39;00m \u001b[38;5;28mself\u001b[39m\u001b[38;5;241m.\u001b[39m_sock\u001b[38;5;241m.\u001b[39mrecv(max_bytes)\n",
      "File \u001b[1;32mc:\\Users\\ACER\\anaconda3\\Lib\\ssl.py:1232\u001b[0m, in \u001b[0;36mSSLSocket.recv\u001b[1;34m(self, buflen, flags)\u001b[0m\n\u001b[0;32m   1228\u001b[0m     \u001b[38;5;28;01mif\u001b[39;00m flags \u001b[38;5;241m!=\u001b[39m \u001b[38;5;241m0\u001b[39m:\n\u001b[0;32m   1229\u001b[0m         \u001b[38;5;28;01mraise\u001b[39;00m \u001b[38;5;167;01mValueError\u001b[39;00m(\n\u001b[0;32m   1230\u001b[0m             \u001b[38;5;124m\"\u001b[39m\u001b[38;5;124mnon-zero flags not allowed in calls to recv() on \u001b[39m\u001b[38;5;132;01m%s\u001b[39;00m\u001b[38;5;124m\"\u001b[39m \u001b[38;5;241m%\u001b[39m\n\u001b[0;32m   1231\u001b[0m             \u001b[38;5;28mself\u001b[39m\u001b[38;5;241m.\u001b[39m\u001b[38;5;18m__class__\u001b[39m)\n\u001b[1;32m-> 1232\u001b[0m     \u001b[38;5;28;01mreturn\u001b[39;00m \u001b[38;5;28mself\u001b[39m\u001b[38;5;241m.\u001b[39mread(buflen)\n\u001b[0;32m   1233\u001b[0m \u001b[38;5;28;01melse\u001b[39;00m:\n\u001b[0;32m   1234\u001b[0m     \u001b[38;5;28;01mreturn\u001b[39;00m \u001b[38;5;28msuper\u001b[39m()\u001b[38;5;241m.\u001b[39mrecv(buflen, flags)\n",
      "File \u001b[1;32mc:\\Users\\ACER\\anaconda3\\Lib\\ssl.py:1105\u001b[0m, in \u001b[0;36mSSLSocket.read\u001b[1;34m(self, len, buffer)\u001b[0m\n\u001b[0;32m   1103\u001b[0m         \u001b[38;5;28;01mreturn\u001b[39;00m \u001b[38;5;28mself\u001b[39m\u001b[38;5;241m.\u001b[39m_sslobj\u001b[38;5;241m.\u001b[39mread(\u001b[38;5;28mlen\u001b[39m, buffer)\n\u001b[0;32m   1104\u001b[0m     \u001b[38;5;28;01melse\u001b[39;00m:\n\u001b[1;32m-> 1105\u001b[0m         \u001b[38;5;28;01mreturn\u001b[39;00m \u001b[38;5;28mself\u001b[39m\u001b[38;5;241m.\u001b[39m_sslobj\u001b[38;5;241m.\u001b[39mread(\u001b[38;5;28mlen\u001b[39m)\n\u001b[0;32m   1106\u001b[0m \u001b[38;5;28;01mexcept\u001b[39;00m SSLError \u001b[38;5;28;01mas\u001b[39;00m x:\n\u001b[0;32m   1107\u001b[0m     \u001b[38;5;28;01mif\u001b[39;00m x\u001b[38;5;241m.\u001b[39margs[\u001b[38;5;241m0\u001b[39m] \u001b[38;5;241m==\u001b[39m SSL_ERROR_EOF \u001b[38;5;129;01mand\u001b[39;00m \u001b[38;5;28mself\u001b[39m\u001b[38;5;241m.\u001b[39msuppress_ragged_eofs:\n",
      "\u001b[1;31mKeyboardInterrupt\u001b[0m: "
     ]
    }
   ],
   "source": [
    "for (index, row), label in zip(X_train.iterrows(), y_train):\n",
    "    message = row[\"Message\"]\n",
    "    prediction = oa_rl(message)\n",
    "\n",
    "    if label == 'None':\n",
    "        label = None\n",
    "    \n",
    "    if prediction.name == label:\n",
    "        continue\n",
    "    else:\n",
    "        print(message, prediction, \"!=\", label)\n"
   ]
  },
  {
   "cell_type": "code",
   "execution_count": 23,
   "metadata": {},
   "outputs": [],
   "source": [
    "# Result: both are the same, choose OA"
   ]
  },
  {
   "cell_type": "markdown",
   "metadata": {},
   "source": [
    "# Tuning Selected Router\n",
    "\n",
    "## Aggregate"
   ]
  },
  {
   "cell_type": "code",
   "execution_count": 67,
   "metadata": {},
   "outputs": [],
   "source": [
    "oa_rl_mean = RouteLayer(encoder=encoderOA, routes=routes, aggregation='mean') #aggregation = \"mean\", \"max\" or \"sum\" #top_k = 5\n",
    "oa_rl_max = RouteLayer(encoder=encoderOA, routes=routes, aggregation='max') #aggregation = \"mean\", \"max\" or \"sum\" #top_k = 5\n",
    "oa_rl_sum = RouteLayer(encoder=encoderOA, routes=routes, aggregation='sum') #aggregation = \"mean\", \"max\" or \"sum\" #top_k = 5\n"
   ]
  },
  {
   "cell_type": "code",
   "execution_count": 68,
   "metadata": {},
   "outputs": [
    {
     "data": {
      "application/vnd.jupyter.widget-view+json": {
       "model_id": "265afae4874b466584b642f0e4ce17c5",
       "version_major": 2,
       "version_minor": 0
      },
      "text/plain": [
       "Generating embeddings:   0%|          | 0/1 [00:00<?, ?it/s]"
      ]
     },
     "metadata": {},
     "output_type": "display_data"
    },
    {
     "data": {
      "application/vnd.jupyter.widget-view+json": {
       "model_id": "80f32f4d175840248ed3fa80c19bacc6",
       "version_major": 2,
       "version_minor": 0
      },
      "text/plain": [
       "Training:   0%|          | 0/500 [00:00<?, ?it/s]"
      ]
     },
     "metadata": {},
     "output_type": "display_data"
    }
   ],
   "source": [
    "oa_rl_mean.fit(X=X_final[\"Message\"].to_list(), y=y_final, max_iter=500)\n"
   ]
  },
  {
   "cell_type": "code",
   "execution_count": 69,
   "metadata": {},
   "outputs": [
    {
     "data": {
      "application/vnd.jupyter.widget-view+json": {
       "model_id": "f6fc53b10c194c5099a4a3331a15483c",
       "version_major": 2,
       "version_minor": 0
      },
      "text/plain": [
       "Generating embeddings:   0%|          | 0/1 [00:00<?, ?it/s]"
      ]
     },
     "metadata": {},
     "output_type": "display_data"
    },
    {
     "data": {
      "application/vnd.jupyter.widget-view+json": {
       "model_id": "0ce71302dcec4f639ffecdccdf41e21e",
       "version_major": 2,
       "version_minor": 0
      },
      "text/plain": [
       "Training:   0%|          | 0/500 [00:00<?, ?it/s]"
      ]
     },
     "metadata": {},
     "output_type": "display_data"
    }
   ],
   "source": [
    "oa_rl_max.fit(X=X_final[\"Message\"].to_list(), y=y_final, max_iter=500)"
   ]
  },
  {
   "cell_type": "code",
   "execution_count": 70,
   "metadata": {},
   "outputs": [
    {
     "data": {
      "application/vnd.jupyter.widget-view+json": {
       "model_id": "0256d5451ce4453eb18c7938f1ec4c25",
       "version_major": 2,
       "version_minor": 0
      },
      "text/plain": [
       "Generating embeddings:   0%|          | 0/1 [00:00<?, ?it/s]"
      ]
     },
     "metadata": {},
     "output_type": "display_data"
    },
    {
     "data": {
      "application/vnd.jupyter.widget-view+json": {
       "model_id": "38534ae3a00f45c9960203116d2e50ec",
       "version_major": 2,
       "version_minor": 0
      },
      "text/plain": [
       "Training:   0%|          | 0/500 [00:00<?, ?it/s]"
      ]
     },
     "metadata": {},
     "output_type": "display_data"
    }
   ],
   "source": [
    "oa_rl_sum.fit(X=X_final[\"Message\"].to_list(), y=y_final, max_iter=500)"
   ]
  },
  {
   "cell_type": "code",
   "execution_count": 71,
   "metadata": {},
   "outputs": [
    {
     "data": {
      "application/vnd.jupyter.widget-view+json": {
       "model_id": "f19fa820d62c44ac853e73d8a6713823",
       "version_major": 2,
       "version_minor": 0
      },
      "text/plain": [
       "Generating embeddings:   0%|          | 0/1 [00:00<?, ?it/s]"
      ]
     },
     "metadata": {},
     "output_type": "display_data"
    },
    {
     "data": {
      "application/vnd.jupyter.widget-view+json": {
       "model_id": "1c75618cf4384a478e085b0ced421c02",
       "version_major": 2,
       "version_minor": 0
      },
      "text/plain": [
       "Generating embeddings:   0%|          | 0/1 [00:00<?, ?it/s]"
      ]
     },
     "metadata": {},
     "output_type": "display_data"
    },
    {
     "data": {
      "application/vnd.jupyter.widget-view+json": {
       "model_id": "575182f2d81e4b05a05bcc43b6311d9f",
       "version_major": 2,
       "version_minor": 0
      },
      "text/plain": [
       "Generating embeddings:   0%|          | 0/1 [00:00<?, ?it/s]"
      ]
     },
     "metadata": {},
     "output_type": "display_data"
    },
    {
     "name": "stdout",
     "output_type": "stream",
     "text": [
      "Accuracy mean: 97.10%\n",
      "Accuracy max: 97.83%\n",
      "Accuracy sum: 97.83%\n"
     ]
    }
   ],
   "source": [
    "accuracy_mean = oa_rl_mean.evaluate(X=X_test[\"Message\"].to_list(), y=y_test)\n",
    "accuracy_max = oa_rl_max.evaluate(X=X_test[\"Message\"].to_list(), y=y_test)\n",
    "accuracy_sum = oa_rl_sum.evaluate(X=X_test[\"Message\"].to_list(), y=y_test)\n",
    "\n",
    "print(f\"Accuracy mean: {accuracy_mean*100:.2f}%\")\n",
    "print(f\"Accuracy max: {accuracy_max*100:.2f}%\")\n",
    "print(f\"Accuracy sum: {accuracy_sum*100:.2f}%\")"
   ]
  },
  {
   "cell_type": "code",
   "execution_count": 72,
   "metadata": {},
   "outputs": [],
   "source": [
    "oa_rl_max_2 = RouteLayer(encoder=encoderOA, routes=routes, aggregation='sum', top_k=1) #aggregation = \"mean\", \"max\" or \"sum\" #top_k = 5\n",
    "oa_rl_max_5 = RouteLayer(encoder=encoderOA, routes=routes, aggregation='sum', top_k = 5) #aggregation = \"mean\", \"max\" or \"sum\" #top_k = 5\n",
    "oa_rl_max_10 = RouteLayer(encoder=encoderOA, routes=routes, aggregation='sum', top_k = 50) #aggregation = \"mean\", \"max\" or \"sum\" #top_k = 5\n",
    "\n"
   ]
  },
  {
   "cell_type": "code",
   "execution_count": 73,
   "metadata": {},
   "outputs": [
    {
     "data": {
      "application/vnd.jupyter.widget-view+json": {
       "model_id": "599a764428524f988ce960aca8594935",
       "version_major": 2,
       "version_minor": 0
      },
      "text/plain": [
       "Generating embeddings:   0%|          | 0/1 [00:00<?, ?it/s]"
      ]
     },
     "metadata": {},
     "output_type": "display_data"
    },
    {
     "data": {
      "application/vnd.jupyter.widget-view+json": {
       "model_id": "bd2314b15b9a48d3aa58e1365ddebca4",
       "version_major": 2,
       "version_minor": 0
      },
      "text/plain": [
       "Training:   0%|          | 0/500 [00:00<?, ?it/s]"
      ]
     },
     "metadata": {},
     "output_type": "display_data"
    }
   ],
   "source": [
    "oa_rl_max_2.fit(X=X_final[\"Message\"].to_list(), y=y_final, max_iter=500)\n"
   ]
  },
  {
   "cell_type": "code",
   "execution_count": 74,
   "metadata": {},
   "outputs": [
    {
     "data": {
      "application/vnd.jupyter.widget-view+json": {
       "model_id": "91b799fe25a0425fbf6e4d0a5d9e4dcb",
       "version_major": 2,
       "version_minor": 0
      },
      "text/plain": [
       "Generating embeddings:   0%|          | 0/1 [00:00<?, ?it/s]"
      ]
     },
     "metadata": {},
     "output_type": "display_data"
    },
    {
     "data": {
      "application/vnd.jupyter.widget-view+json": {
       "model_id": "db1f218115774d72a6ff01cb1d938f19",
       "version_major": 2,
       "version_minor": 0
      },
      "text/plain": [
       "Training:   0%|          | 0/500 [00:00<?, ?it/s]"
      ]
     },
     "metadata": {},
     "output_type": "display_data"
    }
   ],
   "source": [
    "oa_rl_max_5.fit(X=X_final[\"Message\"].to_list(), y=y_final, max_iter=500)\n"
   ]
  },
  {
   "cell_type": "code",
   "execution_count": 75,
   "metadata": {},
   "outputs": [
    {
     "data": {
      "application/vnd.jupyter.widget-view+json": {
       "model_id": "5efc4b2fb9ef41068cf271e3fbaffb25",
       "version_major": 2,
       "version_minor": 0
      },
      "text/plain": [
       "Generating embeddings:   0%|          | 0/1 [00:00<?, ?it/s]"
      ]
     },
     "metadata": {},
     "output_type": "display_data"
    },
    {
     "data": {
      "application/vnd.jupyter.widget-view+json": {
       "model_id": "7cbf2f6bc6654b5d83d10651472ae49b",
       "version_major": 2,
       "version_minor": 0
      },
      "text/plain": [
       "Training:   0%|          | 0/500 [00:00<?, ?it/s]"
      ]
     },
     "metadata": {},
     "output_type": "display_data"
    }
   ],
   "source": [
    "oa_rl_max_10.fit(X=X_final[\"Message\"].to_list(), y=y_final, max_iter=500)\n"
   ]
  },
  {
   "cell_type": "code",
   "execution_count": 40,
   "metadata": {},
   "outputs": [
    {
     "data": {
      "application/vnd.jupyter.widget-view+json": {
       "model_id": "bbe247b3b8a04f6bbf045afa6a83d8b7",
       "version_major": 2,
       "version_minor": 0
      },
      "text/plain": [
       "Generating embeddings:   0%|          | 0/1 [00:00<?, ?it/s]"
      ]
     },
     "metadata": {},
     "output_type": "display_data"
    },
    {
     "data": {
      "application/vnd.jupyter.widget-view+json": {
       "model_id": "e6f5141302dd43359cc0aa9564dd6b8d",
       "version_major": 2,
       "version_minor": 0
      },
      "text/plain": [
       "Generating embeddings:   0%|          | 0/1 [00:00<?, ?it/s]"
      ]
     },
     "metadata": {},
     "output_type": "display_data"
    },
    {
     "data": {
      "application/vnd.jupyter.widget-view+json": {
       "model_id": "c22e9dcf37e44f9d8b25423718538611",
       "version_major": 2,
       "version_minor": 0
      },
      "text/plain": [
       "Generating embeddings:   0%|          | 0/1 [00:00<?, ?it/s]"
      ]
     },
     "metadata": {},
     "output_type": "display_data"
    },
    {
     "name": "stdout",
     "output_type": "stream",
     "text": [
      "Accuracy k=2: 89.13%\n",
      "Accuracy k=5: 89.13%\n",
      "Accuracy k=15: 89.13%\n"
     ]
    }
   ],
   "source": [
    "accuracy_2 = oa_rl_max_2.evaluate(X=X_test[\"Message\"].to_list(), y=y_test)\n",
    "accuracy_5 = oa_rl_max_5.evaluate(X=X_test[\"Message\"].to_list(), y=y_test)\n",
    "accuracy_10 = oa_rl_max_10.evaluate(X=X_test[\"Message\"].to_list(), y=y_test)\n",
    "\n",
    "print(f\"Accuracy k=2: {accuracy_2*100:.2f}%\")\n",
    "print(f\"Accuracy k=5: {accuracy_5*100:.2f}%\")\n",
    "print(f\"Accuracy k=15: {accuracy_10*100:.2f}%\")"
   ]
  },
  {
   "cell_type": "markdown",
   "metadata": {},
   "source": [
    "# Final RL\n"
   ]
  },
  {
   "cell_type": "code",
   "execution_count": 87,
   "metadata": {},
   "outputs": [],
   "source": [
    "from sklearn.model_selection import train_test_split\n",
    "\n",
    "# Split the dataset with stratification\n",
    "X_train, X_test, y_train, y_test = train_test_split(\n",
    "    X_syn, y_syn, test_size=0.1, random_state=0, stratify=y_syn\n",
    ")"
   ]
  },
  {
   "cell_type": "code",
   "execution_count": 88,
   "metadata": {},
   "outputs": [],
   "source": [
    "# Concatenate the train and new dataframes\n",
    "X_final = pd.concat([X_train, X_new], ignore_index=True)\n",
    "\n",
    "# Concatenate the train and new labels\n",
    "y_final = y_train + y_new"
   ]
  },
  {
   "cell_type": "code",
   "execution_count": 89,
   "metadata": {},
   "outputs": [],
   "source": [
    "# Replace \"None\" with None\n",
    "y_final = [None if i == \"None\" else i for i in y_final]\n",
    "y_test = [None if i == \"None\" else i for i in y_test]"
   ]
  },
  {
   "cell_type": "code",
   "execution_count": 90,
   "metadata": {},
   "outputs": [
    {
     "data": {
      "application/vnd.jupyter.widget-view+json": {
       "model_id": "03b031d2fef043d0b6eeb6e14feb6d9e",
       "version_major": 2,
       "version_minor": 0
      },
      "text/plain": [
       "Generating embeddings:   0%|          | 0/1 [00:00<?, ?it/s]"
      ]
     },
     "metadata": {},
     "output_type": "display_data"
    },
    {
     "data": {
      "application/vnd.jupyter.widget-view+json": {
       "model_id": "096d3757f28d4354b47c682eb78f3ba9",
       "version_major": 2,
       "version_minor": 0
      },
      "text/plain": [
       "Training:   0%|          | 0/500 [00:00<?, ?it/s]"
      ]
     },
     "metadata": {},
     "output_type": "display_data"
    },
    {
     "data": {
      "application/vnd.jupyter.widget-view+json": {
       "model_id": "e072ca1bb7784519bda3610493c693a2",
       "version_major": 2,
       "version_minor": 0
      },
      "text/plain": [
       "Generating embeddings:   0%|          | 0/1 [00:00<?, ?it/s]"
      ]
     },
     "metadata": {},
     "output_type": "display_data"
    },
    {
     "name": "stdout",
     "output_type": "stream",
     "text": [
      "Accuracy of final router: 93.48%\n"
     ]
    }
   ],
   "source": [
    "final_rl = RouteLayer(encoder=encoderOA, routes=routes, aggregation='sum', top_k = 5)\n",
    "final_rl.fit(X=X_final[\"Message\"].to_list(), y=y_final, max_iter=500)\n",
    "acc = final_rl.evaluate(X=X_test[\"Message\"].to_list(), y=y_test)\n",
    "\n",
    "print(f\"Accuracy of final router: {acc*100:.2f}%\")"
   ]
  },
  {
   "cell_type": "markdown",
   "metadata": {},
   "source": [
    "# Print metrics"
   ]
  },
  {
   "cell_type": "code",
   "execution_count": 91,
   "metadata": {},
   "outputs": [],
   "source": [
    "def evaluate_router(rl):\n",
    "    REPORT_DATA = {\n",
    "}\n",
    "    for intention in user_intentions:\n",
    "        REPORT_DATA[intention] = [0, 0]\n",
    "\n",
    "    for (index, row), label in zip(X_test.iterrows(), y_test):\n",
    "        message = row[\"Message\"]\n",
    "        prediction = rl(message)\n",
    "\n",
    "        total, wrong = REPORT_DATA[label]\n",
    "        total += 1\n",
    "        \n",
    "        if prediction.name == label:\n",
    "            pass\n",
    "        else:\n",
    "            wrong += 1\n",
    "        REPORT_DATA[label] = [total, wrong]\n",
    "    \n",
    "    return REPORT_DATA\n"
   ]
  },
  {
   "cell_type": "code",
   "execution_count": 92,
   "metadata": {},
   "outputs": [],
   "source": [
    "pd.DataFrame(evaluate_router(final_rl)).T.to_excel('evaluation_results.xlsx')"
   ]
  },
  {
   "cell_type": "code",
   "execution_count": 93,
   "metadata": {},
   "outputs": [
    {
     "name": "stderr",
     "output_type": "stream",
     "text": [
      "\u001b[32m2024-12-27 18:35:04 INFO semantic_router.utils.logger Saving route config to layer.json\u001b[0m\n"
     ]
    }
   ],
   "source": [
    "final_rl.to_json(\"layer.json\") # This one avoids overfitting the most"
   ]
  }
 ],
 "metadata": {
  "kernelspec": {
   "display_name": "base",
   "language": "python",
   "name": "python3"
  },
  "language_info": {
   "codemirror_mode": {
    "name": "ipython",
    "version": 3
   },
   "file_extension": ".py",
   "mimetype": "text/x-python",
   "name": "python",
   "nbconvert_exporter": "python",
   "pygments_lexer": "ipython3",
   "version": "3.12.7"
  }
 },
 "nbformat": 4,
 "nbformat_minor": 2
}
