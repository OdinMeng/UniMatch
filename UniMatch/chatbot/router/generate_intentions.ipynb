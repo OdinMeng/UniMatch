{
 "cells": [
  {
   "cell_type": "markdown",
   "metadata": {},
   "source": [
    "# Intentions Roadmap\n",
    "- Intention 1: Manage Personal Information\n",
    "- Intention 2: Query for scholarships or international opportunities\n",
    "- Intention 3: Query for universities and courses\n",
    "- Intention 4: Matchmaking\n",
    "- Intention 5: Query previously-made matches\n",
    "- Intention 6: Leverage RAG (PDFs and Websites)\n",
    "- Intention 7: Company Information\n",
    "- Intention (None): Chitchat"
   ]
  },
  {
   "cell_type": "code",
   "execution_count": 12,
   "metadata": {},
   "outputs": [],
   "source": [
    "from pydantic import BaseModel, Field\n",
    "from langchain.output_parsers import PydanticOutputParser\n",
    "from langchain_core.prompts import PromptTemplate\n",
    "from langchain_openai import ChatOpenAI\n",
    "from dotenv import load_dotenv"
   ]
  },
  {
   "cell_type": "code",
   "execution_count": 13,
   "metadata": {},
   "outputs": [
    {
     "data": {
      "text/plain": [
       "True"
      ]
     },
     "execution_count": 13,
     "metadata": {},
     "output_type": "execute_result"
    }
   ],
   "source": [
    "load_dotenv()"
   ]
  },
  {
   "cell_type": "markdown",
   "metadata": {},
   "source": [
    "Here are some auxiliar functions to save your synthetic data."
   ]
  },
  {
   "cell_type": "code",
   "execution_count": 14,
   "metadata": {},
   "outputs": [],
   "source": [
    "from auxiliar import add_messages"
   ]
  },
  {
   "cell_type": "code",
   "execution_count": 15,
   "metadata": {},
   "outputs": [],
   "source": [
    "UNI_DATABASE = {\n",
    "    \"Areas\": [  \"Mathematics\",\n",
    "                \"Pilot\",\n",
    "                \"Life and Health Sciences\",\n",
    "                \"Social Sciences and Humanities\",\n",
    "                \"Languages and Translation\"\n",
    "            ],\n",
    "    \"Universities\": [    \n",
    "                \"Instituto Politecnico do Porto\",\n",
    "                \"Escola Superior de Artes e Design\",\n",
    "                \"Instituto Superior de PaÃ§os de BrandÃ£o\",\n",
    "                \"Escola Superior de Hotelaria e Turismo do Estoril\",\n",
    "                \"Instituto Piaget\",\n",
    "                \"Instituto Superior de Transportes e ComunicaÃ§Ãµes\",\n",
    "                \"Instituto PolitÃ©cnico do CÃ¡vado e do Ave\",\n",
    "                \"Universidade Catolica Portuguesa\",\n",
    "                \"Universidade Fernando Pessoa\",\n",
    "                \"Instituto Superior de CiÃªncias Empresariais e de Turismo\",\n",
    "                \"Instituto Superior de Assistentes e IntÃ©rpretes\",\n",
    "                \"Instituto Superior PolitÃ©cnico Gaya\",\n",
    "                \"Instituto PolitÃ©cnico de Tomar\",\n",
    "                \"Instituto Superior de Entre Douro e Vouga\",\n",
    "                \"Instituto Superior Bissaya Barreto\",\n",
    "                \"Universidade AtlÃ¢ntica\",\n",
    "                \"Instituto PolitÃ©cnico da Guarda\",\n",
    "                \"Universidade de Aveiro\",\n",
    "                \"Universidade Nova de Lisboa\",\n",
    "                \"Universidade do Porto\",\n",
    "                \"Instituto PolitÃ©cnico de Castelo Branco\",\n",
    "                \"Universidade de Lisboa\",\n",
    "                \"Instituto Superior de LÃ­nguas e AdministraÃ§Ã£o\",\n",
    "                \"Instituto Superior de Psicologia Aplicada\",\n",
    "                \"Instituto PolitÃ©cnico de Viana do Castelo\",\n",
    "                \"European University Portugal\",\n",
    "                \"Universidade dos Acores\",\n",
    "                \"Escola Nautica Infante D. Henrique\",\n",
    "                \"Instituto PolitÃ©cnico de Leiria\",\n",
    "                \"Universidade de Evora\",\n",
    "                \"Instituto Superior D. Afonso III - INUAF\",\n",
    "                \"Universidade Lusiada\",\n",
    "                \"Instituto Superior de Tecnologias AvanÃ§adas - ISTEC\",\n",
    "                \"Universidade Internacional Lisboa\",\n",
    "                \"Universidade Aberta Lisboa\",\n",
    "                \"Instituto de Artes Visuais, Design e Marketing - IADE\",\n",
    "                \"Instituto PolitÃ©cnico de Lisboa\",\n",
    "                \"Instituto PolitÃ©cnico de Portalegre\",\n",
    "                \"Universidade da Madeira\",\n",
    "                \"Universidade do Minho\",\n",
    "                \"Military University Shoumen\",\n",
    "                \"Ecole Nationale SupÃ©rieure des Telecommunications de Bretagne\",\n",
    "                \"Technical University of Budapest\",\n",
    "                \"Institute of Social Studies\",\n",
    "                \"Viterbo State University\",\n",
    "                \"Schiller International University, London\",\n",
    "                \"University of Stavanger\",\n",
    "                \"Dubna International University for Nature, Society and Man\",\n",
    "                \"Gulhane Military Medical Academy\",\n",
    "                \"University of Trieste\",\n",
    "    ],\n",
    "    \"Scholarships\": [\n",
    "            \"The Stipendium Hungaricum Scholarship\",\n",
    "            \"Hungarian Diaspora Scholarship\",\n",
    "            \"Scholarship Programme for Christian Young People (SCYP)\",\n",
    "            \"Students at Risk Programme\",\n",
    "            \"DiSCo Lazio\",\n",
    "            \"Grants for Italians Residing Abroad\",\n",
    "            \"Luciano Fonda College\",\n",
    "            \"Regional Scholarship\",\n",
    "            \"STEM contributions\",\n",
    "    ]\n",
    "}"
   ]
  },
  {
   "cell_type": "code",
   "execution_count": 16,
   "metadata": {},
   "outputs": [],
   "source": [
    "class SyntheticUserMessage(BaseModel):\n",
    "\n",
    "    message: str = Field(\n",
    "        ...,\n",
    "        title=\"Message\",\n",
    "        description=\"The user message to generate for the target task intention.\",\n",
    "    )\n",
    "\n",
    "\n",
    "class ListSyntheticUserMessages(BaseModel):\n",
    "\n",
    "    messages: list[SyntheticUserMessage] = Field(\n",
    "        ...,\n",
    "        title=\"Messages\",\n",
    "        description=\"The list of synthetic user messages to generate for the target task intention.\",\n",
    "    )\n",
    "\n",
    "output_parser = PydanticOutputParser(pydantic_object=ListSyntheticUserMessages)"
   ]
  },
  {
   "cell_type": "code",
   "execution_count": 17,
   "metadata": {},
   "outputs": [],
   "source": [
    "system_prompt = \"\"\"\n",
    "You are tasked with generating synthetic user messages for an e-commerce platform called Cobuy, which specializes in electronics and gadgets.\n",
    "\n",
    "The user intentions are:\n",
    "{user_intentions}\n",
    "\n",
    "Your task is to create {k} distinct messages for the following target task intention:\n",
    "{target_task_intention}\n",
    "\n",
    "Specific information about the target task intention:\n",
    "{target_task_intention_description}\n",
    "\n",
    "Follow these guidelines:\n",
    "1. Focus exclusively on the target task intention, ensuring the message is relevant.\n",
    "2. Each message should be between 5 and 20 words.\n",
    "3. Avoid including any details or references to other user intentions.\n",
    "4. Ensure the messages sound natural and typical of user queries for the given intention.\n",
    "5. Follow the provided format strictly to maintain consistency.\n",
    "\n",
    "Message format:\n",
    "{format_instructions}\n",
    "\"\"\"\n",
    "\n",
    "prompt = PromptTemplate(\n",
    "    template=system_prompt,\n",
    "    input_variables=[\"k\", \"user_intentions\", \"target_task_intention\" \"target_task_intention_description\", \"format_instructions\"],\n",
    "    partial_variables={\"format_instructions\": output_parser.get_format_instructions()},\n",
    ")"
   ]
  },
  {
   "cell_type": "code",
   "execution_count": 18,
   "metadata": {},
   "outputs": [],
   "source": [
    "llm = ChatOpenAI(temperature=0.0, model=\"gpt-4o-mini\")\n",
    "\n",
    "user_intentions = [\"manage_personal_information\", \"search_scholarships_and_internationals\",\"search_universities\" , \"matchmaking\", \"query_matches\", \"leverage_rag\", \"company_info\"]\n",
    "k = 50 # Number of synthetic user messages to generate for each target task intention\n",
    "\n",
    "file_name = \"synthetic_intetions.json\"\n",
    "\n",
    "synthetic_data_chain = prompt | llm | output_parser"
   ]
  },
  {
   "cell_type": "markdown",
   "metadata": {},
   "source": [
    "# Intention 1 - Manage Personal Information"
   ]
  },
  {
   "cell_type": "code",
   "execution_count": 19,
   "metadata": {},
   "outputs": [],
   "source": [
    "intention = \"Manage Personal Information\"\n",
    "\n",
    "description = \"The user wants to manage his personal information. \\\n",
    "    For example, the user might modify the following informations: \\\n",
    "        - Username \\\n",
    "        - User Preferences (Add, modify, remove or change) about universities \\\n",
    "        - Password \\\n",
    "        - Country \\\n",
    "        - Age \\\n",
    "        - Education Level (high school, bachelor's, master's)\\\n",
    "    The user might express his request in various ways, but not as a question. Usually the user has a specified value in mind.\"\n",
    "\n",
    "response = synthetic_data_chain.invoke({\"k\": k, \"user_intentions\": user_intentions, \"target_task_intention\": intention, \"target_task_intention_description\": description})\n",
    "\n",
    "order_status_messages = []\n",
    "for message in response.messages:\n",
    "    order_status_messages.append({\"Intention\":intention, \"Message\":message.message})"
   ]
  },
  {
   "cell_type": "markdown",
   "metadata": {},
   "source": [
    "Now you can check and edit your synthetic messages in a json file."
   ]
  },
  {
   "cell_type": "code",
   "execution_count": 20,
   "metadata": {},
   "outputs": [],
   "source": [
    "add_messages(order_status_messages, file_name)"
   ]
  },
  {
   "cell_type": "markdown",
   "metadata": {},
   "source": [
    "# Intention 2 - Query Database for Scholarships and International Opportunities"
   ]
  },
  {
   "cell_type": "code",
   "execution_count": 21,
   "metadata": {},
   "outputs": [],
   "source": [
    "intention = \"search_universities\"\n",
    "\n",
    "description = \"\"\"The user intends to query the database for some information. In particular, he might ask the following topics: \\\n",
    "                - Universities \\\n",
    "                - Course Programmes \\\n",
    "                - Specific Subjects (exams)\\\n",
    "                \n",
    "                A user can ask for this kind of information in every way, ranging from a specific request to the broadest and most general question.\n",
    "                This request includes just asking for a general overview of a specific topic, or asking for a specific aspect of the topic (for example: requisites of a scholarship, location of a university, et cetera...)\n",
    "\n",
    "                Universities: {Universities} \\\n",
    "                \"\"\"\n",
    "\n",
    "response = synthetic_data_chain.invoke({\"k\": k, \"user_intentions\": user_intentions, \"target_task_intention\": intention, \"target_task_intention_description\": description})\n",
    "\n",
    "create_order_messages = []\n",
    "\n",
    "for message in response.messages:\n",
    "    create_order_messages.append({\"Intention\":intention, \"Message\":message.message})"
   ]
  },
  {
   "cell_type": "code",
   "execution_count": 22,
   "metadata": {},
   "outputs": [],
   "source": [
    "add_messages(create_order_messages, file_name)"
   ]
  },
  {
   "cell_type": "markdown",
   "metadata": {},
   "source": [
    "# Intention 3. Query database for university, courses and subjects"
   ]
  },
  {
   "cell_type": "code",
   "execution_count": 23,
   "metadata": {},
   "outputs": [],
   "source": [
    "intention = \"search_scholarships_and_internationals\"\n",
    "\n",
    "description = \"\"\"The user intends to query the database for some information. In particular, he might ask the following topics: \\\n",
    "                - Scholarships \\\n",
    "                - International opportunities (example: Erasmus+)\\\n",
    "                \n",
    "                A user can ask for this kind of information in every way, ranging from a specific request to the broadest and most general question.\n",
    "                This request includes just asking for a general overview of a specific topic, or asking for a specific aspect of the topic (for example: requisites of a scholarship, location of a university, et cetera...)\n",
    "\n",
    "                Scholarships: {Scholarships} \\\n",
    "                \"\"\"\n",
    "\n",
    "response = synthetic_data_chain.invoke({\"k\": k, \"user_intentions\": user_intentions, \"target_task_intention\": intention, \"target_task_intention_description\": description})\n",
    "\n",
    "create_order_messages = []\n",
    "\n",
    "for message in response.messages:\n",
    "    create_order_messages.append({\"Intention\":intention, \"Message\":message.message})"
   ]
  },
  {
   "cell_type": "code",
   "execution_count": 24,
   "metadata": {},
   "outputs": [],
   "source": [
    "add_messages(create_order_messages, file_name)"
   ]
  },
  {
   "cell_type": "markdown",
   "metadata": {},
   "source": [
    "# Intention 3 - Matchmaking"
   ]
  },
  {
   "cell_type": "code",
   "execution_count": 25,
   "metadata": {},
   "outputs": [],
   "source": [
    "intention = \"Matchmaking\"\n",
    "\n",
    "\n",
    "description = \"\"\"The user is interested in getting some matches, between his university preferences and the ones available in the database. \\\n",
    "                The prompt can just simply be a request to do the matches, or it can contain further specifications for the university (such as courses, programmes, scholarships, et cetera...). \n",
    "                \"\"\"\n",
    "\n",
    "response = synthetic_data_chain.invoke({\"k\": k, \"user_intentions\": user_intentions, \"target_task_intention\": intention, \"target_task_intention_description\": description})\n",
    "\n",
    "product_information_messages = []\n",
    "\n",
    "for message in response.messages:\n",
    "    product_information_messages.append({\"Intention\":intention, \"Message\":message.message})"
   ]
  },
  {
   "cell_type": "code",
   "execution_count": 26,
   "metadata": {},
   "outputs": [],
   "source": [
    "add_messages(product_information_messages, file_name)"
   ]
  },
  {
   "cell_type": "markdown",
   "metadata": {},
   "source": [
    "# Intention 4: Query Matches\n"
   ]
  },
  {
   "cell_type": "code",
   "execution_count": 27,
   "metadata": {},
   "outputs": [],
   "source": [
    "intention = \"query_matches\"\n",
    "\n",
    "\n",
    "description = \"\"\"The user has previously made the requests to make matches. Now the user wants to re-access the matches that have been previously made, so he can consult them again.\n",
    "                The prompt should be simple.\n",
    "                \"\"\"\n",
    "\n",
    "response = synthetic_data_chain.invoke({\"k\": k, \"user_intentions\": user_intentions, \"target_task_intention\": intention, \"target_task_intention_description\": description})\n",
    "\n",
    "product_information_messages = []\n",
    "\n",
    "for message in response.messages:\n",
    "    product_information_messages.append({\"Intention\":intention, \"Message\":message.message})"
   ]
  },
  {
   "cell_type": "code",
   "execution_count": 28,
   "metadata": {},
   "outputs": [],
   "source": [
    "add_messages(product_information_messages, file_name)"
   ]
  },
  {
   "cell_type": "markdown",
   "metadata": {},
   "source": [
    "# Intention 5: Leverage RAG\n"
   ]
  },
  {
   "cell_type": "code",
   "execution_count": 29,
   "metadata": {},
   "outputs": [],
   "source": [
    "intention = \"leverage_rag\"\n",
    "\n",
    "\n",
    "description = \"\"\"The user wishes to upload an external document about a university-related topic for the chatbot to process and explain it to the user. The document can be either in form of a PDF file (which is uploaded through external methods), or it can be a link to a website.\n",
    "                The prompt might (but not always) have further questions or requests about the document.\n",
    "                \"\"\"\n",
    "\n",
    "response = synthetic_data_chain.invoke({\"k\": k, \"user_intentions\": user_intentions, \"target_task_intention\": intention, \"target_task_intention_description\": description})\n",
    "\n",
    "product_information_messages = []\n",
    "\n",
    "for message in response.messages:\n",
    "    product_information_messages.append({\"Intention\":intention, \"Message\":message.message})"
   ]
  },
  {
   "cell_type": "code",
   "execution_count": 30,
   "metadata": {},
   "outputs": [],
   "source": [
    "add_messages(product_information_messages, file_name)"
   ]
  },
  {
   "cell_type": "markdown",
   "metadata": {},
   "source": [
    "# Intention 6: Company Information"
   ]
  },
  {
   "cell_type": "code",
   "execution_count": 31,
   "metadata": {},
   "outputs": [],
   "source": [
    "intention = \"company_info\"\n",
    "\n",
    "\n",
    "description = \"\"\"The user wishes to know more about the company UniMatch. \\\n",
    "                The questions can include topics such as the company mission and values, its history, about its creators, about the chatbot, and other potential specific aspects.\n",
    "                \"\"\"\n",
    "\n",
    "response = synthetic_data_chain.invoke({\"k\": k, \"user_intentions\": user_intentions, \"target_task_intention\": intention, \"target_task_intention_description\": description})\n",
    "\n",
    "product_information_messages = []\n",
    "\n",
    "for message in response.messages:\n",
    "    product_information_messages.append({\"Intention\":intention, \"Message\":message.message})"
   ]
  },
  {
   "cell_type": "code",
   "execution_count": 32,
   "metadata": {},
   "outputs": [],
   "source": [
    "add_messages(product_information_messages, file_name)"
   ]
  },
  {
   "cell_type": "markdown",
   "metadata": {},
   "source": [
    "# No Intention: None"
   ]
  },
  {
   "cell_type": "code",
   "execution_count": 33,
   "metadata": {},
   "outputs": [],
   "source": [
    "system_prompt = \"\"\"\n",
    "You are tasked with generating synthetic user messages.\n",
    "\n",
    "The user intentions are:\n",
    "{user_intentions}\n",
    "\n",
    "Your task is to create {k} distinct messages completely unrelated to the available user intentions.\n",
    "These messages should be generic and not related to any specific task or intention.\n",
    "The user is engaging in casual conversation.\n",
    "The user might ask general questions, share opinions, or express emotions. \n",
    "The user might also ask for totaly none related questions to the platform. \n",
    "The user might ask general questions, share opinions, or express emotions.\n",
    "\n",
    "Follow these guidelines:\n",
    "1. Focus exclusively on not being related to any of the user intentions.\n",
    "2. Each message should be between 5 and 20 words.\n",
    "3. Avoid including any details or references to other user intentions.\n",
    "4. Ensure the messages sound natural and typical of user queries for the given intention.\n",
    "5. Follow the provided format strictly to maintain consistency.\n",
    "\n",
    "Message format:\n",
    "{format_instructions}\n",
    "\"\"\""
   ]
  },
  {
   "cell_type": "code",
   "execution_count": 34,
   "metadata": {},
   "outputs": [],
   "source": [
    "prompt = PromptTemplate(\n",
    "    template=system_prompt,\n",
    "    input_variables=[\"k\", \"user_intentions\"],\n",
    "    partial_variables={\"format_instructions\": output_parser.get_format_instructions()},\n",
    ")\n",
    "\n",
    "synthetic_data_chain = prompt | llm | output_parser"
   ]
  },
  {
   "cell_type": "code",
   "execution_count": 35,
   "metadata": {},
   "outputs": [],
   "source": [
    "response = synthetic_data_chain.invoke({\"k\": (k//2), \"user_intentions\": user_intentions})\n",
    "\n",
    "none_related_messages = []\n",
    "\n",
    "for message in response.messages:\n",
    "    none_related_messages.append({\"Intention\":\"None\", \"Message\":message.message})"
   ]
  },
  {
   "cell_type": "code",
   "execution_count": 36,
   "metadata": {},
   "outputs": [],
   "source": [
    "add_messages(none_related_messages, file_name)"
   ]
  },
  {
   "cell_type": "code",
   "execution_count": null,
   "metadata": {},
   "outputs": [],
   "source": []
  }
 ],
 "metadata": {
  "kernelspec": {
   "display_name": "base",
   "language": "python",
   "name": "python3"
  },
  "language_info": {
   "codemirror_mode": {
    "name": "ipython",
    "version": 3
   },
   "file_extension": ".py",
   "mimetype": "text/x-python",
   "name": "python",
   "nbconvert_exporter": "python",
   "pygments_lexer": "ipython3",
   "version": "3.12.7"
  }
 },
 "nbformat": 4,
 "nbformat_minor": 2
}
