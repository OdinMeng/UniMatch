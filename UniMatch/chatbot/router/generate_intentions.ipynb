{
 "cells": [
  {
   "cell_type": "markdown",
   "metadata": {},
   "source": [
    "# Intentions Roadmap\n",
    "- Intention 1: Manage Personal Information\n",
    "- Intention 2: Query for scholarships or international opportunities\n",
    "- Intention 3: Query for universities and courses\n",
    "- Intention 4: Matchmaking\n",
    "- Intention 5: Query previously-made matches\n",
    "- Intention 6: Leverage RAG (PDFs and Websites)\n",
    "- Intention 7: Company Information\n",
    "- Intention (None): Chitchat"
   ]
  },
  {
   "cell_type": "code",
   "execution_count": 1,
   "metadata": {},
   "outputs": [],
   "source": [
    "from pydantic import BaseModel, Field\n",
    "from langchain.output_parsers import PydanticOutputParser\n",
    "from langchain_core.prompts import PromptTemplate\n",
    "from langchain_openai import ChatOpenAI\n",
    "from dotenv import load_dotenv"
   ]
  },
  {
   "cell_type": "code",
   "execution_count": 2,
   "metadata": {},
   "outputs": [
    {
     "data": {
      "text/plain": [
       "True"
      ]
     },
     "execution_count": 2,
     "metadata": {},
     "output_type": "execute_result"
    }
   ],
   "source": [
    "load_dotenv()"
   ]
  },
  {
   "cell_type": "markdown",
   "metadata": {},
   "source": [
    "Here are some auxiliar functions to save your synthetic data."
   ]
  },
  {
   "cell_type": "code",
   "execution_count": 3,
   "metadata": {},
   "outputs": [],
   "source": [
    "from auxiliar import add_messages"
   ]
  },
  {
   "cell_type": "code",
   "execution_count": 4,
   "metadata": {},
   "outputs": [],
   "source": [
    "class SyntheticUserMessage(BaseModel):\n",
    "\n",
    "    message: str = Field(\n",
    "        ...,\n",
    "        title=\"Message\",\n",
    "        description=\"The user message to generate for the target task intention.\",\n",
    "    )\n",
    "\n",
    "\n",
    "class ListSyntheticUserMessages(BaseModel):\n",
    "\n",
    "    messages: list[SyntheticUserMessage] = Field(\n",
    "        ...,\n",
    "        title=\"Messages\",\n",
    "        description=\"The list of synthetic user messages to generate for the target task intention.\",\n",
    "    )\n",
    "\n",
    "output_parser = PydanticOutputParser(pydantic_object=ListSyntheticUserMessages)"
   ]
  },
  {
   "cell_type": "code",
   "execution_count": 5,
   "metadata": {},
   "outputs": [],
   "source": [
    "system_prompt = \"\"\"\n",
    "You are tasked with generating synthetic user messages for a chatbot platform called UniMatch, which specializes in universities and courses.\n",
    "\n",
    "The user intentions are:\n",
    "{user_intentions}\n",
    "\n",
    "Your task is to create {k} distinct messages for the following target task intention:\n",
    "{target_task_intention}\n",
    "\n",
    "Specific information about the target task intention:\n",
    "{target_task_intention_description}\n",
    "\n",
    "Follow these guidelines:\n",
    "1. Focus exclusively on the target task intention, ensuring the message is relevant.\n",
    "2. Each message should be between 5 and 20 words.\n",
    "3. Avoid including any details or references to other user intentions.\n",
    "4. Ensure the messages sound natural and typical of user queries for the given intention.\n",
    "5. Follow the provided format strictly to maintain consistency.\n",
    "\n",
    "Message format:\n",
    "{format_instructions}\n",
    "\"\"\"\n",
    "\n",
    "prompt = PromptTemplate(\n",
    "    template=system_prompt,\n",
    "    input_variables=[\"k\", \"user_intentions\", \"target_task_intention\" \"target_task_intention_description\", \"format_instructions\"],\n",
    "    partial_variables={\"format_instructions\": output_parser.get_format_instructions()},\n",
    ")"
   ]
  },
  {
   "cell_type": "code",
   "execution_count": 6,
   "metadata": {},
   "outputs": [],
   "source": [
    "llm = ChatOpenAI(temperature=0.0, model=\"gpt-4o-mini\")\n",
    "\n",
    "user_intentions = [\"manage_personal_information\", \"search_scholarships_and_internationals\",\"search_universities\" , \"matchmaking\", \"query_matches\", \"leverage_rag\", \"company_info\"]\n",
    "k = 50 # Number of synthetic user messages to generate for each target task intention\n",
    "\n",
    "file_name = \"synthetic_intetions.json\"\n",
    "\n",
    "synthetic_data_chain = prompt | llm | output_parser"
   ]
  },
  {
   "cell_type": "markdown",
   "metadata": {},
   "source": [
    "# Intention 1 - Manage Personal Information"
   ]
  },
  {
   "cell_type": "code",
   "execution_count": 7,
   "metadata": {},
   "outputs": [],
   "source": [
    "intention = \"Manage Personal Information\"\n",
    "\n",
    "description = \"\"\"The user wants to manage his personal information or wants the bot to describe his personal information. \n",
    "    For example, the user might modify or access the following informations: \n",
    "        - Username \n",
    "        - User Preferences (Add, modify, remove or change) about universities \n",
    "        - Password \n",
    "        - Country \n",
    "        - Age \n",
    "        - Education Level (high school, bachelor's, master's)\n",
    "    The user might express his request in various ways, from a general request to a specific one.\n",
    "\n",
    "    Make half of the intentions trying to modify, and the other half trying to access.\n",
    "    \n",
    "    Examples: \n",
    "    I want to change my username to <...> \n",
    "    Can you change my password to <...>? \n",
    "    Would it be possible to modify my age to <...>? \n",
    "    Change Country to Italy \n",
    "    Modify my user preferences; now I prefer to study in big cities and to study in a friendly environment. \n",
    "    Can you tell me about myself? \n",
    "    What are my preferences? \n",
    "    Who am I? \n",
    "    What is my age?\"\"\"\n",
    "\n",
    "response = synthetic_data_chain.invoke({\"k\": k, \"user_intentions\": user_intentions, \"target_task_intention\": intention, \"target_task_intention_description\": description})\n",
    "\n",
    "order_status_messages = []\n",
    "for message in response.messages:\n",
    "    order_status_messages.append({\"Intention\":intention, \"Message\":message.message})"
   ]
  },
  {
   "cell_type": "markdown",
   "metadata": {},
   "source": [
    "Now you can check and edit your synthetic messages in a json file."
   ]
  },
  {
   "cell_type": "code",
   "execution_count": 8,
   "metadata": {},
   "outputs": [],
   "source": [
    "add_messages(order_status_messages, file_name)"
   ]
  },
  {
   "cell_type": "markdown",
   "metadata": {},
   "source": [
    "# Intention 2 - Query Database for Scholarships and International Opportunities"
   ]
  },
  {
   "cell_type": "code",
   "execution_count": 11,
   "metadata": {},
   "outputs": [],
   "source": [
    "intention = \"search_universities\"\n",
    "\n",
    "description = \"\"\"The user intends to query the database for some information. In particular, he might ask the following topics: \\\n",
    "                - Universities \\\n",
    "                - Course Programmes \\\n",
    "                - Specific Subjects (exams)\\\n",
    "                \n",
    "                A user can ask for this kind of information in every way, ranging from a specific request to the broadest and most general question.\n",
    "                This request includes just asking for a general overview of a specific topic, or asking for a specific aspect of the topic (for example: requisites of a scholarship, location of a university, et cetera...)\n",
    "                \n",
    "                Examples:\n",
    "                Can you reccomend me some good universities in <...>?\n",
    "                Do you have any universities with courses in <...>?\n",
    "                Find me some universities specializing in <...>\n",
    "                Search for courses with topics in <...>\n",
    "                Are there courses with subjects in <...>?\n",
    "                \"\"\"\n",
    "\n",
    "response = synthetic_data_chain.invoke({\"k\": k, \"user_intentions\": user_intentions, \"target_task_intention\": intention, \"target_task_intention_description\": description})\n",
    "\n",
    "create_order_messages = []\n",
    "\n",
    "for message in response.messages:\n",
    "    create_order_messages.append({\"Intention\":intention, \"Message\":message.message})"
   ]
  },
  {
   "cell_type": "code",
   "execution_count": 12,
   "metadata": {},
   "outputs": [],
   "source": [
    "add_messages(create_order_messages, file_name)"
   ]
  },
  {
   "cell_type": "markdown",
   "metadata": {},
   "source": [
    "# Intention 3. Query database for university, courses and subjects"
   ]
  },
  {
   "cell_type": "code",
   "execution_count": 13,
   "metadata": {},
   "outputs": [],
   "source": [
    "intention = \"search_scholarships_and_internationals\"\n",
    "\n",
    "description = \"\"\"The user intends to query the database for some information. In particular, he might ask the following topics: \\\n",
    "                - Scholarships \\\n",
    "                - International opportunities (example: Erasmus+)\\\n",
    "                \n",
    "                A user can ask for this kind of information in every way, ranging from a specific request to the broadest and most general question.\n",
    "                This request includes just asking for a general overview of a specific topic, or asking for a specific aspect of the topic (for example: requisites of a scholarship, location of a university, et cetera...)\n",
    "                \n",
    "                Examples:\n",
    "                Do you have any scholarships for <...>?\n",
    "                Do you know of any universities with scholarships in <...>?\n",
    "                Can you find me universities with international opportunities in <...>?\n",
    "                Are there any international opportunities in <...>?\n",
    "                Can you find scholarships for <...>?\n",
    "                Find some universities with scholarships at <...>\n",
    "                \"\"\"\n",
    "\n",
    "response = synthetic_data_chain.invoke({\"k\": k, \"user_intentions\": user_intentions, \"target_task_intention\": intention, \"target_task_intention_description\": description})\n",
    "\n",
    "create_order_messages = []\n",
    "\n",
    "for message in response.messages:\n",
    "    create_order_messages.append({\"Intention\":intention, \"Message\":message.message})"
   ]
  },
  {
   "cell_type": "code",
   "execution_count": 14,
   "metadata": {},
   "outputs": [],
   "source": [
    "add_messages(create_order_messages, file_name)"
   ]
  },
  {
   "cell_type": "markdown",
   "metadata": {},
   "source": [
    "# Intention 3 - Matchmaking"
   ]
  },
  {
   "cell_type": "code",
   "execution_count": 15,
   "metadata": {},
   "outputs": [],
   "source": [
    "intention = \"Matchmaking\"\n",
    "\n",
    "\n",
    "description = \"\"\"The user is interested in getting some matches, between his university preferences and the ones available in the database. \\\n",
    "                The prompt can just simply be a request to do the matches, or it can contain further specifications for the university (such as courses, programmes, scholarships, et cetera...). \\\n",
    "\n",
    "                Examples\n",
    "                I want to make matches\n",
    "                I want you to find some matches for universities with courses in Mathemtics\n",
    "                Could you make some university matches for me? If possible, include universities in Italy\n",
    "                Make matches\n",
    "                Can you do some matches of universities? \n",
    "                \"\"\"\n",
    "\n",
    "response = synthetic_data_chain.invoke({\"k\": k, \"user_intentions\": user_intentions, \"target_task_intention\": intention, \"target_task_intention_description\": description})\n",
    "\n",
    "product_information_messages = []\n",
    "\n",
    "for message in response.messages:\n",
    "    product_information_messages.append({\"Intention\":intention, \"Message\":message.message})"
   ]
  },
  {
   "cell_type": "code",
   "execution_count": 16,
   "metadata": {},
   "outputs": [],
   "source": [
    "add_messages(product_information_messages, file_name)"
   ]
  },
  {
   "cell_type": "markdown",
   "metadata": {},
   "source": [
    "# Intention 4: Query Matches\n"
   ]
  },
  {
   "cell_type": "code",
   "execution_count": 17,
   "metadata": {},
   "outputs": [],
   "source": [
    "intention = \"query_matches\"\n",
    "\n",
    "\n",
    "description = \"\"\"The user has previously made the requests to make matches. Now the user wants to re-access the matches that have been previously made, so he can consult them again.\n",
    "                The prompt should be simple.\n",
    "\n",
    "                Example:\n",
    "                I want to search for my matches.\n",
    "                Can you tell me about my university matches?\n",
    "                Access matches.\n",
    "                Find the previously-made matches\n",
    "                \"\"\"\n",
    "\n",
    "response = synthetic_data_chain.invoke({\"k\": k, \"user_intentions\": user_intentions, \"target_task_intention\": intention, \"target_task_intention_description\": description})\n",
    "\n",
    "product_information_messages = []\n",
    "\n",
    "for message in response.messages:\n",
    "    product_information_messages.append({\"Intention\":intention, \"Message\":message.message})"
   ]
  },
  {
   "cell_type": "code",
   "execution_count": 18,
   "metadata": {},
   "outputs": [],
   "source": [
    "add_messages(product_information_messages, file_name)"
   ]
  },
  {
   "cell_type": "markdown",
   "metadata": {},
   "source": [
    "# Intention 5: Leverage RAG\n"
   ]
  },
  {
   "cell_type": "code",
   "execution_count": 19,
   "metadata": {},
   "outputs": [],
   "source": [
    "intention = \"leverage_rag\"\n",
    "\n",
    "\n",
    "description = \"\"\"The user has uploaded an external file (PDF or website link) and wants to do Q&A on it. The questions can be either general or specific, and the phrase usually starts by having declared that the file has been uploaded.\n",
    "\n",
    "                Example:\n",
    "                I have uploaded a PDF file. Can you tell me about the <...>?\n",
    "                I gave the link. What is the <...>?\n",
    "                You have the PDF file now. How is <...>?\n",
    "                You have access to the website link's contents. <...>?\n",
    "                \"\"\"\n",
    "\n",
    "response = synthetic_data_chain.invoke({\"k\": k, \"user_intentions\": user_intentions, \"target_task_intention\": intention, \"target_task_intention_description\": description})\n",
    "\n",
    "product_information_messages = []\n",
    "\n",
    "for message in response.messages:\n",
    "    product_information_messages.append({\"Intention\":intention, \"Message\":message.message})"
   ]
  },
  {
   "cell_type": "code",
   "execution_count": 20,
   "metadata": {},
   "outputs": [],
   "source": [
    "add_messages(product_information_messages, file_name)"
   ]
  },
  {
   "cell_type": "markdown",
   "metadata": {},
   "source": [
    "# Intention 6: Company Information"
   ]
  },
  {
   "cell_type": "code",
   "execution_count": 21,
   "metadata": {},
   "outputs": [],
   "source": [
    "intention = \"company_info\"\n",
    "\n",
    "\n",
    "description = \"\"\"The user wishes to know more about the company UniMatch. \\\n",
    "                The questions can include topics such as the company mission and values, its history, about its creators, about the chatbot, and other potential specific aspects.\n",
    "                \n",
    "                Examples:\n",
    "                What is UniMatch?\n",
    "                Who are the founders of UniMatch?\n",
    "                What is this company about?\n",
    "                Tell me about this product.\n",
    "                Describe UniMatch for me.\n",
    "                Explain me about the origin of UniMatch.\n",
    "                \"\"\"\n",
    "\n",
    "response = synthetic_data_chain.invoke({\"k\": k, \"user_intentions\": user_intentions, \"target_task_intention\": intention, \"target_task_intention_description\": description})\n",
    "\n",
    "product_information_messages = []\n",
    "\n",
    "for message in response.messages:\n",
    "    product_information_messages.append({\"Intention\":intention, \"Message\":message.message})"
   ]
  },
  {
   "cell_type": "code",
   "execution_count": 22,
   "metadata": {},
   "outputs": [],
   "source": [
    "add_messages(product_information_messages, file_name)"
   ]
  },
  {
   "cell_type": "markdown",
   "metadata": {},
   "source": [
    "# No Intention: None"
   ]
  },
  {
   "cell_type": "code",
   "execution_count": 23,
   "metadata": {},
   "outputs": [],
   "source": [
    "system_prompt = \"\"\"\n",
    "You are tasked with generating synthetic user messages.\n",
    "\n",
    "The user intentions are:\n",
    "{user_intentions}\n",
    "\n",
    "Your task is to create {k} distinct messages completely unrelated to the available user intentions.\n",
    "These messages should be generic and not related to any specific task or intention.\n",
    "The user is engaging in casual conversation.\n",
    "The user might ask general questions, share opinions, or express emotions. \n",
    "The user might also ask for totaly none related questions to the platform. \n",
    "The user might ask general questions, share opinions, or express emotions.\n",
    "\n",
    "Follow these guidelines:\n",
    "1. Focus exclusively on not being related to any of the user intentions.\n",
    "2. Each message should be between 5 and 20 words.\n",
    "3. Avoid including any details or references to other user intentions.\n",
    "4. Ensure the messages sound natural and typical of user queries for the given intention.\n",
    "5. Follow the provided format strictly to maintain consistency.\n",
    "\n",
    "Message format:\n",
    "{format_instructions}\n",
    "\"\"\""
   ]
  },
  {
   "cell_type": "code",
   "execution_count": 24,
   "metadata": {},
   "outputs": [],
   "source": [
    "prompt = PromptTemplate(\n",
    "    template=system_prompt,\n",
    "    input_variables=[\"k\", \"user_intentions\"],\n",
    "    partial_variables={\"format_instructions\": output_parser.get_format_instructions()},\n",
    ")\n",
    "\n",
    "synthetic_data_chain = prompt | llm | output_parser"
   ]
  },
  {
   "cell_type": "code",
   "execution_count": 25,
   "metadata": {},
   "outputs": [],
   "source": [
    "response = synthetic_data_chain.invoke({\"k\": (k//2), \"user_intentions\": user_intentions})\n",
    "\n",
    "none_related_messages = []\n",
    "\n",
    "for message in response.messages:\n",
    "    none_related_messages.append({\"Intention\":\"None\", \"Message\":message.message})"
   ]
  },
  {
   "cell_type": "code",
   "execution_count": 26,
   "metadata": {},
   "outputs": [],
   "source": [
    "add_messages(none_related_messages, file_name)"
   ]
  },
  {
   "cell_type": "markdown",
   "metadata": {},
   "source": [
    "## Add Examples as Manually-defined Intentions"
   ]
  },
  {
   "cell_type": "code",
   "execution_count": 27,
   "metadata": {},
   "outputs": [
    {
     "data": {
      "text/plain": [
       "['manage_personal_information',\n",
       " 'search_scholarships_and_internationals',\n",
       " 'search_universities',\n",
       " 'matchmaking',\n",
       " 'query_matches',\n",
       " 'leverage_rag',\n",
       " 'company_info']"
      ]
     },
     "execution_count": 27,
     "metadata": {},
     "output_type": "execute_result"
    }
   ],
   "source": [
    "user_intentions"
   ]
  },
  {
   "cell_type": "code",
   "execution_count": 28,
   "metadata": {},
   "outputs": [],
   "source": [
    "examples = {\n",
    "    'manage_personal_information': [\n",
    "        \"I want to change my username to UrgedSpice456\",\n",
    "        \"Can you change my password to !df@3d?\",\n",
    "        \"Would it be possible to modify my age to 23?\",\n",
    "        \"Change Country to Italy\",\n",
    "        \"Modify my user preferences; now I prefer to study in big cities and to study in a friendly environment.\",\n",
    "        \"Can you tell me about myself?\",\n",
    "        \"What are my preferences?\",\n",
    "        \"Who am I?\",\n",
    "        \"What is my age?\",\n",
    "        \"Can you describe my user preferences?\",\n",
    "        \"Can you tell me my name?\"],\n",
    "    'search_universities':\n",
    "    [\n",
    "        \"Can you recommend me some good universities in Italy?\",\n",
    "        \"Do you have any universities with courses in Artificial Intelligence?\",\n",
    "        \"Find me some universities specializing in Economics\",\n",
    "        \"Search for courses with topics in Philosophy\",\n",
    "        \"Are there courses with subjects in Ethics?\"\n",
    "    ],\n",
    "    'search_scholarships_and_internationals':\n",
    "    [\n",
    "        \"Do you have any scholarships for students in liberal arts?\",\n",
    "        \"Do you know of any universities with scholarships in University of Trieste?\",\n",
    "        \"Can you find me universities with international opportunities in Vienna?\",\n",
    "        \"Are there any international opportunities in Lisboa?\",\n",
    "        \"Can you find scholarships for STEM students?\",\n",
    "        \"Find some universities with scholarships at Budapest\" \n",
    "    ],\n",
    "    'matchmaking':\n",
    "[\n",
    "    \"I want to make matches\",\n",
    "    \"I want you to find some matches for universities with courses in Mathematics\",\n",
    "    \"Could you make some university matches for me? If possible, include universities in Italy\",\n",
    "    \"Make matches\",\n",
    "    \"Can you do some matches of universities?\"\n",
    "],\n",
    "\n",
    "    'query_matches':[\n",
    "        \"I want to search for my matches.\",\n",
    "        \"Can you tell me about my university matches?\",\n",
    "        \"Access matches.\",\n",
    "        \"Find the previously-made matches\"\n",
    "    ],\n",
    "    'leverage_rag':\n",
    "[\n",
    "    \"I have uploaded a PDF file. Can you tell me about the courses?\",\n",
    "    \"I gave the link. What is the tution fee of the course in Mathematics?\",\n",
    "    \"You have the PDF file now. How is the course programme structured?\",\n",
    "    \"You have access to the website link's contents. What is the selling point of the campus?\"\n",
    "],\n",
    "    'company_info': \n",
    "[\n",
    "    \"What is UniMatch?\",\n",
    "    \"Who are the founders of UniMatch?\",\n",
    "    \"What is this company about?\",\n",
    "    \"Tell me about this product.\",\n",
    "    \"Describe UniMatch for me.\",\n",
    "    \"Explain me about the origin of UniMatch.\" ]}"
   ]
  },
  {
   "cell_type": "code",
   "execution_count": 44,
   "metadata": {},
   "outputs": [],
   "source": [
    "total = []"
   ]
  },
  {
   "cell_type": "code",
   "execution_count": 45,
   "metadata": {},
   "outputs": [],
   "source": [
    "id = 0\n",
    "real_file = 'new_intentions.json'"
   ]
  },
  {
   "cell_type": "code",
   "execution_count": 47,
   "metadata": {},
   "outputs": [],
   "source": [
    "for example in examples:\n",
    "    for x in examples[example]:\n",
    "        total.append({\"Intention\": example, \"Message\": x, \"Id\": id})\n",
    "        id += 1"
   ]
  },
  {
   "cell_type": "code",
   "execution_count": 49,
   "metadata": {},
   "outputs": [],
   "source": [
    "add_messages(total, real_file)"
   ]
  },
  {
   "cell_type": "code",
   "execution_count": null,
   "metadata": {},
   "outputs": [],
   "source": []
  }
 ],
 "metadata": {
  "kernelspec": {
   "display_name": "base",
   "language": "python",
   "name": "python3"
  },
  "language_info": {
   "codemirror_mode": {
    "name": "ipython",
    "version": 3
   },
   "file_extension": ".py",
   "mimetype": "text/x-python",
   "name": "python",
   "nbconvert_exporter": "python",
   "pygments_lexer": "ipython3",
   "version": "3.12.7"
  }
 },
 "nbformat": 4,
 "nbformat_minor": 2
}
